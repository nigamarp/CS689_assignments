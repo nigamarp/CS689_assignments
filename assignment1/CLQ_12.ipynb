{
 "cells": [
  {
   "cell_type": "code",
   "execution_count": 38,
   "id": "4a2b72ce",
   "metadata": {},
   "outputs": [],
   "source": [
    "# file= open('hi_100.txt','r')\n",
    "# content = file.read()\n",
    "# file.close()\n",
    "# token=content\n",
    "content=['अमरकंठक','श्रद्धा','संपत्ति']\n",
    "# content=content.split()"
   ]
  },
  {
   "cell_type": "code",
   "execution_count": 39,
   "id": "d1c45ea4",
   "metadata": {},
   "outputs": [],
   "source": [
    "consonants=['क', 'ख', 'ग', 'घ', 'ङ', 'च', 'छ', \n",
    "            'ज', 'झ', 'ञ', 'ट', 'ठ', 'ड', 'ढ', \n",
    "            'ण', 'त', 'थ', 'द', 'ध', 'न', 'प', \n",
    "            'फ', 'ब', 'भ', 'म', 'य', 'र', 'ल',\n",
    "            'व', 'श', 'ष', 'स', 'ह']\n",
    "vowels=['अ', 'आ', 'इ', 'ई', 'उ', 'ऊ', 'ए', 'ऐ', 'ओ', 'औ']\n",
    "matras={'ा':'आ', 'ि':'इ', 'ी':'ई', 'ु':'उ', 'ू':'ऊ', 'े':'ए', 'ै':'ऐ', 'ो':'ओ', 'ौ':'औ', 'ं':'अं', 'ँ':'आँ'}"
   ]
  },
  {
   "cell_type": "markdown",
   "id": "f5a14d95",
   "metadata": {},
   "source": [
    "Below Function will calculate Bi_grams of Characters and Syllables"
   ]
  },
  {
   "cell_type": "code",
   "execution_count": 40,
   "id": "fad12ef2",
   "metadata": {},
   "outputs": [],
   "source": [
    "def bi_gram(Syllables):\n",
    "    Bi={}\n",
    "    for i in range(len(Syllables)):\n",
    "        for j in range(0,len(Syllables[i])-1):\n",
    "            if Syllables[i][j]+Syllables[i][j+1] not in Bi:Bi[Syllables[i][j]+Syllables[i][j+1]]=1\n",
    "            else:Bi[Syllables[i][j]+Syllables[i][j+1]]+=1\n",
    "    return Bi"
   ]
  },
  {
   "cell_type": "markdown",
   "id": "b4231f8d",
   "metadata": {},
   "source": [
    "Below Code Calculates the actual separation of words by characters"
   ]
  },
  {
   "cell_type": "code",
   "execution_count": 41,
   "id": "cdd30b8f",
   "metadata": {},
   "outputs": [
    {
     "name": "stdout",
     "output_type": "stream",
     "text": [
      "[['अ', 'म्', 'अ', 'र्', 'अ', 'क्', 'अं', 'ठ्', 'अ', 'क्', 'अ'], ['श्', 'र्', 'अ', 'द्', 'ध्', 'आ'], ['स्', 'अं', 'प्', 'अ', 'त्', 'त्', 'इ']]\n"
     ]
    }
   ],
   "source": [
    "Varna_viched=[]\n",
    "for word in content:\n",
    "    temp=list()\n",
    "    index=-1\n",
    "    for ch in word:\n",
    "        index+=1\n",
    "        if ch in consonants:\n",
    "            temp.append(ch+'्')\n",
    "            if index+1>=len(word) or word[index+1] in consonants:\n",
    "                temp.append('अ')\n",
    "        elif ch in vowels:\n",
    "            temp.append(ch)\n",
    "        elif ch in matras:\n",
    "            temp.append(matras[ch])\n",
    "    if len(temp)!=0:\n",
    "        Varna_viched.append(temp)\n",
    "print(Varna_viched)"
   ]
  },
  {
   "cell_type": "markdown",
   "id": "0bb35ff5",
   "metadata": {},
   "source": [
    "Below Code Calculates Syllables of the words"
   ]
  },
  {
   "cell_type": "code",
   "execution_count": 42,
   "id": "c2738a83",
   "metadata": {},
   "outputs": [
    {
     "name": "stdout",
     "output_type": "stream",
     "text": [
      "[['अ', 'म', 'र', 'कं', 'ठ', 'क'], ['श्र', 'द्धा'], ['सं', 'प', 'त्ति']]\n"
     ]
    }
   ],
   "source": [
    "Syllables=[]\n",
    "for Shabda in content:\n",
    "    Syllable=[]\n",
    "    temp=str()\n",
    "    index=-1\n",
    "    for Varna in Shabda:\n",
    "        index+=1\n",
    "        if Varna in matras:\n",
    "            temp+=Varna\n",
    "            if index+1<len(Shabda) and Shabda[index+1] in matras:\n",
    "              continue\n",
    "            Syllable.append(temp)\n",
    "            temp=str()\n",
    "        elif Varna in consonants:\n",
    "            if index+1<len(Shabda) and (Shabda[index+1] in matras or Shabda[index+1]=='्'):\n",
    "                temp+=Varna\n",
    "                continue\n",
    "            else:\n",
    "                temp+=Varna\n",
    "                Syllable.append(temp)\n",
    "                temp=str()\n",
    "        elif Varna in vowels:\n",
    "            temp+=Varna\n",
    "            Syllable.append(temp)\n",
    "            temp=str()\n",
    "        elif Varna=='्':temp+=Varna\n",
    "    Syllables.append(Syllable)\n",
    "print(Syllables)"
   ]
  },
  {
   "cell_type": "markdown",
   "id": "9e024439",
   "metadata": {},
   "source": [
    "Below Code Stores and then prints Top-20 Characters in descending order by their frequency"
   ]
  },
  {
   "cell_type": "code",
   "execution_count": 45,
   "id": "2193b44e",
   "metadata": {},
   "outputs": [
    {
     "name": "stdout",
     "output_type": "stream",
     "text": [
      "अ: 7\n",
      "र्: 2\n",
      "क्: 2\n",
      "अं: 2\n",
      "त्: 2\n",
      "म्: 1\n",
      "ठ्: 1\n",
      "श्: 1\n",
      "द्: 1\n",
      "ध्: 1\n",
      "आ: 1\n",
      "स्: 1\n",
      "प्: 1\n",
      "इ: 1\n"
     ]
    }
   ],
   "source": [
    "freq={}\n",
    "for shabda in Varna_viched:\n",
    "    for varna in shabda:\n",
    "        if varna not in freq:\n",
    "            freq[varna]=1\n",
    "        else:freq[varna]+=1\n",
    "freq = dict(sorted(freq.items(),key=lambda item: item[1], reverse=True))\n",
    "count1=0\n",
    "for key, value in freq.items():\n",
    "    print(f\"{key}: {value}\")\n",
    "    count1+=1\n",
    "    if count1==20:break"
   ]
  },
  {
   "cell_type": "markdown",
   "id": "f554d6db",
   "metadata": {},
   "source": [
    "Below Code Stores and then prints Top-20 Syllables in descending order by their frequency"
   ]
  },
  {
   "cell_type": "code",
   "execution_count": 46,
   "id": "de7c2623",
   "metadata": {},
   "outputs": [
    {
     "name": "stdout",
     "output_type": "stream",
     "text": [
      "अ: 1\n",
      "म: 1\n",
      "र: 1\n",
      "कं: 1\n",
      "ठ: 1\n",
      "क: 1\n",
      "श्र: 1\n",
      "द्धा: 1\n",
      "सं: 1\n",
      "प: 1\n",
      "त्ति: 1\n"
     ]
    }
   ],
   "source": [
    "avritti={}\n",
    "for shabdansh in Syllables:\n",
    "    for syll in shabdansh:\n",
    "      if syll not in avritti:\n",
    "        avritti[syll]=1\n",
    "      else:avritti[syll]+=1\n",
    "avritti=dict(sorted(avritti.items(),key=lambda item: item[1], reverse=True))\n",
    "count2=0\n",
    "for key, value in avritti.items():\n",
    "    print(f\"{key}: {value}\")\n",
    "    count2+=1\n",
    "    if count2==20:break"
   ]
  },
  {
   "cell_type": "markdown",
   "id": "1afd14f4",
   "metadata": {},
   "source": [
    "Below Code prints Top-20 bigrams of characters by frequency"
   ]
  },
  {
   "cell_type": "code",
   "execution_count": 47,
   "id": "3302fd09",
   "metadata": {},
   "outputs": [
    {
     "name": "stdout",
     "output_type": "stream",
     "text": [
      "र्अ: 2\n",
      "अक्: 2\n",
      "अम्: 1\n",
      "म्अ: 1\n",
      "अर्: 1\n",
      "क्अं: 1\n",
      "अंठ्: 1\n",
      "ठ्अ: 1\n",
      "क्अ: 1\n",
      "श्र्: 1\n",
      "अद्: 1\n",
      "द्ध्: 1\n",
      "ध्आ: 1\n",
      "स्अं: 1\n",
      "अंप्: 1\n",
      "प्अ: 1\n",
      "अत्: 1\n",
      "त्त्: 1\n",
      "त्इ: 1\n"
     ]
    }
   ],
   "source": [
    "freq_bi_ch=bi_gram(Varna_viched)\n",
    "freq_bi_ch = dict(sorted(freq_bi_ch.items(),key=lambda item: item[1], reverse=True))\n",
    "count_ch=0\n",
    "for key, value in freq_bi_ch.items():\n",
    "    print(f\"{key}: {value}\")\n",
    "    count_ch+=1\n",
    "    if count_ch==20:break"
   ]
  },
  {
   "cell_type": "markdown",
   "id": "1fb98474",
   "metadata": {},
   "source": [
    "Below Code prints Top-20 bigrams of syllables by frequency"
   ]
  },
  {
   "cell_type": "code",
   "execution_count": 48,
   "id": "b456db1f",
   "metadata": {},
   "outputs": [
    {
     "name": "stdout",
     "output_type": "stream",
     "text": [
      "अम: 1\n",
      "मर: 1\n",
      "रकं: 1\n",
      "कंठ: 1\n",
      "ठक: 1\n",
      "श्रद्धा: 1\n",
      "संप: 1\n",
      "पत्ति: 1\n"
     ]
    }
   ],
   "source": [
    "freq_bi_syll=bi_gram(Syllables)\n",
    "freq_bi_syll = dict(sorted(freq_bi_syll.items(),key=lambda item: item[1], reverse=True))\n",
    "count=0\n",
    "for key, value in freq_bi_syll.items():\n",
    "    print(f\"{key}: {value}\")\n",
    "    count+=1\n",
    "    if count==20:break"
   ]
  }
 ],
 "metadata": {
  "kernelspec": {
   "display_name": "Python 3 (ipykernel)",
   "language": "python",
   "name": "python3"
  },
  "language_info": {
   "codemirror_mode": {
    "name": "ipython",
    "version": 3
   },
   "file_extension": ".py",
   "mimetype": "text/x-python",
   "name": "python",
   "nbconvert_exporter": "python",
   "pygments_lexer": "ipython3",
   "version": "3.10.5"
  }
 },
 "nbformat": 4,
 "nbformat_minor": 5
}
