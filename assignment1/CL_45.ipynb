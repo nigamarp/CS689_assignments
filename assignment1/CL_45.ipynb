{
 "cells": [
  {
   "cell_type": "markdown",
   "id": "f2bf13e8",
   "metadata": {},
   "source": [
    "Below Function cleans the string given to it so that only Devanagari letters remain"
   ]
  },
  {
   "cell_type": "code",
   "execution_count": 1,
   "id": "4cad0300",
   "metadata": {},
   "outputs": [],
   "source": [
    "def clean(contents):\n",
    "    cleaned=\"\"\n",
    "    vowels = ['अ', 'आ', 'इ', 'ई', 'उ', 'ऊ', 'ऋ', 'ए', 'ऐ', 'ओ', 'औ', 'अं', 'अः', 'अँ']\n",
    "    matra = ['ा', 'ि', 'ी', 'ु', 'ू', 'े', 'ो', 'ै', 'ौ', 'ृ', 'ॄ', 'ॉ', 'ं','्','ँ']\n",
    "    consonants = ['क', 'ख', 'ग', 'घ', 'ङ', 'च', 'छ', 'ज', 'झ', 'ञ',\n",
    "        'ट', 'ठ', 'ड', 'ढ', 'ण', 'त', 'थ', 'द', 'ध', 'न',\n",
    "        'प', 'फ', 'ब', 'भ', 'म', 'य', 'र', 'ल', 'व', 'श',\n",
    "        'ष', 'स', 'ह', 'ळ', 'क्ष', 'ज्ञ']\n",
    "    mapping= {'ा': 'आ', 'ि': 'इ', 'ी': 'ई', 'ु': 'उ', 'ू': 'ऊ', 'ृ': 'ऋ', 'ॄ': 'ॠ', 'ॅ': 'ऍ', 'े': 'ए', 'ै': 'ऐ', 'ो': 'ओ', 'ौ': 'औ', 'ं': 'अं', 'ः': 'अः', 'ँ': 'अँ'}\n",
    "    for i in contents:\n",
    "        if i in vowels or i in matra or i in consonants or i in mapping or i==' ':\n",
    "            cleaned+=i\n",
    "    return cleaned"
   ]
  },
  {
   "cell_type": "code",
   "execution_count": 3,
   "id": "d0814036",
   "metadata": {},
   "outputs": [],
   "source": [
    "import sentencepiece as spm\n",
    "file=open('hi_100.txt', 'r')\n",
    "contents = file.read()\n",
    "contents=clean(contents)\n",
    "file.close()\n",
    "consonants=['क', 'ख', 'ग', 'घ', 'ङ', 'च', 'छ',\n",
    "              'ज', 'झ', 'ञ', 'ट', 'ठ', 'ड', 'ढ',\n",
    "              'ण', 'त', 'थ', 'द', 'ध', 'न', 'प',\n",
    "              'फ', 'ब', 'भ', 'म', 'य', 'र', 'ल',\n",
    "              'व', 'श', 'ष', 'स', 'ह']\n",
    "vowels=['अ', 'आ', 'इ', 'ई', 'उ', 'ऊ', 'ए', 'ऐ', 'ओ', 'औ']\n",
    "matras={'ा':'आ', 'ि':'इ', 'ी':'ई', 'ु':'उ', 'ू':'ऊ', 'े':'ए', 'ै':'ऐ', 'ो':'ओ', 'ौ':'औ', 'ं':'अं', 'ँ':'आँ'}"
   ]
  },
  {
   "cell_type": "markdown",
   "id": "503a76b4",
   "metadata": {},
   "source": [
    "Below Function gives bigrams of a list of lists(Character and Syllables)"
   ]
  },
  {
   "cell_type": "code",
   "execution_count": 4,
   "id": "8425b433",
   "metadata": {},
   "outputs": [],
   "source": [
    "def bi_gram(Syllables):\n",
    "    Bi=[]\n",
    "    for i in range(len(Syllables)):\n",
    "        for j in range(0,len(Syllables[i])-1):\n",
    "            Bi.append(Syllables[i][j]+Syllables[i][j+1])\n",
    "    return Bi"
   ]
  },
  {
   "cell_type": "markdown",
   "id": "04b4d681",
   "metadata": {},
   "source": [
    "Below Function gives bigrams of a list of strings(Tokens)"
   ]
  },
  {
   "cell_type": "code",
   "execution_count": 5,
   "id": "878a5bd6",
   "metadata": {},
   "outputs": [],
   "source": [
    "def bi_gram_token(tokens):\n",
    "    Bi=[]\n",
    "    for i in range(0,len(tokens)-1):\n",
    "        Bi.append(tokens[i]+tokens[i+1])\n",
    "    return Bi"
   ]
  },
  {
   "cell_type": "markdown",
   "id": "71799adf",
   "metadata": {},
   "source": [
    "Below Function gives frequency dictionary of character and syllables(Sorted in descending order)"
   ]
  },
  {
   "cell_type": "code",
   "execution_count": 6,
   "id": "b0c712f1",
   "metadata": {},
   "outputs": [],
   "source": [
    "def freq_char_syll(Varna_viched):\n",
    "  freq={}\n",
    "  for shabda in Varna_viched:\n",
    "      for varna in shabda:\n",
    "          if varna not in freq:\n",
    "              freq[varna]=1\n",
    "          else:freq[varna]+=1\n",
    "  freq=dict(sorted(freq.items(),key=lambda item: item[1], reverse=True))\n",
    "  return freq"
   ]
  },
  {
   "cell_type": "markdown",
   "id": "4d2b764d",
   "metadata": {},
   "source": [
    "Below Function gives frequency dictionary of Tokens(Sorted in descending order)"
   ]
  },
  {
   "cell_type": "code",
   "execution_count": 7,
   "id": "0e4dc166",
   "metadata": {},
   "outputs": [],
   "source": [
    "def freq_token(Syllables):\n",
    "  avritti={}\n",
    "  for shabdansh in Syllables:\n",
    "    if shabdansh not in avritti:\n",
    "      avritti[shabdansh]=1\n",
    "    else:avritti[shabdansh]+=1\n",
    "  avritti=dict(sorted(avritti.items(),key=lambda item: item[1], reverse=True))\n",
    "  return avritti"
   ]
  },
  {
   "cell_type": "markdown",
   "id": "2daec1d8",
   "metadata": {},
   "source": [
    "Below Function gives Character Separations of a list of words(tokens)"
   ]
  },
  {
   "cell_type": "code",
   "execution_count": 8,
   "id": "22540fac",
   "metadata": {},
   "outputs": [],
   "source": [
    "def Char_sep(tokens):\n",
    "  Varna_viched=[]\n",
    "  for word in tokens:\n",
    "      temp=list()\n",
    "      index=-1\n",
    "      for ch in word:\n",
    "          index+=1\n",
    "          if ch in consonants:\n",
    "              temp.append(ch+'्')\n",
    "              if index+1>=len(word) or word[index+1] in consonants:\n",
    "                  temp.append('अ')\n",
    "          elif ch in vowels:\n",
    "              temp.append(ch)\n",
    "          elif ch in matras:\n",
    "              temp.append(matras[ch])\n",
    "      if len(temp)!=0:\n",
    "          Varna_viched.append(temp)\n",
    "  return Varna_viched"
   ]
  },
  {
   "cell_type": "markdown",
   "id": "da1d3796",
   "metadata": {},
   "source": [
    "Below Function gives syllables of list of Words(Tokens)"
   ]
  },
  {
   "cell_type": "code",
   "execution_count": 9,
   "id": "95ca8255",
   "metadata": {},
   "outputs": [],
   "source": [
    "def Char_comb(tokens):\n",
    "  Syllables=[]\n",
    "  for Shabda in tokens:\n",
    "      Syllable=[]\n",
    "      temp=str()\n",
    "      index=-1\n",
    "      for Varna in Shabda:\n",
    "        index+=1\n",
    "        if Varna in matras:\n",
    "            if len(temp)==0:\n",
    "              Syllable.append(matras[Varna])\n",
    "              continue\n",
    "            temp+=Varna\n",
    "            if index+1<len(Shabda) and Shabda[index+1] in matras:\n",
    "              continue\n",
    "            Syllable.append(temp)\n",
    "            temp=str()\n",
    "        elif Varna in consonants:\n",
    "            if index+1<len(Shabda) and (Shabda[index+1] in matras or Shabda[index+1]=='्'):\n",
    "                temp+=Varna\n",
    "                continue\n",
    "            else:\n",
    "                temp+=Varna\n",
    "                Syllable.append(temp)\n",
    "                temp=str()\n",
    "        elif Varna in vowels:\n",
    "            temp+=Varna\n",
    "            Syllable.append(temp)\n",
    "            temp=str()\n",
    "        elif Varna=='्':\n",
    "          if len(temp)!=0:\n",
    "            temp+=Varna\n",
    "      if len(Syllable)!=0:\n",
    "          Syllables.append(Syllable)\n",
    "  for i in range(len(Syllables)):\n",
    "    for j in range(len(Syllables[i])):\n",
    "        if Syllables[i][j] in matras:\n",
    "          Syllables[i][j]=matras[Syllables[i][j]]\n",
    "  return Syllables"
   ]
  },
  {
   "cell_type": "markdown",
   "id": "ec8d5771",
   "metadata": {},
   "source": [
    "# Unigram Model"
   ]
  },
  {
   "cell_type": "code",
   "execution_count": 106,
   "id": "5fa53094",
   "metadata": {},
   "outputs": [],
   "source": [
    "model_prefix = \"hindi_unigram\"\n",
    "# Train the tokenizer\n",
    "spm.SentencePieceTrainer.train(input=\"hi_100.txt\", model_prefix=\"hindi_unigram\", vocab_size=1000, model_type=\"unigram\")\n",
    "\n",
    "# Load the trained tokenizer\n",
    "sp = spm.SentencePieceProcessor()\n",
    "sp.load(f\"{model_prefix}.model\")\n",
    "\n",
    "# Tokenize text\n",
    "def unigram(contents):\n",
    "    tokens = sp.encode_as_pieces(contents)\n",
    "    return tokens"
   ]
  },
  {
   "cell_type": "markdown",
   "id": "d8bb82d4",
   "metadata": {},
   "source": [
    "We are now printing Top-20 Tokens ordered by their Frequency"
   ]
  },
  {
   "cell_type": "code",
   "execution_count": 107,
   "id": "2766a790",
   "metadata": {},
   "outputs": [
    {
     "name": "stdout",
     "output_type": "stream",
     "text": [
      "र: 457469 ; के: 356551 ; न: 354468 ; ल: 287236 ; म: 263003 ; ा: 251101 ; में: 240170 ; क: 226671 ; ने: 223582 ; की: 220818 ; स: 218435 ; है: 215772 ; ी: 203087 ; प: 188819 ; का: 188468 ; े: 186255 ; त: 183457 ; से: 181526 ; को: 168958 ; ज: 167971 ; "
     ]
    }
   ],
   "source": [
    "tokens_unigram=unigram(contents)\n",
    "for i in range(len(tokens_unigram)):\n",
    "        tokens_unigram[i]=clean(tokens_unigram[i])\n",
    "temp=[]\n",
    "for i in tokens_unigram:\n",
    "    if len(i)!=0:\n",
    "        temp.append(i)\n",
    "tokens_unigram=temp\n",
    "freq_token_unigram=freq_token(tokens_unigram)\n",
    "count=0\n",
    "for key, value in freq_token_unigram.items():\n",
    "    print(f\"{key}: {value}\",end=\" ; \")\n",
    "    count+=1\n",
    "    if count==20:break"
   ]
  },
  {
   "cell_type": "markdown",
   "id": "799e4b6b",
   "metadata": {},
   "source": [
    "We are now printing Top-20 Characters ordered by their Frequency"
   ]
  },
  {
   "cell_type": "code",
   "execution_count": 108,
   "id": "253ae3d8",
   "metadata": {},
   "outputs": [
    {
     "name": "stdout",
     "output_type": "stream",
     "text": [
      "अ: 9292161 ; आ: 2991109 ; ए: 2318442 ; क्: 2219964 ; र्: 2115649 ; ई: 1460305 ; इ: 1432973 ; न्: 1334448 ; स्: 1283708 ; अं: 1201207 ; ह्: 1133159 ; म्: 1053237 ; त्: 980066 ; ल्: 919917 ; ओ: 896588 ; प्: 805896 ; य्: 752819 ; व्: 624743 ; द्: 607633 ; उ: 587149 ; "
     ]
    }
   ],
   "source": [
    "freq_char_unigram=freq_char_syll(Char_sep(tokens_unigram))\n",
    "count1=0\n",
    "for key, value in freq_char_unigram.items():\n",
    "    print(f\"{key}: {value}\",end=\" ; \")\n",
    "    count1+=1\n",
    "    if count1==20:break"
   ]
  },
  {
   "cell_type": "markdown",
   "id": "ed2ed4ad",
   "metadata": {},
   "source": [
    "We are now printing Top-20 Syllables ordered by their Frequency"
   ]
  },
  {
   "cell_type": "code",
   "execution_count": 109,
   "id": "53fa32e3",
   "metadata": {},
   "outputs": [
    {
     "name": "stdout",
     "output_type": "stream",
     "text": [
      "र: 1290207 ; क: 703020 ; न: 646780 ; इ: 615267 ; स: 596567 ; ए: 588796 ; आ: 548671 ; अं: 525803 ; प: 472955 ; ल: 456795 ; म: 439880 ; त: 395406 ; के: 395223 ; ह: 359174 ; ई: 340971 ; ने: 323639 ; ओ: 321586 ; ग: 308923 ; ब: 302876 ; उ: 295000 ; "
     ]
    }
   ],
   "source": [
    "freq_syll_unigram=freq_char_syll(Char_comb(tokens_unigram))\n",
    "count2=0\n",
    "for key, value in freq_syll_unigram.items():\n",
    "    print(f\"{key}: {value}\",end=\" ; \")\n",
    "    count2+=1\n",
    "    if count2==20:break"
   ]
  },
  {
   "cell_type": "markdown",
   "id": "0f8dc0dd",
   "metadata": {},
   "source": [
    "We are now printing Top-20 Token's Bigrams ordered by their Frequency"
   ]
  },
  {
   "cell_type": "code",
   "execution_count": 111,
   "id": "639054d8",
   "metadata": {},
   "outputs": [
    {
     "name": "stdout",
     "output_type": "stream",
     "text": [
      "केलिए: 44258 ; हैकि: 25509 ; ोंके: 21777 ; इस: 20683 ; ोंमें: 19840 ; केसाथ: 19093 ; तेहैं: 17650 ; नेके: 17618 ; ोंको: 16955 ; केबाद: 16479 ; ताहै: 16219 ; कहाकि: 16077 ; नेकहा: 16027 ; रा: 15906 ; ार: 15630 ; नके: 14843 ; ोंने: 14822 ; री: 14428 ; रु: 14420 ; ोंकी: 14122 ; "
     ]
    }
   ],
   "source": [
    "tokens_bigram=bi_gram_token(tokens_unigram)\n",
    "freq_token_bigram=freq_token(tokens_bigram)\n",
    "count3=0\n",
    "for key, value in freq_token_bigram.items():\n",
    "    print(f\"{key}: {value}\",end=\" ; \")\n",
    "    count3+=1\n",
    "    if count3==20:break"
   ]
  },
  {
   "cell_type": "markdown",
   "id": "f1fe3777",
   "metadata": {},
   "source": [
    "We are now printing Top-20 Character Bigrams ordered by their Frequency"
   ]
  },
  {
   "cell_type": "code",
   "execution_count": 112,
   "id": "68e4d0c7",
   "metadata": {},
   "outputs": [
    {
     "name": "stdout",
     "output_type": "stream",
     "text": [
      "र्अ: 1495965 ; क्अ: 700696 ; न्अ: 641260 ; स्अ: 625773 ; प्अ: 481293 ; ल्अ: 465885 ; म्अ: 459007 ; अर्: 456617 ; त्अ: 449518 ; क्ए: 399923 ; ह्अ: 359174 ; य्अ: 340016 ; एअं: 332062 ; अह्: 330814 ; न्ए: 323639 ; ब्अ: 305505 ; क्आ: 301641 ; ज्अ: 301116 ; ह्ऐ: 295671 ; व्अ: 288538 ; "
     ]
    }
   ],
   "source": [
    "freq_char_bigram=bi_gram(Char_sep(tokens_unigram))\n",
    "freq_char_bigram=freq_token(freq_char_bigram)\n",
    "count4=0\n",
    "for key, value in freq_char_bigram.items():\n",
    "    print(f\"{key}: {value}\",end=\" ; \")\n",
    "    count4+=1\n",
    "    if count4==20:break"
   ]
  },
  {
   "cell_type": "markdown",
   "id": "4776aaaa",
   "metadata": {},
   "source": [
    "We are now printing Top-20 Syllable Bigrams ordered by their Frequency"
   ]
  },
  {
   "cell_type": "code",
   "execution_count": 113,
   "id": "383c7de6",
   "metadata": {},
   "outputs": [
    {
     "name": "stdout",
     "output_type": "stream",
     "text": [
      "कर: 170718 ; ओअं: 151325 ; और: 114768 ; पर: 112276 ; इस: 86087 ; इत: 64370 ; एअं: 64089 ; एक: 56554 ; इक: 52796 ; लिए: 52487 ; नहीं: 47243 ; अंग: 43181 ; कार: 43008 ; अप: 38659 ; आई: 36797 ; किया: 36584 ; कहा: 32725 ; सम: 32620 ; यह: 30683 ; गया: 30174 ; "
     ]
    }
   ],
   "source": [
    "freq_syll_bigram=bi_gram(Char_comb(tokens_unigram))\n",
    "freq_syll_bigram=freq_token(freq_syll_bigram)\n",
    "count5=0\n",
    "for key, value in freq_syll_bigram.items():\n",
    "    print(f\"{key}: {value}\",end=\" ; \")\n",
    "    count5+=1\n",
    "    if count5==20:break"
   ]
  },
  {
   "cell_type": "markdown",
   "id": "135c132b",
   "metadata": {},
   "source": [
    "# BPE Model (Vocab = 1k)"
   ]
  },
  {
   "cell_type": "code",
   "execution_count": 114,
   "id": "04a39be1",
   "metadata": {},
   "outputs": [],
   "source": [
    "model_prefix = \"hindi_unigram\"\n",
    "# Train the tokenizer\n",
    "spm.SentencePieceTrainer.train(input=\"hi_100.txt\", model_prefix=\"hindi_unigram\", vocab_size=1000, model_type=\"bpe\")\n",
    "\n",
    "# Load the trained tokenizer\n",
    "sp_bpe = spm.SentencePieceProcessor()\n",
    "sp_bpe.load(f\"{model_prefix}.model\")\n",
    "\n",
    "# Tokenize text\n",
    "def bpe_1k(contents):\n",
    "    tokens_bpe = sp_bpe.encode_as_pieces(contents)\n",
    "    return tokens_bpe"
   ]
  },
  {
   "cell_type": "markdown",
   "id": "eada806f",
   "metadata": {},
   "source": [
    "We are now printing Top-20 Tokens ordered by their Frequency"
   ]
  },
  {
   "cell_type": "code",
   "execution_count": 115,
   "id": "7808fcd8",
   "metadata": {},
   "outputs": [
    {
     "name": "stdout",
     "output_type": "stream",
     "text": [
      "के: 370832 ; में: 254079 ; न: 237234 ; म: 229152 ; की: 228444 ; क: 224602 ; है: 215097 ; स: 214960 ; प: 211377 ; ने: 210050 ; ल: 205377 ; त: 199691 ; ब: 184052 ; ज: 180208 ; व: 178093 ; से: 176137 ; र: 175285 ; को: 171753 ; का: 165747 ; द: 163142 ; "
     ]
    }
   ],
   "source": [
    "tokens_bpe1k=bpe_1k(contents)\n",
    "for i in range(len(tokens_bpe1k)):\n",
    "        tokens_bpe1k[i]=clean(tokens_bpe1k[i])\n",
    "temp=[]\n",
    "for i in tokens_bpe1k:\n",
    "    if len(i)!=0:\n",
    "        temp.append(i)\n",
    "tokens_bpe1k=temp\n",
    "freq_token_bpe1k=freq_token(tokens_bpe1k)\n",
    "count6=0\n",
    "for key, value in freq_token_bpe1k.items():\n",
    "    print(f\"{key}: {value}\",end=\" ; \")\n",
    "    count6+=1\n",
    "    if count6==20:break"
   ]
  },
  {
   "cell_type": "markdown",
   "id": "39215ce8",
   "metadata": {},
   "source": [
    "We are now printing Top-20 Characters ordered by their Frequency"
   ]
  },
  {
   "cell_type": "code",
   "execution_count": 116,
   "id": "641619e8",
   "metadata": {},
   "outputs": [
    {
     "name": "stdout",
     "output_type": "stream",
     "text": [
      "अ: 9467458 ; आ: 2991109 ; ए: 2318442 ; क्: 2219964 ; र्: 2115649 ; ई: 1460305 ; इ: 1432973 ; न्: 1334448 ; स्: 1283708 ; अं: 1201207 ; ह्: 1133159 ; म्: 1053237 ; त्: 980066 ; ल्: 919917 ; ओ: 896588 ; प्: 805896 ; य्: 752819 ; व्: 624743 ; द्: 607633 ; उ: 587149 ; "
     ]
    }
   ],
   "source": [
    "freq_char_bpe1k=freq_char_syll(Char_sep(tokens_bpe1k))\n",
    "count7=0\n",
    "for key, value in freq_char_bpe1k.items():\n",
    "    print(f\"{key}: {value}\",end=\" ; \")\n",
    "    count7+=1\n",
    "    if count7==20:break"
   ]
  },
  {
   "cell_type": "markdown",
   "id": "49f62979",
   "metadata": {},
   "source": [
    "We are now printing Top-20 Syllables ordered by their Frequency"
   ]
  },
  {
   "cell_type": "code",
   "execution_count": 117,
   "id": "cf089783",
   "metadata": {},
   "outputs": [
    {
     "name": "stdout",
     "output_type": "stream",
     "text": [
      "र: 1261695 ; आ: 727308 ; क: 725817 ; इ: 692621 ; न: 612164 ; स: 586132 ; ए: 551237 ; अं: 513644 ; प: 510170 ; म: 482374 ; ल: 465578 ; त: 419406 ; के: 393941 ; ह: 362088 ; ग: 334442 ; ने: 325974 ; ब: 324122 ; ओ: 313708 ; ज: 292696 ; य: 286330 ; "
     ]
    }
   ],
   "source": [
    "freq_syll_bpe1k=freq_char_syll(Char_comb(tokens_bpe1k))\n",
    "count8=0\n",
    "for key, value in freq_syll_bpe1k.items():\n",
    "    print(f\"{key}: {value}\",end=\" ; \")\n",
    "    count8+=1\n",
    "    if count8==20:break"
   ]
  },
  {
   "cell_type": "markdown",
   "id": "0afd0c52",
   "metadata": {},
   "source": [
    "We are now printing Top-20 Tokens Bigram ordered by their Frequency"
   ]
  },
  {
   "cell_type": "code",
   "execution_count": 118,
   "id": "8db89c94",
   "metadata": {},
   "outputs": [
    {
     "name": "stdout",
     "output_type": "stream",
     "text": [
      "केलिए: 45010 ; हैकि: 25815 ; इस: 21737 ; केसाथ: 19267 ; ोंके: 18003 ; केबाद: 17287 ; नेके: 17205 ; कहाकि: 16111 ; डा: 16064 ; ोंमें: 16041 ; तेहैं: 15849 ; ोंको: 14295 ; ताहै: 13192 ; नेकहा: 12382 ; रहाहै: 12011 ; ोंकी: 11534 ; सके: 11487 ; हैऔर: 11179 ; गयाहै: 11048 ; रहेहैं: 10182 ; "
     ]
    }
   ],
   "source": [
    "tokens_bpe1k_bigram=bi_gram_token(tokens_bpe1k)\n",
    "freq_token_bpe1k_bigram=freq_token(tokens_bpe1k_bigram)\n",
    "count9=0\n",
    "for key, value in freq_token_bpe1k_bigram.items():\n",
    "    print(f\"{key}: {value}\",end=\" ; \")\n",
    "    count9+=1\n",
    "    if count9==20:break"
   ]
  },
  {
   "cell_type": "markdown",
   "id": "e965eee2",
   "metadata": {},
   "source": [
    "We are now printing Top-20 Characters Bigram ordered by their Frequency"
   ]
  },
  {
   "cell_type": "code",
   "execution_count": 119,
   "id": "1a4bc585",
   "metadata": {},
   "outputs": [
    {
     "name": "stdout",
     "output_type": "stream",
     "text": [
      "र्अ: 1451551 ; क्अ: 716847 ; स्अ: 611733 ; न्अ: 609477 ; अर्: 545362 ; प्अ: 515579 ; म्अ: 500972 ; ल्अ: 465578 ; त्अ: 451395 ; क्ए: 393941 ; ह्अ: 374275 ; आर्: 361906 ; एअं: 351250 ; य्अ: 342926 ; न्ए: 325974 ; ब्अ: 324122 ; ग्अ: 304949 ; अह्: 302089 ; व्अ: 301230 ; ज्अ: 296765 ; "
     ]
    }
   ],
   "source": [
    "freq_char_bpe1k_bigram=bi_gram(Char_sep(tokens_bpe1k))\n",
    "freq_char_bpe1k_bigram=freq_token(freq_char_bpe1k_bigram)\n",
    "count10=0\n",
    "for key, value in freq_char_bpe1k_bigram.items():\n",
    "    print(f\"{key}: {value}\",end=\" ; \")\n",
    "    count10+=1\n",
    "    if count10==20:break"
   ]
  },
  {
   "cell_type": "markdown",
   "id": "c4a3e73b",
   "metadata": {},
   "source": [
    "We are now printing Top-20 Syllables Bigram ordered by their Frequency"
   ]
  },
  {
   "cell_type": "code",
   "execution_count": 120,
   "id": "efc7c9d6",
   "metadata": {},
   "outputs": [
    {
     "name": "stdout",
     "output_type": "stream",
     "text": [
      "कर: 182070 ; ओअं: 129605 ; और: 123354 ; पर: 113018 ; एअं: 79417 ; इस: 79242 ; इक: 69068 ; इत: 66500 ; कार: 60974 ; आर: 58103 ; लिए: 53882 ; आन: 52756 ; एक: 52271 ; अंग: 49942 ; आल: 48950 ; नहीं: 47219 ; अप: 46855 ; आय: 44172 ; सम: 39030 ; अंद: 36851 ; "
     ]
    }
   ],
   "source": [
    "freq_syll_bpe1k_bigram=bi_gram(Char_comb(tokens_bpe1k))\n",
    "freq_syll_bpe1k_bigram=freq_token(freq_syll_bpe1k_bigram)\n",
    "count11=0\n",
    "for key, value in freq_syll_bpe1k_bigram.items():\n",
    "    print(f\"{key}: {value}\",end=\" ; \")\n",
    "    count11+=1\n",
    "    if count11==20:break"
   ]
  },
  {
   "cell_type": "markdown",
   "id": "a179efbf",
   "metadata": {},
   "source": [
    "# BPE Model (Vocab Size=2k)"
   ]
  },
  {
   "cell_type": "code",
   "execution_count": 11,
   "id": "2cc5860e",
   "metadata": {},
   "outputs": [],
   "source": [
    "model_prefix = \"hindi_unigram\"\n",
    "# Train the tokenizer\n",
    "spm.SentencePieceTrainer.train(input=\"hi_100.txt\", model_prefix=\"hindi_unigram\", vocab_size=2000, model_type=\"bpe\")\n",
    "\n",
    "# Load the trained tokenizer\n",
    "sp_bpe2 = spm.SentencePieceProcessor()\n",
    "sp_bpe2.load(f\"{model_prefix}.model\")\n",
    "\n",
    "# Tokenize text\n",
    "def bpe_2k(contents):\n",
    "    tokens_bpe2 = sp_bpe2.encode_as_pieces(contents)\n",
    "    return tokens_bpe2"
   ]
  },
  {
   "cell_type": "markdown",
   "id": "0b10e55e",
   "metadata": {},
   "source": [
    "We are now printing Top-20 Tokens ordered by their Frequency"
   ]
  },
  {
   "cell_type": "code",
   "execution_count": 12,
   "id": "84cba938",
   "metadata": {},
   "outputs": [
    {
     "name": "stdout",
     "output_type": "stream",
     "text": [
      "के: 351330 ; में: 247089 ; की: 216147 ; है: 215097 ; ने: 179908 ; से: 166495 ; को: 165665 ; का: 150051 ; क: 140206 ; न: 127145 ; स: 120726 ; प: 119215 ; म: 119052 ; और: 114757 ; ब: 111145 ; पर: 106137 ; व: 102484 ; ल: 100856 ; कर: 95897 ; द: 95616 ; "
     ]
    }
   ],
   "source": [
    "tokens_bpe2k=bpe_2k(contents)\n",
    "for i in range(len(tokens_bpe2k)):\n",
    "        tokens_bpe2k[i]=clean(tokens_bpe2k[i])\n",
    "temp=[]\n",
    "for i in tokens_bpe2k:\n",
    "    if len(i)!=0:\n",
    "        temp.append(i)\n",
    "tokens_bpe2k=temp\n",
    "freq_token_bpe2k=freq_token(tokens_bpe2k)\n",
    "count6=0\n",
    "for key, value in freq_token_bpe2k.items():\n",
    "    print(f\"{key}: {value}\",end=\" ; \")\n",
    "    count6+=1\n",
    "    if count6==20:break"
   ]
  },
  {
   "cell_type": "markdown",
   "id": "a24ac05a",
   "metadata": {},
   "source": [
    "We are now printing Top-20 Characters ordered by their Frequency"
   ]
  },
  {
   "cell_type": "code",
   "execution_count": 122,
   "id": "e29ffa49",
   "metadata": {},
   "outputs": [
    {
     "name": "stdout",
     "output_type": "stream",
     "text": [
      "अ: 8595734 ; आ: 2991109 ; ए: 2318442 ; क्: 2219964 ; र्: 2115649 ; ई: 1460305 ; इ: 1432973 ; न्: 1334448 ; स्: 1283708 ; अं: 1201207 ; ह्: 1133159 ; म्: 1053237 ; त्: 980066 ; ल्: 919917 ; ओ: 896588 ; प्: 805896 ; य्: 752819 ; व्: 624743 ; द्: 607633 ; उ: 587149 ; "
     ]
    }
   ],
   "source": [
    "freq_char_bpe2k=freq_char_syll(Char_sep(tokens_bpe2k))\n",
    "count7=0\n",
    "for key, value in freq_char_bpe2k.items():\n",
    "    print(f\"{key}: {value}\",end=\" ; \")\n",
    "    count7+=1\n",
    "    if count7==20:break"
   ]
  },
  {
   "cell_type": "markdown",
   "id": "1217d0dc",
   "metadata": {},
   "source": [
    "We are now printing Top-20 Syllables ordered by their Frequency"
   ]
  },
  {
   "cell_type": "code",
   "execution_count": 123,
   "id": "16f13aeb",
   "metadata": {},
   "outputs": [
    {
     "name": "stdout",
     "output_type": "stream",
     "text": [
      "र: 1175222 ; क: 675391 ; न: 585150 ; स: 568449 ; आ: 534109 ; इ: 532368 ; प: 457312 ; ए: 439851 ; ल: 429864 ; अं: 422721 ; के: 397915 ; म: 397491 ; त: 371938 ; ह: 337523 ; ने: 325974 ; का: 297194 ; ब: 295646 ; ग: 295219 ; में: 259430 ; ज: 259216 ; "
     ]
    }
   ],
   "source": [
    "freq_syll_bpe2k=freq_char_syll(Char_comb(tokens_bpe2k))\n",
    "count8=0\n",
    "for key, value in freq_syll_bpe2k.items():\n",
    "    print(f\"{key}: {value}\",end=\" ; \")\n",
    "    count8+=1\n",
    "    if count8==20:break"
   ]
  },
  {
   "cell_type": "markdown",
   "id": "fd08a77a",
   "metadata": {},
   "source": [
    "We are now printing Top-20 Tokens Bigram ordered by their Frequency"
   ]
  },
  {
   "cell_type": "code",
   "execution_count": 13,
   "id": "f1dc66fe",
   "metadata": {},
   "outputs": [
    {
     "name": "stdout",
     "output_type": "stream",
     "text": [
      "केलिए: 44310 ; हैकि: 25654 ; केसाथ: 19086 ; केबाद: 16502 ; कहाकि: 16094 ; ोंके: 13984 ; ोंमें: 13283 ; नेकहा: 12098 ; नेके: 12034 ; रहाहै: 12011 ; हैऔर: 11179 ; गयाहै: 11048 ; ताहै: 10863 ; ोंको: 10425 ; रहेहैं: 10182 ; बढ: 9298 ; करनेके: 8847 ; रहीहै: 8751 ; हैइस: 8693 ; ोंकी: 8667 ; "
     ]
    }
   ],
   "source": [
    "tokens_bpe2k_bigram=bi_gram_token(tokens_bpe2k)\n",
    "freq_token_bpe2k_bigram=freq_token(tokens_bpe2k_bigram)\n",
    "count9=0\n",
    "for key, value in freq_token_bpe2k_bigram.items():\n",
    "    print(f\"{key}: {value}\",end=\" ; \")\n",
    "    count9+=1\n",
    "    if count9==20:break"
   ]
  },
  {
   "cell_type": "markdown",
   "id": "03315971",
   "metadata": {},
   "source": [
    "We are now printing Top-20 Characters Bigram ordered by their Frequency"
   ]
  },
  {
   "cell_type": "code",
   "execution_count": 14,
   "id": "f42677dc",
   "metadata": {},
   "outputs": [
    {
     "name": "stdout",
     "output_type": "stream",
     "text": [
      "र्अ: 1371645 ; क्अ: 667031 ; अर्: 635184 ; न्अ: 586020 ; स्अ: 585258 ; प्अ: 465403 ; म्अ: 434732 ; ल्अ: 432167 ; त्अ: 409561 ; क्ए: 402620 ; आर्: 367651 ; एअं: 351250 ; ह्अ: 347415 ; अह्: 337138 ; न्ए: 328526 ; य्अ: 326698 ; क्आ: 304471 ; ह्ऐ: 295671 ; य्आ: 291052 ; ब्अ: 289751 ; "
     ]
    }
   ],
   "source": [
    "freq_char_bpe2k_bigram=bi_gram(Char_sep(tokens_bpe2k))\n",
    "freq_char_bpe2k_bigram=freq_token(freq_char_bpe2k_bigram)\n",
    "count10=0\n",
    "for key, value in freq_char_bpe2k_bigram.items():\n",
    "    print(f\"{key}: {value}\",end=\" ; \")\n",
    "    count10+=1\n",
    "    if count10==20:break"
   ]
  },
  {
   "cell_type": "markdown",
   "id": "8cf46e3e",
   "metadata": {},
   "source": [
    "We are now printing Top-20 Syllables Bigram ordered by their Frequency"
   ]
  },
  {
   "cell_type": "code",
   "execution_count": 15,
   "id": "274ad82e",
   "metadata": {},
   "outputs": [
    {
     "name": "stdout",
     "output_type": "stream",
     "text": [
      "कर: 175692 ; और: 119482 ; पर: 107910 ; ओअं: 107767 ; इस: 99058 ; एअं: 58259 ; लिए: 53882 ; एक: 52271 ; कार: 52173 ; नहीं: 47219 ; इत: 46969 ; इक: 46347 ; अप: 45002 ; आर: 38983 ; किया: 36428 ; सम: 34900 ; अंग: 34829 ; आय: 32775 ; सर: 31437 ; कहा: 30937 ; "
     ]
    }
   ],
   "source": [
    "freq_syll_bpe2k_bigram=bi_gram(Char_comb(tokens_bpe2k))\n",
    "freq_syll_bpe2k_bigram=freq_token(freq_syll_bpe2k_bigram)\n",
    "count11=0\n",
    "for key, value in freq_syll_bpe2k_bigram.items():\n",
    "    print(f\"{key}: {value}\",end=\" ; \")\n",
    "    count11+=1\n",
    "    if count11==20:break"
   ]
  },
  {
   "cell_type": "markdown",
   "id": "8f984dd3",
   "metadata": {},
   "source": [
    "# mBERT Model (Max_length=1k)"
   ]
  },
  {
   "cell_type": "code",
   "execution_count": 17,
   "id": "ede41bd3",
   "metadata": {},
   "outputs": [
    {
     "name": "stderr",
     "output_type": "stream",
     "text": [
      "c:\\Users\\hp\\AppData\\Local\\Programs\\Python\\Python310\\lib\\site-packages\\tqdm\\auto.py:21: TqdmWarning: IProgress not found. Please update jupyter and ipywidgets. See https://ipywidgets.readthedocs.io/en/stable/user_install.html\n",
      "  from .autonotebook import tqdm as notebook_tqdm\n",
      "Downloading tokenizer_config.json: 100%|██████████| 49.0/49.0 [00:00<?, ?B/s]\n",
      "c:\\Users\\hp\\AppData\\Local\\Programs\\Python\\Python310\\lib\\site-packages\\huggingface_hub\\file_download.py:137: UserWarning: `huggingface_hub` cache-system uses symlinks by default to efficiently store duplicated files but your machine does not support them in C:\\Users\\hp\\.cache\\huggingface\\hub. Caching files will still work but in a degraded version that might require more space on your disk. This warning can be disabled by setting the `HF_HUB_DISABLE_SYMLINKS_WARNING` environment variable. For more details, see https://huggingface.co/docs/huggingface_hub/how-to-cache#limitations.\n",
      "To support symlinks on Windows, you either need to activate Developer Mode or to run Python as an administrator. In order to see activate developer mode, see this article: https://docs.microsoft.com/en-us/windows/apps/get-started/enable-your-device-for-development\n",
      "  warnings.warn(message)\n",
      "Downloading vocab.txt: 100%|██████████| 996k/996k [00:00<00:00, 1.19MB/s]\n",
      "Downloading tokenizer.json: 100%|██████████| 1.96M/1.96M [00:01<00:00, 1.72MB/s]\n",
      "Downloading config.json: 100%|██████████| 625/625 [00:00<?, ?B/s] \n"
     ]
    }
   ],
   "source": [
    "from transformers import BertTokenizer\n",
    "\n",
    "# Load the pre-trained mBERT tokenizer\n",
    "model_name = 'bert-base-multilingual-cased'\n",
    "tokenizer = BertTokenizer.from_pretrained(model_name)\n",
    "# Tokenize the text\n",
    "def mBERT1k(contents):\n",
    "    text=contents\n",
    "    tokens = tokenizer.tokenize(tokenizer.decode(tokenizer.encode(text, max_length=1000, truncation=True)))\n",
    "    return tokens"
   ]
  },
  {
   "cell_type": "markdown",
   "id": "5fdb498f",
   "metadata": {},
   "source": [
    "We are now printing Top-20 Tokens ordered by their Frequency"
   ]
  },
  {
   "cell_type": "code",
   "execution_count": 18,
   "id": "dddc0e09",
   "metadata": {},
   "outputs": [
    {
     "name": "stdout",
     "output_type": "stream",
     "text": [
      "के: 29 ; में: 22 ; प: 21 ; ब: 21 ; र: 20 ; स: 20 ; आ: 18 ; न: 17 ; है: 15 ; को: 15 ; ज: 14 ; म: 14 ; ख: 13 ; ी: 13 ; ल: 13 ; द: 12 ; और: 12 ; की: 11 ; ा: 11 ; कर: 10 ; "
     ]
    }
   ],
   "source": [
    "tokens_mBERT1k=mBERT1k(contents)\n",
    "for i in range(len(tokens_mBERT1k)):\n",
    "        tokens_mBERT1k[i]=clean(tokens_mBERT1k[i])\n",
    "temp=[]\n",
    "for i in tokens_mBERT1k:\n",
    "    if len(i)!=0:\n",
    "        temp.append(i)\n",
    "tokens_mBERT1k=temp\n",
    "freq_token_mBERT1k=freq_token(tokens_mBERT1k)\n",
    "count6=0\n",
    "for key, value in freq_token_mBERT1k.items():\n",
    "    print(f\"{key}: {value}\",end=\" ; \")\n",
    "    count6+=1\n",
    "    if count6==20:break"
   ]
  },
  {
   "cell_type": "markdown",
   "id": "d6578ad6",
   "metadata": {},
   "source": [
    "We are now printing Top-20 Characters ordered by their Frequency"
   ]
  },
  {
   "cell_type": "code",
   "execution_count": 19,
   "id": "499795be",
   "metadata": {},
   "outputs": [
    {
     "name": "stdout",
     "output_type": "stream",
     "text": [
      "अ: 690 ; आ: 181 ; क्: 162 ; ए: 157 ; र्: 127 ; इ: 110 ; न्: 91 ; अं: 84 ; ई: 78 ; ह्: 77 ; स्: 77 ; ल्: 71 ; त्: 61 ; ओ: 59 ; म्: 58 ; य्: 57 ; प्: 56 ; ज्: 48 ; व्: 41 ; ऐ: 41 ; "
     ]
    }
   ],
   "source": [
    "freq_char_mBERT1k=freq_char_syll(Char_sep(tokens_mBERT1k))\n",
    "count7=0\n",
    "for key, value in freq_char_mBERT1k.items():\n",
    "    print(f\"{key}: {value}\",end=\" ; \")\n",
    "    count7+=1\n",
    "    if count7==20:break"
   ]
  },
  {
   "cell_type": "markdown",
   "id": "72d1c5b6",
   "metadata": {},
   "source": [
    "We are now printing Top-20 Syllables ordered by their Frequency"
   ]
  },
  {
   "cell_type": "code",
   "execution_count": 20,
   "id": "819ca927",
   "metadata": {},
   "outputs": [
    {
     "name": "stdout",
     "output_type": "stream",
     "text": [
      "र: 92 ; क: 63 ; इ: 54 ; न: 50 ; ए: 43 ; स: 43 ; ल: 40 ; आ: 39 ; प: 39 ; ज: 34 ; अं: 33 ; के: 31 ; ब: 30 ; म: 29 ; य: 26 ; त: 24 ; या: 24 ; ओ: 24 ; ट: 24 ; व: 23 ; "
     ]
    }
   ],
   "source": [
    "freq_syll_mBERT1k=freq_char_syll(Char_comb(tokens_mBERT1k))\n",
    "count8=0\n",
    "for key, value in freq_syll_mBERT1k.items():\n",
    "    print(f\"{key}: {value}\",end=\" ; \")\n",
    "    count8+=1\n",
    "    if count8==20:break"
   ]
  },
  {
   "cell_type": "markdown",
   "id": "acf24c4e",
   "metadata": {},
   "source": [
    "We are now printing Top-20 Tokens Bigrams ordered by their Frequency"
   ]
  },
  {
   "cell_type": "code",
   "execution_count": 21,
   "id": "e988e034",
   "metadata": {},
   "outputs": [
    {
     "name": "stdout",
     "output_type": "stream",
     "text": [
      "आप: 7 ; खोज: 7 ; इस: 5 ; हैकि: 4 ; केलिए: 4 ; ोजशब्द: 4 ; ोंकी: 3 ; ्प: 3 ; कोब: 3 ; विके: 3 ; ब्रा: 3 ; ्रायन: 3 ; शब्दों: 3 ; सके: 3 ; हैइ: 2 ; आकर: 2 ; जित: 2 ; ितना: 2 ; पको: 2 ; दियाहै: 2 ; "
     ]
    }
   ],
   "source": [
    "tokens_mBERT1k_bigram=bi_gram_token(tokens_mBERT1k)\n",
    "freq_token_mBERT1k_bigram=freq_token(tokens_mBERT1k_bigram)\n",
    "count9=0\n",
    "for key, value in freq_token_mBERT1k_bigram.items():\n",
    "    print(f\"{key}: {value}\",end=\" ; \")\n",
    "    count9+=1\n",
    "    if count9==20:break"
   ]
  },
  {
   "cell_type": "markdown",
   "id": "c6aa144f",
   "metadata": {},
   "source": [
    "We are now printing Top-20 Characters Bigrams ordered by their Frequency"
   ]
  },
  {
   "cell_type": "code",
   "execution_count": 22,
   "id": "4d6917ea",
   "metadata": {},
   "outputs": [
    {
     "name": "stdout",
     "output_type": "stream",
     "text": [
      "र्अ: 96 ; क्अ: 64 ; न्अ: 50 ; स्अ: 44 ; ल्अ: 40 ; प्अ: 39 ; अन्: 36 ; अर्: 36 ; ज्अ: 34 ; क्ए: 31 ; ब्अ: 30 ; म्अ: 29 ; य्अ: 28 ; एअं: 27 ; ट्अ: 26 ; त्अ: 25 ; ह्ऐ: 25 ; द्अ: 24 ; व्अ: 24 ; य्आ: 24 ; "
     ]
    }
   ],
   "source": [
    "freq_char_mBERT1k_bigram=bi_gram(Char_sep(tokens_mBERT1k))\n",
    "freq_char_mBERT1k_bigram=freq_token(freq_char_mBERT1k_bigram)\n",
    "count10=0\n",
    "for key, value in freq_char_mBERT1k_bigram.items():\n",
    "    print(f\"{key}: {value}\",end=\" ; \")\n",
    "    count10+=1\n",
    "    if count10==20:break"
   ]
  },
  {
   "cell_type": "markdown",
   "id": "5cbf1b4b",
   "metadata": {},
   "source": [
    "We are now printing Top-20 Syllables Bigrams ordered by their Frequency"
   ]
  },
  {
   "cell_type": "code",
   "execution_count": 23,
   "id": "3de6967e",
   "metadata": {},
   "outputs": [
    {
     "name": "stdout",
     "output_type": "stream",
     "text": [
      "कर: 19 ; और: 13 ; अंग: 8 ; ओज: 8 ; ओअं: 7 ; जन: 5 ; लिए: 5 ; इव: 5 ; एक: 5 ; इस: 5 ; पर: 5 ; इट: 5 ; अप: 5 ; इत: 4 ; दिया: 4 ; एअं: 4 ; इल: 4 ; इक: 4 ; अधि: 4 ; धिक: 4 ; "
     ]
    }
   ],
   "source": [
    "freq_syll_mBERT1k_bigram=bi_gram(Char_comb(tokens_mBERT1k))\n",
    "freq_syll_mBERT1k_bigram=freq_token(freq_syll_mBERT1k_bigram)\n",
    "count11=0\n",
    "for key, value in freq_syll_mBERT1k_bigram.items():\n",
    "    print(f\"{key}: {value}\",end=\" ; \")\n",
    "    count11+=1\n",
    "    if count11==20:break"
   ]
  },
  {
   "cell_type": "markdown",
   "id": "23957ff3",
   "metadata": {},
   "source": [
    "# mBERT Model (Max_length=2k)"
   ]
  },
  {
   "cell_type": "code",
   "execution_count": 24,
   "id": "7835da3c",
   "metadata": {},
   "outputs": [],
   "source": [
    "from transformers import BertTokenizer\n",
    "\n",
    "# Load the pre-trained mBERT tokenizer\n",
    "model_name = 'bert-base-multilingual-cased'\n",
    "tokenizer = BertTokenizer.from_pretrained(model_name)\n",
    "# Tokenize the text\n",
    "def mBERT2k(contents):\n",
    "    text=contents\n",
    "    tokens = tokenizer.tokenize(tokenizer.decode(tokenizer.encode(text, max_length=2000, truncation=True)))\n",
    "    return tokens"
   ]
  },
  {
   "cell_type": "markdown",
   "id": "bbe3ef47",
   "metadata": {},
   "source": [
    "We are now printing Top-20 Tokens ordered by their Frequency"
   ]
  },
  {
   "cell_type": "code",
   "execution_count": 25,
   "id": "d9eb3874",
   "metadata": {},
   "outputs": [
    {
     "name": "stdout",
     "output_type": "stream",
     "text": [
      "स: 44 ; म: 43 ; के: 41 ; र: 39 ; में: 38 ; प: 37 ; ब: 36 ; न: 30 ; की: 29 ; है: 29 ; ज: 28 ; ने: 28 ; आ: 24 ; ा: 24 ; ी: 23 ; और: 22 ; को: 21 ; व: 21 ; ु: 21 ; ल: 20 ; "
     ]
    }
   ],
   "source": [
    "tokens_mBERT2k=mBERT2k(contents)\n",
    "for i in range(len(tokens_mBERT2k)):\n",
    "        tokens_mBERT2k[i]=clean(tokens_mBERT2k[i])\n",
    "temp=[]\n",
    "for i in tokens_mBERT2k:\n",
    "    if len(i)!=0:\n",
    "        temp.append(i)\n",
    "tokens_mBERT2k=temp\n",
    "freq_token_mBERT2k=freq_token(tokens_mBERT2k)\n",
    "count6=0\n",
    "for key, value in freq_token_mBERT2k.items():\n",
    "    print(f\"{key}: {value}\",end=\" ; \")\n",
    "    count6+=1\n",
    "    if count6==20:break"
   ]
  },
  {
   "cell_type": "markdown",
   "id": "d0681d10",
   "metadata": {},
   "source": [
    "We are now printing Top-20 Characters ordered by their Frequency"
   ]
  },
  {
   "cell_type": "code",
   "execution_count": 26,
   "id": "071c48d3",
   "metadata": {},
   "outputs": [
    {
     "name": "stdout",
     "output_type": "stream",
     "text": [
      "अ: 1334 ; आ: 362 ; क्: 302 ; ए: 301 ; र्: 256 ; इ: 216 ; न्: 176 ; ई: 174 ; स्: 164 ; अं: 149 ; ह्: 147 ; म्: 133 ; ल्: 125 ; त्: 116 ; ओ: 111 ; य्: 109 ; प्: 101 ; व्: 81 ; ज्: 80 ; द्: 75 ; "
     ]
    }
   ],
   "source": [
    "freq_char_mBERT2k=freq_char_syll(Char_sep(tokens_mBERT2k))\n",
    "count7=0\n",
    "for key, value in freq_char_mBERT2k.items():\n",
    "    print(f\"{key}: {value}\",end=\" ; \")\n",
    "    count7+=1\n",
    "    if count7==20:break"
   ]
  },
  {
   "cell_type": "markdown",
   "id": "04673cc1",
   "metadata": {},
   "source": [
    "We are now printing Top-20 Syllables ordered by their Frequency"
   ]
  },
  {
   "cell_type": "code",
   "execution_count": 27,
   "id": "b2d573fe",
   "metadata": {},
   "outputs": [
    {
     "name": "stdout",
     "output_type": "stream",
     "text": [
      "र: 192 ; क: 111 ; इ: 105 ; स: 92 ; न: 90 ; आ: 88 ; प: 76 ; ए: 75 ; म: 67 ; ल: 63 ; अं: 61 ; उ: 58 ; ब: 53 ; ज: 52 ; य: 51 ; व: 50 ; ने: 48 ; ट: 47 ; त: 46 ; के: 45 ; "
     ]
    }
   ],
   "source": [
    "freq_syll_mBERT2k=freq_char_syll(Char_comb(tokens_mBERT2k))\n",
    "count8=0\n",
    "for key, value in freq_syll_mBERT2k.items():\n",
    "    print(f\"{key}: {value}\",end=\" ; \")\n",
    "    count8+=1\n",
    "    if count8==20:break"
   ]
  },
  {
   "cell_type": "markdown",
   "id": "f4c7808d",
   "metadata": {},
   "source": [
    "We are now printing Top-20 Tokens Bigrams ordered by their Frequency"
   ]
  },
  {
   "cell_type": "code",
   "execution_count": 28,
   "id": "ccae974e",
   "metadata": {},
   "outputs": [
    {
     "name": "stdout",
     "output_type": "stream",
     "text": [
      "आप: 7 ; इस: 7 ; खोज: 7 ; केलिए: 6 ; तु: 6 ; हैकि: 5 ; जर: 5 ; मु: 5 ; स्व: 4 ; ोजशब्द: 4 ; नेकहा: 4 ; कहाकि: 4 ; मैं: 4 ; ॉय: 4 ; यले: 4 ; लेट: 4 ; ुझ: 4 ; झे: 4 ; हैइ: 3 ; नेता: 3 ; "
     ]
    }
   ],
   "source": [
    "tokens_mBERT2k_bigram=bi_gram_token(tokens_mBERT2k)\n",
    "freq_token_mBERT2k_bigram=freq_token(tokens_mBERT2k_bigram)\n",
    "count9=0\n",
    "for key, value in freq_token_mBERT2k_bigram.items():\n",
    "    print(f\"{key}: {value}\",end=\" ; \")\n",
    "    count9+=1\n",
    "    if count9==20:break"
   ]
  },
  {
   "cell_type": "markdown",
   "id": "66373881",
   "metadata": {},
   "source": [
    "We are now printing Top-20 Characters Bigrams ordered by their Frequency"
   ]
  },
  {
   "cell_type": "code",
   "execution_count": 29,
   "id": "3ccd0a0b",
   "metadata": {},
   "outputs": [
    {
     "name": "stdout",
     "output_type": "stream",
     "text": [
      "र्अ: 198 ; क्अ: 112 ; स्अ: 94 ; न्अ: 90 ; प्अ: 76 ; अर्: 68 ; म्अ: 68 ; ल्अ: 63 ; य्अ: 56 ; त्अ: 55 ; ट्अ: 55 ; ब्अ: 54 ; ज्अ: 52 ; अन्: 51 ; व्अ: 51 ; न्ए: 48 ; द्अ: 46 ; एअं: 46 ; क्ए: 45 ; ह्ऐ: 44 ; "
     ]
    }
   ],
   "source": [
    "freq_char_mBERT2k_bigram=bi_gram(Char_sep(tokens_mBERT2k))\n",
    "freq_char_mBERT2k_bigram=freq_token(freq_char_mBERT2k_bigram)\n",
    "count10=0\n",
    "for key, value in freq_char_mBERT2k_bigram.items():\n",
    "    print(f\"{key}: {value}\",end=\" ; \")\n",
    "    count10+=1\n",
    "    if count10==20:break"
   ]
  },
  {
   "cell_type": "markdown",
   "id": "d3688285",
   "metadata": {},
   "source": [
    "We are now printing Top-20 Syllables Bigrams ordered by their Frequency"
   ]
  },
  {
   "cell_type": "code",
   "execution_count": 30,
   "id": "1a67682a",
   "metadata": {},
   "outputs": [
    {
     "name": "stdout",
     "output_type": "stream",
     "text": [
      "कर: 24 ; और: 23 ; एक: 13 ; इस: 13 ; पर: 13 ; ओअं: 12 ; कार: 9 ; अंग: 9 ; ऐअं: 8 ; इट: 8 ; ओज: 8 ; कहा: 8 ; लिए: 7 ; अधि: 7 ; आय: 7 ; उक: 7 ; आर: 7 ; दिया: 6 ; एअं: 6 ; इल: 6 ; "
     ]
    }
   ],
   "source": [
    "freq_syll_mBERT2k_bigram=bi_gram(Char_comb(tokens_mBERT2k))\n",
    "freq_syll_mBERT2k_bigram=freq_token(freq_syll_mBERT2k_bigram)\n",
    "count11=0\n",
    "for key, value in freq_syll_mBERT2k_bigram.items():\n",
    "    print(f\"{key}: {value}\",end=\" ; \")\n",
    "    count11+=1\n",
    "    if count11==20:break"
   ]
  },
  {
   "cell_type": "markdown",
   "id": "c21026b1",
   "metadata": {},
   "source": [
    "# IndicBERT Model( Max_length=1k)"
   ]
  },
  {
   "cell_type": "code",
   "execution_count": 31,
   "id": "6f0975de",
   "metadata": {},
   "outputs": [],
   "source": [
    "from transformers import AutoTokenizer\n",
    "\n",
    "# Replace 'ai4bharat/indic-bert' with the specific model you want to use\n",
    "model_name = 'ai4bharat/indic-bert'\n",
    "\n",
    "# Load the tokenizer\n",
    "tokenizer = AutoTokenizer.from_pretrained(model_name)\n",
    "\n",
    "\n",
    "def indicBERT1k(contents):\n",
    "    input_text=contents\n",
    "    tokens = tokenizer.tokenize(tokenizer.decode(tokenizer.encode(input_text, max_length=1000, truncation=True)))\n",
    "    return tokens"
   ]
  },
  {
   "cell_type": "markdown",
   "id": "6e9d81b6",
   "metadata": {},
   "source": [
    "We are now printing Top-20 Tokens ordered by their Frequency"
   ]
  },
  {
   "cell_type": "code",
   "execution_count": 32,
   "id": "27619f09",
   "metadata": {},
   "outputs": [],
   "source": [
    "tokens_indicBERT1k=indicBERT1k(contents)\n",
    "for i in range(len(tokens_indicBERT1k)):\n",
    "        tokens_indicBERT1k[i]=clean(tokens_indicBERT1k[i])\n",
    "temp=[]\n",
    "for i in tokens_indicBERT1k:\n",
    "    if len(i)!=0:\n",
    "        temp.append(i)\n",
    "tokens_indicBERT1k=temp\n",
    "freq_token_indicBERT1k=freq_token(tokens_indicBERT1k)\n",
    "count6=0\n",
    "for key, value in freq_token_indicBERT1k.items():\n",
    "    print(f\"{key}: {value}\",end=\" ; \")\n",
    "    count6+=1\n",
    "    if count6==20:break"
   ]
  },
  {
   "cell_type": "markdown",
   "id": "a6a1fa7c",
   "metadata": {},
   "source": [
    "We are now printing Top-20 Characters ordered by their Frequency"
   ]
  },
  {
   "cell_type": "code",
   "execution_count": 52,
   "id": "ac90a746",
   "metadata": {},
   "outputs": [
    {
     "name": "stdout",
     "output_type": "stream",
     "text": [
      "अ: 169 ; क्: 18 ; न्: 16 ; र्: 15 ; ह्: 15 ; य्: 13 ; द्: 12 ; म्: 11 ; प्: 10 ; ल्: 10 ; त्: 9 ; स्: 7 ; ज्: 7 ; ब्: 5 ; आ: 4 ; व्: 4 ; भ्: 4 ; च्: 3 ; ग्: 3 ; ख्: 2 ; "
     ]
    }
   ],
   "source": [
    "freq_char_indicBERT1k=freq_char_syll(Char_sep(tokens_indicBERT1k))\n",
    "count7=0\n",
    "for key, value in freq_char_indicBERT1k.items():\n",
    "    print(f\"{key}: {value}\",end=\" ; \")\n",
    "    count7+=1\n",
    "    if count7==20:break"
   ]
  },
  {
   "cell_type": "markdown",
   "id": "db1831b1",
   "metadata": {},
   "source": [
    "We are now printing Top-20 Syllables ordered by their Frequency"
   ]
  },
  {
   "cell_type": "code",
   "execution_count": 53,
   "id": "86e7fef3",
   "metadata": {},
   "outputs": [
    {
     "name": "stdout",
     "output_type": "stream",
     "text": [
      "क: 18 ; न: 16 ; र: 15 ; ह: 15 ; य: 13 ; द: 12 ; म: 11 ; प: 10 ; ल: 10 ; त: 9 ; स: 7 ; ज: 7 ; ब: 5 ; आ: 4 ; व: 4 ; भ: 4 ; च: 3 ; ग: 3 ; ख: 2 ; ए: 2 ; "
     ]
    }
   ],
   "source": [
    "freq_syll_indicBERT1k=freq_char_syll(Char_comb(tokens_indicBERT1k))\n",
    "count8=0\n",
    "for key, value in freq_syll_indicBERT1k.items():\n",
    "    print(f\"{key}: {value}\",end=\" ; \")\n",
    "    count8+=1\n",
    "    if count8==20:break"
   ]
  },
  {
   "cell_type": "markdown",
   "id": "698e1a18",
   "metadata": {},
   "source": [
    "We are now printing Top-20 Tokens Bigrams ordered by their Frequency"
   ]
  },
  {
   "cell_type": "code",
   "execution_count": 54,
   "id": "ed792dc9",
   "metadata": {},
   "outputs": [
    {
     "name": "stdout",
     "output_type": "stream",
     "text": [
      "यह: 2 ; गय: 2 ; यथ: 2 ; महजन: 2 ; नक: 2 ; परयश: 1 ; यशह: 1 ; हय: 1 ; यद: 1 ; दई: 1 ; ईच: 1 ; चद: 1 ; ददल: 1 ; दलच: 1 ; चस: 1 ; सप: 1 ; पकरण: 1 ; करणकस: 1 ; कसह: 1 ; हनद: 1 ; "
     ]
    }
   ],
   "source": [
    "tokens_indicBERT1k_bigram=bi_gram_token(tokens_indicBERT1k)\n",
    "freq_token_indicBERT1k_bigram=freq_token(tokens_indicBERT1k_bigram)\n",
    "count9=0\n",
    "for key, value in freq_token_indicBERT1k_bigram.items():\n",
    "    print(f\"{key}: {value}\",end=\" ; \")\n",
    "    count9+=1\n",
    "    if count9==20:break"
   ]
  },
  {
   "cell_type": "markdown",
   "id": "4c3bf522",
   "metadata": {},
   "source": [
    "We are now printing Top-20 Characters Bigrams ordered by their Frequency"
   ]
  },
  {
   "cell_type": "code",
   "execution_count": 55,
   "id": "bdbf818f",
   "metadata": {},
   "outputs": [
    {
     "name": "stdout",
     "output_type": "stream",
     "text": [
      "क्अ: 18 ; न्अ: 16 ; र्अ: 15 ; ह्अ: 15 ; य्अ: 13 ; अर्: 12 ; द्अ: 12 ; म्अ: 11 ; प्अ: 10 ; ल्अ: 10 ; अन्: 9 ; त्अ: 9 ; अल्: 7 ; स्अ: 7 ; ज्अ: 7 ; ब्अ: 5 ; अस्: 4 ; व्अ: 4 ; भ्अ: 4 ; अह्: 4 ; "
     ]
    }
   ],
   "source": [
    "freq_char_indicBERT1k_bigram=bi_gram(Char_sep(tokens_indicBERT1k))\n",
    "freq_char_indicBERT1k_bigram=freq_token(freq_char_indicBERT1k_bigram)\n",
    "count10=0\n",
    "for key, value in freq_char_indicBERT1k_bigram.items():\n",
    "    print(f\"{key}: {value}\",end=\" ; \")\n",
    "    count10+=1\n",
    "    if count10==20:break"
   ]
  },
  {
   "cell_type": "markdown",
   "id": "441af2e4",
   "metadata": {},
   "source": [
    "We are now printing Top-20 Syllables Bigrams ordered by their Frequency"
   ]
  },
  {
   "cell_type": "code",
   "execution_count": 56,
   "id": "c9100ac8",
   "metadata": {},
   "outputs": [
    {
     "name": "stdout",
     "output_type": "stream",
     "text": [
      "कर: 6 ; तन: 3 ; पर: 2 ; दन: 2 ; हम: 2 ; मद: 2 ; हल: 2 ; लक: 2 ; मह: 2 ; हज: 2 ; यश: 1 ; दल: 1 ; रण: 1 ; कस: 1 ; नद: 1 ; आव: 1 ; रन: 1 ; आख: 1 ; तर: 1 ; जन: 1 ; "
     ]
    }
   ],
   "source": [
    "freq_syll_indicBERT1k_bigram=bi_gram(Char_comb(tokens_indicBERT1k))\n",
    "freq_syll_indicBERT1k_bigram=freq_token(freq_syll_indicBERT1k_bigram)\n",
    "count11=0\n",
    "for key, value in freq_syll_indicBERT1k_bigram.items():\n",
    "    print(f\"{key}: {value}\",end=\" ; \")\n",
    "    count11+=1\n",
    "    if count11==20:break"
   ]
  },
  {
   "cell_type": "markdown",
   "id": "bc360391",
   "metadata": {},
   "source": [
    "# IndicBERT Model (Max_length=2k)"
   ]
  },
  {
   "cell_type": "code",
   "execution_count": 57,
   "id": "b6514d35",
   "metadata": {},
   "outputs": [],
   "source": [
    "from transformers import AutoTokenizer\n",
    "\n",
    "# Replace 'ai4bharat/indic-bert' with the specific model you want to use\n",
    "model_name = 'ai4bharat/indic-bert'\n",
    "\n",
    "# Load the tokenizer\n",
    "tokenizer = AutoTokenizer.from_pretrained(model_name)\n",
    "\n",
    "\n",
    "def indicBERT2k(contents):\n",
    "    input_text=contents\n",
    "    tokens = tokenizer.tokenize(tokenizer.decode(tokenizer.encode(input_text, max_length=2000, truncation=True)))\n",
    "    return tokens"
   ]
  },
  {
   "cell_type": "markdown",
   "id": "db27957c",
   "metadata": {},
   "source": [
    "We are now printing Top-20 Tokens ordered by their Frequency"
   ]
  },
  {
   "cell_type": "code",
   "execution_count": 58,
   "id": "c0e63118",
   "metadata": {},
   "outputs": [
    {
     "name": "stdout",
     "output_type": "stream",
     "text": [
      "क: 9 ; ह: 8 ; य: 8 ; द: 5 ; न: 5 ; प: 4 ; म: 4 ; भ: 4 ; कर: 3 ; पर: 2 ; च: 2 ; दन: 2 ; र: 2 ; हम: 2 ; ए: 2 ; ज: 2 ; मद: 2 ; ग: 2 ; थ: 2 ; महज: 2 ; "
     ]
    }
   ],
   "source": [
    "tokens_indicBERT2k=indicBERT2k(contents)\n",
    "for i in range(len(tokens_indicBERT2k)):\n",
    "        tokens_indicBERT2k[i]=clean(tokens_indicBERT2k[i])\n",
    "temp=[]\n",
    "for i in tokens_indicBERT2k:\n",
    "    if len(i)!=0:\n",
    "        temp.append(i)\n",
    "tokens_indicBERT2k=temp\n",
    "freq_token_indicBERT2k=freq_token(tokens_indicBERT2k)\n",
    "count6=0\n",
    "for key, value in freq_token_indicBERT2k.items():\n",
    "    print(f\"{key}: {value}\",end=\" ; \")\n",
    "    count6+=1\n",
    "    if count6==20:break"
   ]
  },
  {
   "cell_type": "markdown",
   "id": "b34d9f72",
   "metadata": {},
   "source": [
    "We are now printing Top-20 Characters ordered by their Frequency"
   ]
  },
  {
   "cell_type": "code",
   "execution_count": 59,
   "id": "c114336b",
   "metadata": {},
   "outputs": [
    {
     "name": "stdout",
     "output_type": "stream",
     "text": [
      "अ: 169 ; क्: 18 ; न्: 16 ; र्: 15 ; ह्: 15 ; य्: 13 ; द्: 12 ; म्: 11 ; प्: 10 ; ल्: 10 ; त्: 9 ; स्: 7 ; ज्: 7 ; ब्: 5 ; आ: 4 ; व्: 4 ; भ्: 4 ; च्: 3 ; ग्: 3 ; ख्: 2 ; "
     ]
    }
   ],
   "source": [
    "freq_char_indicBERT2k=freq_char_syll(Char_sep(tokens_indicBERT2k))\n",
    "count7=0\n",
    "for key, value in freq_char_indicBERT2k.items():\n",
    "    print(f\"{key}: {value}\",end=\" ; \")\n",
    "    count7+=1\n",
    "    if count7==20:break"
   ]
  },
  {
   "cell_type": "markdown",
   "id": "fdda19c4",
   "metadata": {},
   "source": [
    "We are now printing Top-20 Syllables ordered by their Frequency"
   ]
  },
  {
   "cell_type": "code",
   "execution_count": 60,
   "id": "7e48b877",
   "metadata": {},
   "outputs": [
    {
     "name": "stdout",
     "output_type": "stream",
     "text": [
      "क: 18 ; न: 16 ; र: 15 ; ह: 15 ; य: 13 ; द: 12 ; म: 11 ; प: 10 ; ल: 10 ; त: 9 ; स: 7 ; ज: 7 ; ब: 5 ; आ: 4 ; व: 4 ; भ: 4 ; च: 3 ; ग: 3 ; ख: 2 ; ए: 2 ; "
     ]
    }
   ],
   "source": [
    "freq_syll_indicBERT2k=freq_char_syll(Char_comb(tokens_indicBERT2k))\n",
    "count8=0\n",
    "for key, value in freq_syll_indicBERT2k.items():\n",
    "    print(f\"{key}: {value}\",end=\" ; \")\n",
    "    count8+=1\n",
    "    if count8==20:break"
   ]
  },
  {
   "cell_type": "markdown",
   "id": "4b62b26a",
   "metadata": {},
   "source": [
    "We are now printing Top-20 Tokens Bigrams ordered by their Frequency"
   ]
  },
  {
   "cell_type": "code",
   "execution_count": 61,
   "id": "43c997ae",
   "metadata": {},
   "outputs": [
    {
     "name": "stdout",
     "output_type": "stream",
     "text": [
      "यह: 2 ; गय: 2 ; यथ: 2 ; महजन: 2 ; नक: 2 ; परयश: 1 ; यशह: 1 ; हय: 1 ; यद: 1 ; दई: 1 ; ईच: 1 ; चद: 1 ; ददल: 1 ; दलच: 1 ; चस: 1 ; सप: 1 ; पकरण: 1 ; करणकस: 1 ; कसह: 1 ; हनद: 1 ; "
     ]
    }
   ],
   "source": [
    "tokens_indicBERT2k_bigram=bi_gram_token(tokens_indicBERT2k)\n",
    "freq_token_indicBERT2k_bigram=freq_token(tokens_indicBERT2k_bigram)\n",
    "count9=0\n",
    "for key, value in freq_token_indicBERT2k_bigram.items():\n",
    "    print(f\"{key}: {value}\",end=\" ; \")\n",
    "    count9+=1\n",
    "    if count9==20:break"
   ]
  },
  {
   "cell_type": "markdown",
   "id": "cba903ea",
   "metadata": {},
   "source": [
    "We are now printing Top-20 Character Bigrams ordered by their Frequency"
   ]
  },
  {
   "cell_type": "code",
   "execution_count": 62,
   "id": "355ebd03",
   "metadata": {},
   "outputs": [
    {
     "name": "stdout",
     "output_type": "stream",
     "text": [
      "क्अ: 18 ; न्अ: 16 ; र्अ: 15 ; ह्अ: 15 ; य्अ: 13 ; अर्: 12 ; द्अ: 12 ; म्अ: 11 ; प्अ: 10 ; ल्अ: 10 ; अन्: 9 ; त्अ: 9 ; अल्: 7 ; स्अ: 7 ; ज्अ: 7 ; ब्अ: 5 ; अस्: 4 ; व्अ: 4 ; भ्अ: 4 ; अह्: 4 ; "
     ]
    }
   ],
   "source": [
    "freq_char_indicBERT2k_bigram=bi_gram(Char_sep(tokens_indicBERT2k))\n",
    "freq_char_indicBERT2k_bigram=freq_token(freq_char_indicBERT2k_bigram)\n",
    "count10=0\n",
    "for key, value in freq_char_indicBERT2k_bigram.items():\n",
    "    print(f\"{key}: {value}\",end=\" ; \")\n",
    "    count10+=1\n",
    "    if count10==20:break"
   ]
  },
  {
   "cell_type": "markdown",
   "id": "ce05407a",
   "metadata": {},
   "source": [
    "We are now printing Top-20 Syllables Bigrams ordered by their Frequency"
   ]
  },
  {
   "cell_type": "code",
   "execution_count": 63,
   "id": "8edf8a1c",
   "metadata": {},
   "outputs": [
    {
     "name": "stdout",
     "output_type": "stream",
     "text": [
      "कर: 6 ; तन: 3 ; पर: 2 ; दन: 2 ; हम: 2 ; मद: 2 ; हल: 2 ; लक: 2 ; मह: 2 ; हज: 2 ; यश: 1 ; दल: 1 ; रण: 1 ; कस: 1 ; नद: 1 ; आव: 1 ; रन: 1 ; आख: 1 ; तर: 1 ; जन: 1 ; "
     ]
    }
   ],
   "source": [
    "freq_syll_indicBERT2k_bigram=bi_gram(Char_comb(tokens_indicBERT2k))\n",
    "freq_syll_indicBERT2k_bigram=freq_token(freq_syll_indicBERT2k_bigram)\n",
    "count11=0\n",
    "for key, value in freq_syll_indicBERT2k_bigram.items():\n",
    "    print(f\"{key}: {value}\",end=\" ; \")\n",
    "    count11+=1\n",
    "    if count11==20:break"
   ]
  },
  {
   "cell_type": "markdown",
   "id": "b8751db8",
   "metadata": {},
   "source": [
    "# WhiteSpaceTokenizer"
   ]
  },
  {
   "cell_type": "code",
   "execution_count": 64,
   "id": "59ac4f35",
   "metadata": {},
   "outputs": [],
   "source": [
    "def WhiteSpaceTokenizer(contents):\n",
    "    return contents.split()"
   ]
  },
  {
   "cell_type": "markdown",
   "id": "c0a70e60",
   "metadata": {},
   "source": [
    "We are now printing Top-20 Tokens ordered by their Frequency"
   ]
  },
  {
   "cell_type": "code",
   "execution_count": 65,
   "id": "f8238328",
   "metadata": {},
   "outputs": [
    {
     "name": "stdout",
     "output_type": "stream",
     "text": [
      "में: 3 ; है: 3 ; की: 2 ; भी: 2 ; के: 2 ; को: 2 ; गया: 2 ; था: 2 ; महाजन: 2 ; प्रियांशु: 1 ; ह्युंदई: 1 ; चाँद: 1 ; दिलचस्प: 1 ; कर्ण: 1 ; कंस: 1 ; हिन्दी: 1 ; आवेदन: 1 ; करने: 1 ; आखिरी: 1 ; तारीख: 1 ; "
     ]
    }
   ],
   "source": [
    "tokens_WhiteSpaceTokenizer=WhiteSpaceTokenizer(contents)\n",
    "temp=[]\n",
    "for i in tokens_WhiteSpaceTokenizer:\n",
    "    if len(i)!=0:\n",
    "        temp.append(i)\n",
    "tokens_WhiteSpaceTokenizer=temp\n",
    "freq_token_WhiteSpaceTokenizer=freq_token(tokens_WhiteSpaceTokenizer)\n",
    "count6=0\n",
    "for key, value in freq_token_WhiteSpaceTokenizer.items():\n",
    "    print(f\"{key}: {value}\",end=\" ; \")\n",
    "    count6+=1\n",
    "    if count6==20:break"
   ]
  },
  {
   "cell_type": "markdown",
   "id": "4f6653a4",
   "metadata": {},
   "source": [
    "We are now printing Top-20 Characters ordered by their Frequency"
   ]
  },
  {
   "cell_type": "code",
   "execution_count": 66,
   "id": "9c7c867c",
   "metadata": {},
   "outputs": [
    {
     "name": "stdout",
     "output_type": "stream",
     "text": [
      "अ: 66 ; आ: 38 ; क्: 18 ; न्: 16 ; ए: 16 ; र्: 15 ; इ: 15 ; ह्: 15 ; ई: 15 ; य्: 13 ; द्: 12 ; म्: 11 ; प्: 10 ; अं: 10 ; ल्: 10 ; त्: 9 ; स्: 7 ; ज्: 7 ; ओ: 7 ; उ: 5 ; "
     ]
    }
   ],
   "source": [
    "freq_char_WhiteSpaceTokenizer=freq_char_syll(Char_sep(tokens_WhiteSpaceTokenizer))\n",
    "count7=0\n",
    "for key, value in freq_char_WhiteSpaceTokenizer.items():\n",
    "    print(f\"{key}: {value}\",end=\" ; \")\n",
    "    count7+=1\n",
    "    if count7==20:break"
   ]
  },
  {
   "cell_type": "markdown",
   "id": "4c21a6ac",
   "metadata": {},
   "source": [
    "We are now printing Top-20 Syllables ordered by their Frequency"
   ]
  },
  {
   "cell_type": "code",
   "execution_count": 67,
   "id": "84089e04",
   "metadata": {},
   "outputs": [
    {
     "name": "stdout",
     "output_type": "stream",
     "text": [
      "न: 7 ; या: 7 ; स: 6 ; र: 6 ; त: 6 ; क: 5 ; द: 4 ; ल: 4 ; में: 4 ; आ: 4 ; ज: 4 ; ह: 4 ; दि: 3 ; ने: 3 ; री: 3 ; है: 3 ; ना: 3 ; को: 3 ; ब: 3 ; का: 3 ; "
     ]
    }
   ],
   "source": [
    "freq_syll_WhiteSpaceTokenizer=freq_char_syll(Char_comb(tokens_WhiteSpaceTokenizer))\n",
    "count8=0\n",
    "for key, value in freq_syll_WhiteSpaceTokenizer.items():\n",
    "    print(f\"{key}: {value}\",end=\" ; \")\n",
    "    count8+=1\n",
    "    if count8==20:break"
   ]
  },
  {
   "cell_type": "markdown",
   "id": "87f1e3ad",
   "metadata": {},
   "source": [
    "We are now printing Top-20 Tokens Bigrams ordered by their Frequency"
   ]
  },
  {
   "cell_type": "code",
   "execution_count": 68,
   "id": "fa6e175a",
   "metadata": {},
   "outputs": [
    {
     "name": "stdout",
     "output_type": "stream",
     "text": [
      "प्रियांशुह्युंदई: 1 ; ह्युंदईचाँद: 1 ; चाँददिलचस्प: 1 ; दिलचस्पकर्ण: 1 ; कर्णकंस: 1 ; कंसहिन्दी: 1 ; हिन्दीमें: 1 ; मेंआवेदन: 1 ; आवेदनकरने: 1 ; करनेकी: 1 ; कीआखिरी: 1 ; आखिरीतारीख: 1 ; तारीखजनवरी: 1 ; जनवरीहै: 1 ; हैइतनी: 1 ; इतनीदुआ: 1 ; दुआकर: 1 ; करदो: 1 ; दोहमारे: 1 ; हमारेलिए: 1 ; "
     ]
    }
   ],
   "source": [
    "tokens_WhiteSpaceTokenizer_bigram=bi_gram_token(tokens_WhiteSpaceTokenizer)\n",
    "freq_token_WhiteSpaceTokenizer_bigram=freq_token(tokens_WhiteSpaceTokenizer_bigram)\n",
    "count9=0\n",
    "for key, value in freq_token_WhiteSpaceTokenizer_bigram.items():\n",
    "    print(f\"{key}: {value}\",end=\" ; \")\n",
    "    count9+=1\n",
    "    if count9==20:break"
   ]
  },
  {
   "cell_type": "markdown",
   "id": "7baf2f26",
   "metadata": {},
   "source": [
    "We are now printing Top-20 Character Bigrams ordered by their Frequency"
   ]
  },
  {
   "cell_type": "code",
   "execution_count": 69,
   "id": "98c8bc8d",
   "metadata": {},
   "outputs": [
    {
     "name": "stdout",
     "output_type": "stream",
     "text": [
      "य्आ: 9 ; अन्: 9 ; न्अ: 7 ; र्अ: 7 ; अर्: 6 ; स्अ: 6 ; त्अ: 6 ; क्अ: 5 ; आर्: 5 ; अह्: 5 ; ल्अ: 4 ; म्ए: 4 ; एअं: 4 ; ज्अ: 4 ; ह्अ: 4 ; अम्: 4 ; आज्: 4 ; इय्: 3 ; द्ई: 3 ; द्अ: 3 ; "
     ]
    }
   ],
   "source": [
    "freq_char_WhiteSpaceTokenizer_bigram=bi_gram(Char_sep(tokens_WhiteSpaceTokenizer))\n",
    "freq_char_WhiteSpaceTokenizer_bigram=freq_token(freq_char_WhiteSpaceTokenizer_bigram)\n",
    "count10=0\n",
    "for key, value in freq_char_WhiteSpaceTokenizer_bigram.items():\n",
    "    print(f\"{key}: {value}\",end=\" ; \")\n",
    "    count10+=1\n",
    "    if count10==20:break"
   ]
  },
  {
   "cell_type": "markdown",
   "id": "f721749c",
   "metadata": {},
   "source": [
    "We are now printing Top-20 Syllables Bigrams ordered by their Frequency"
   ]
  },
  {
   "cell_type": "code",
   "execution_count": 70,
   "id": "48d4821d",
   "metadata": {},
   "outputs": [
    {
     "name": "stdout",
     "output_type": "stream",
     "text": [
      "कर: 3 ; जन: 3 ; तना: 2 ; गया: 2 ; महा: 2 ; हाज: 2 ; प्रियां: 1 ; यांशु: 1 ; ह्युंद: 1 ; दई: 1 ; चाँद: 1 ; दिल: 1 ; लच: 1 ; चस्प: 1 ; कर्ण: 1 ; कंस: 1 ; हिन्दी: 1 ; आवे: 1 ; वेद: 1 ; दन: 1 ; "
     ]
    }
   ],
   "source": [
    "freq_syll_WhiteSpaceTokenizer_bigram=bi_gram(Char_comb(tokens_WhiteSpaceTokenizer))\n",
    "freq_syll_WhiteSpaceTokenizer_bigram=freq_token(freq_syll_WhiteSpaceTokenizer_bigram)\n",
    "count11=0\n",
    "for key, value in freq_syll_WhiteSpaceTokenizer_bigram.items():\n",
    "    print(f\"{key}: {value}\",end=\" ; \")\n",
    "    count11+=1\n",
    "    if count11==20:break"
   ]
  },
  {
   "cell_type": "markdown",
   "id": "481db6f5",
   "metadata": {},
   "source": [
    "# Q3 Loading Sentences"
   ]
  },
  {
   "cell_type": "code",
   "execution_count": 71,
   "id": "89d409d9",
   "metadata": {},
   "outputs": [],
   "source": [
    "file1=open('cs689_assignment.txt','r')\n",
    "Sentences=file1.read()\n",
    "file1.close()\n",
    "Sentences=Sentences.split(\"\\n\")"
   ]
  },
  {
   "cell_type": "markdown",
   "id": "6b8ddf96",
   "metadata": {},
   "source": [
    "Unigrams Tokens"
   ]
  },
  {
   "cell_type": "code",
   "execution_count": 72,
   "id": "bb89b7fa",
   "metadata": {},
   "outputs": [
    {
     "name": "stdout",
     "output_type": "stream",
     "text": [
      "[['आपको', 'प', 'ता', 'होगा', 'कि', 'मो', 'टा', 'पा', 'भी', 'हा', 'र्ट', 'अ', 'ट', 'ै', 'क', 'का', 'एक', 'प्रमुख', 'कारण', 'है', ''], ['कोई', 'भी', 'ब', 'डा', 'ने', 'ता', 'उनके', 'क्षेत्र', 'में', 'प्र', 'चार', 'के', 'लिए', 'नहीं', 'गया', ''], ['थी', 'ं', 'डि', 'प्र', 'ेशन', 'की', 'शि', 'कार'], ['ऐसे', 'में', 'स्व', 'प', '्', 'ना', 'के', 'सामने', 'खुद', 'को', 'सा', 'ब', 'ित', 'करने', 'और', 'उन', 'लोगों', 'को', 'ग', 'ल', 'त', 'सा', 'ब', 'ित', 'करने', 'की', 'च', 'ु', 'न', 'ौ', 'ती', 'थी', '', 'जो', 'उनके', 'काफी', 'करीब', 'रह', 'ते', 'हुए', 'भी', 'उन्हें', 'पद', 'क', 'का', 'दा', 'वे', 'दार', 'नहीं', 'मान', 'रहे', 'थे', ''], ['देश', 'भ', 'र', 'में', 'महिला', 'सुरक्षा', 'को', 'लेकर', 'ह', 'ंग', 'ा', 'मा', 'म', 'चा', 'है', 'और', 'स', 'ख', '्', 'त', 'कानून', 'की', 'मांग', 'की', 'जा', 'रही', 'है', ''], ['हाल', 'ही', 'में', 'दी', 'प', 'िक', 'ा', 'पा', 'द', 'ु', 'को', 'ण', 'की', 'फिल्म', 'पद', '्', 'मा', 'व', 'ती', 'को', 'लेकर', 'काफी', 'विरोध', 'चल', 'रहा', 'है', '', 'और', 'कई', 'राज्य', 'ों', 'में', 'तो', 'इस', 'फिल्म', 'को', 'ब', 'ै', 'न', 'भी', 'कर', 'दिया', 'गया', 'है', '', 'वह', 'ी', 'ँ', 'भ', 'ंस', 'ा', 'ली', 'और', 'दी', 'प', 'िक', 'ा', 'को', 'ध', 'म', 'क', 'िया', 'ँ', 'भी', 'दी', 'जा', 'रही', 'हैं', ''], ['खा', 'स', 'कर', 'फ', 'े', 'स', 'ब', 'ु', 'क', 'पर', 'हमारे', 'हि', 'न्द', 'ी', 'भा', 'ष', 'ी', 'राज्य', 'ों', 'के', 'जीवन', 'की', 'वि', 'वि', 'ध', 'ता', 'और', 'द', 'ै', 'न', 'ंद', 'िन', 'जीवन', 'की', 'च', 'ु', 'न', 'ौ', 'त', 'ियां', 'नजर', 'नहीं', 'आ', 'रही', 'हैं', ''], ['इसके', 'बाद', 'वा', 'ले', 'एक', 'मा', 'ह', 'तक', 'कुछ', 'प', 'का', 'हुआ', 'आ', 'हा', 'र', 'दिया', 'जा', 'सकता', 'है', ''], ['फ', 'िल', 'हा', 'ल', 'जी', 'आ', 'र', 'पी', 'पुलिस', 'ने', 'आरोप', 'ी', 'के', 'खिलाफ', '', 'धा', 'रा', '', '', '', 'और', 'प', 'ॉ', 'क्स', 'ो', 'एक', '्ट', 'के', 'तहत', 'मामला', 'दर्ज', 'कर', 'लिया', 'है', ''], ['', '', 'व', 'ें', 'ग', 'ण', 'तंत्र', 'दिवस', 'की', 'पूर्व', 'सं', 'ध', '्या', 'पर', 'राष्ट्र', 'के', 'नाम', 'सं', 'द', 'ेश', 'दे', 'ते', 'राष्ट्रपति', 'प्र', 'ण', 'ब', 'मु', 'ख', 'र्ज', 'ी'], ['वे', 'चाह', 'ते', 'हैं', 'कि', 'न', 'ही', 'सु', 'न्न', 'ी', 'रहे', 'ं', 'न', 'ही', 'श', 'िया', ''], ['एक', 'ता', 'क', 'प', 'ू', 'र', 'को', '', 'टी', 'वी', 'क', '्व', 'ी', 'न', 'कहा', 'जाता', 'है', ''], ['', 'व', '', 'में', 'एक', 'भी', 'व्यक्ति', 'को', 'न', 'ौ', 'क', 'री', 'नहीं', 'मिल', 'ी', ''], ['प्र', 'ा', 'ध', 'िक', 'रण', 'घोषणा', 'के', 'बाद', 'हम', 'यहां', 'डा', 'उ', 'न', 'ल', 'ो', 'ड', 'करने', 'के', 'लिए', 'सी', 'ध', 'े', 'क', 'न', 'ेक्ट', 'कर', 'ेंगे', '', 'आप', 'इं', 'टर', 'फ', 'े', 'स', 'पर', 'जा', 'सकते', 'हैं', 'और', 'पी', 'डी', 'ए', 'फ', 'संगठन', 'में', 'बी', 'ए', 'ओ', 'य', 'ू', 'भाग', '', '', '', '', '', 'परीक्षा', 'योजना', '', '', '', '', 'डा', 'उ', 'न', 'ल', 'ो', 'ड', 'कर', 'सकते', 'हैं', ''], ['', 'स्ट्र', 'े', 'ल', 'िया', 'ने', 'पहले', 'ब', 'ल्ल', 'े', 'बा', 'जी', 'करते', 'हुए', 'निर्', 'धा', 'र', 'ित', '', '', 'ओ', 'वर', 'में', '', '', '', 'र', 'न', 'ों', 'का', 'वि', 'शा', 'ल', 'स्', 'को', 'र', 'ख', 'डा', 'किया', 'था', '', 'स', 'च', 'िन', 'की', 'ला', 'ज', 'वा', 'ब', 'पा', 'री', 'के', 'द', 'म', 'पर', 'भारत', 'ने', 'यह', 'स्', 'को', 'र', 'सिर्फ', '', '', '', '', 'ओ', 'वर', 'में', '', '', '', 'र', 'न', 'बना', 'कर', 'हासिल', 'कर', 'लिया', 'था', ''], ['वह', 'आप', 'दा', 'जो', 'ख', 'ि', 'म', 'न', '्यू', 'नी', 'क', 'रण', '', 'ए', 'न', 'पी', 'डी', 'आ', 'र', 'आ', 'र', '', 'के', 'लिए', 'राष्ट्रीय', 'म', 'ंच', 'के', 'सदस्य', 'थे', ''], ['एक', '्', 'ज', 'िट', 'ग', 'ेट', 'तक', 'आ', 'ने', 'के', 'बाद', 'वापस', 'चल', 'े', 'गए', 'दोनों', 'भ', 'ाई'], ['इस', 'सम', '्', 'म', 'े', 'ल', 'न', 'का', 'उ', 'द', '्', 'घ', 'ा', 'ट', 'न', 'करने', 'पहुंच', 'े', 'पी', 'एम', 'मोदी', 'ने', 'कहा', 'कि', '', 'टी', 'बी', 'को', '', '', 'साल', 'पहले', 'ड', 'ब', '्', 'ल', '्यू', 'ए', 'च', 'ओं', 'ने', 'ए', 'म', 'र', 'ज', 'ंस', 'ी', 'घ', 'ो', 'ष', 'ित', 'किया', 'था', 'और', 'त', 'भ', 'ी', 'से', 'इसके', 'खिलाफ', 'अभियान', 'चल', 'रहा', 'है', ''], ['पढ', 'ाई', 'में', 'मे', 'धा', 'वी', 'छात्र', 'को', 'पै', 'सा', 'ही', 'न', 'ही', 'हर', 'तरह', 'की', 'सह', 'ू', 'ल', 'िय', 'त', 'मिल', 'नी', 'चाहिए', '', 'जीवन', 'में', 'कुछ', 'कर', '', 'ग', 'ु', 'ज', 'र', 'ने', 'वाले', 'हर', 'कि', 'श', 'ो', 'र', 'और', 'युवा', 'को', 'अपने', 'ल', 'क्ष', '्य', 'की', 'ओर', 'अ', 'ग्र', 'स', 'र', 'होने', 'का', 'म', 'ौ', 'का', 'देने', 'के', 'लिए', 'उसे', 'और', 'उसके', 'परिवार', 'को', 'हर', 'चि', 'ं', 'ता', 'से', 'मु', 'क्त', 'किया', 'जा', 'स', 'के', 'तो', 'इससे', 'अच्छी', 'बात', 'और', 'क्या', 'हो', 'सकती', 'है', ''], ['लिख', 'ी', 'थी', 'मौत', 'त', 'भ', 'ी', 'सू', 'म', 'ो', 'आ', 'य', 'ी', 'ग', 'ल', 'त', 'रा', 'स्त', 'े', 'ः', 'कै', 'रा', 'ना', 'मु', 'ज', 'फ', '्', 'फ', 'र', 'न', 'ग', 'र', 'नि', 'वास', 'ी', 'ज', 'ग', 'पाल', '', '', '', '', 'ल', 'ो', 'नी', 'बा', 'र्ड', 'र', 'पर', 'द', 'ू', 'ध', 'की', 'डे', 'य', 'री', 'चल', 'ा', 'ता', 'था', '', 'वह', 'अपने', 'पांच', 'साथ', 'ियों', 'के', 'साथ', 'श', 'फ', 'ी', 'पुर', 'गांव', 'में', 'भ', 'ै', 'ंस', 'खरीद', 'ने', '', 'ग्र', 'ेट', 'र', 'न', 'ो', 'ए', 'ड', 'ा', 'से', 'पर', 'ी', 'चौ', 'क', 'के', 'रा', 'स्त', 'े', 'एक', '्स', 'प', '्रेस', 'वे', 'हो', 'ते', 'हुए', 'सू', 'म', 'ो', 'से', 'श', 'फ', 'ी', 'पुर', 'जा', 'रहा', 'था', '', 'एक', '्स', 'प', '्रेस', 'वे', 'पर', 'घ', 'ना', 'को', 'ह', 'रा', 'होने', 'के', 'कारण', 'सू', 'म', 'ो', 'सर्व', 'िस', 'रो', 'ड', 'पर', 'जाने', 'की', 'ब', 'जा', 'ए', 'मे', 'न', 'रो', 'ड', 'पर', 'ही', 'चल', 'ती', 'रही', ''], ['आज', 'ा', 'दी', 'के', 'बाद', 'यह', 'घ', 'ु', 'स', 'प', 'ै', 'ठ', 'लगातार', 'जारी', 'थी', 'क्योंकि', 'दूसरी', 'सरकार', 'ों', 'में', 'इस', 'े', 'रो', 'क', 'ने', 'की', 'इ', 'च्छ', 'ा', 'श', 'क्त', 'ि', 'नहीं', 'थी', ''], ['', 'च', 'ि', 'ं', 'ता', 'न', 'करें', ''], ['अ', 'ख', 'िल', 'ेश', 'और', 'राहुल', 'पर', 'हम', 'ला', 'करते', 'हुए', 'योग', 'ी', 'ने', 'कहा', 'कि', 'श', 'ह', 'जा', 'द', 'े', 'और', 'य', 'ु', 'व', 'राज', 'का', 'यू', 'पी', 'पर', 'ध्यान', 'नहीं', 'जाता', ''], ['खबर', 'ों', 'के', 'अनुसार', 'यह', 'घटना', 'राज', 'धा', 'नी', 'मुंबई', 'के', 'अ', 'क', '्', 'सा', 'बीच', 'की', 'है', 'ज', 'हा', 'ँ', 'एक', 'महिला', 'की', 'ह', 'त', '्', 'या', 'की', 'गु', 'त', '्', 'थ', 'ी', 'कुछ', 'समय', 'पहले', 'ही', 'सु', 'ल', 'झ', 'प', 'ाई', 'है', 'और', 'उसकी', 'हत्या', 'के', 'आरोप', 'में', 'उसके', 'दे', 'वर', 'को', 'गिरफ्तार', 'किया', 'गया', 'है', ''], ['पुलिस', 'आरोप', 'ी', 'से', 'पूछ', 'ता', 'छ', 'कर', 'रही', 'है', 'कि', 'अ', 'व', 'ै', 'ध', 'बि', 'र', 'ो', 'जा', 'के', '', 'टी', 'न', 'कहा', 'ं', 'से', 'ला', 'ए', 'और', 'बि', 'र', 'ो', 'जा', 'की', 'ख', 'े', 'प', 'को', 'कहा', 'ठ', 'िक', 'ा', 'ने', 'लगा', 'ने', 'ले', 'जा', 'रहा', 'था', '']]\n"
     ]
    }
   ],
   "source": [
    "Model_Tokens=[]\n",
    "for sentence in Sentences:\n",
    "    Model_Tokens.append(unigram(sentence))\n",
    "for token in Model_Tokens:\n",
    "    for i in range(len(token)):\n",
    "        token[i]=clean(token[i])\n",
    "temp=[]\n",
    "for i in Model_Tokens:\n",
    "    if len(i)!=0:\n",
    "        temp.append(i)\n",
    "Model_Tokens=temp\n",
    "print(Model_Tokens)"
   ]
  },
  {
   "cell_type": "markdown",
   "id": "0020ce6a",
   "metadata": {},
   "source": [
    "# Loading Solution"
   ]
  },
  {
   "cell_type": "code",
   "execution_count": 73,
   "id": "10b49e6f",
   "metadata": {},
   "outputs": [
    {
     "name": "stdout",
     "output_type": "stream",
     "text": [
      "[['आपको पता होगा', ' कि मोटापा भी', ' हार्ट अटैक का एक प्रमुख कारण है।'], ['कोई भी', ' बड़ा नेता', ' उनके क्षेत्र में', ' प्रचार के लिए', ' नहीं गया।'], ['थीं', ' डिप्रेशन की', ' शिकार'], ['ऐसे में', ' स्वप्ना के सामने', ' खुद को साबित करने और', ' उन लोगों को', ' गलत साबित करने की चुनौती थी', ' जो उनके काफी करीब रहते हुए', ' भी उन्हें पदक का दावेदार नहीं मान रहे थे। '], ['देशभर में', ' महिला सुरक्षा को लेकर', ' हंगामा मचा है', ' और', ' सख्त कानून की मांग की जा रही है.'], ['हाल ही में', 'दीपिका पादुकोण की फिल्म पद्मावती को लेकर', ' काफी विरोध चल रहा है.', ' और', ' कई राज्यों में', ' तो इस फिल्म को बैन भी कर दिया गया है.', ' वहीँ भंसाली और दीपिका को धमकियाँ भी दी जा रही हैं.'], ['खासकर', ' फेसबुक पर', ' हमारे हिन्दीभाषी राज्यों के', ' जीवन की विविधता और', ' दैनंदिन जीवन की चुनौतियां', ' नजर नहीं आ रही हैं।'], ['इसके बादवाले', ' एक माह तक', ' कुछ पका हुआ आहार', ' दिया जा सकता है। '], ['फिलहाल', ' जीआरपी पुलिस ने', ' आरोपी के खिलाफ', ' धारा 376 और पॉक्सो एक्ट के तहत', ' मामला दर्ज कर लिया है.'], ['68वें गणतंत्र दिवस की', ' पूर्व संध्या पर', ' राष्ट्र के नाम', ' संदेश देते', ' राष्ट्रपति प्रणब मुखर्जी'], ['वे चाहते हैं', ' कि', ' न ही सुन्नी रहें', ' न ही शिया। '], ['एकता कपूर को', ' टीवी क्वीन', ' कहा जाता है.'], ['2018 व 2019 में', ' एक भी व्यक्ति', ' को', ' नौकरी नहीं मिली।'], ['प्राधिकरण घोषणा के बाद', ' हम यहां', ' डाउनलोड करने के लिए', ' सीधे कनेक्ट करेंगे', ' आप इंटरफेस पर जा सकते हैं', ' और', ' पीडीएफ संगठन में', ' बीएओयू भाग 1', ' 2', ' 3 परीक्षा योजना 201 9', ' डाउनलोड कर सकते हैं। '], ['ऑस्ट्रेलिया ने', ' पहले बल्लेबाजी करते हुए', ' निर्धारित 50 ओवर में', ' 272 रनों का', ' विशाल स्कोर', ' खड़ा किया था।', ' सचिन की', ' लाजवाब पारी', ' के दम पर', ' भारत ने', ' यह स्कोर', ' सिर्फ 48.3 ओवर में', ' 275 रन बनाकर', ' हासिल कर लिया था।'], ['वह', ' आपदा', ' जोखिम न्यूनीकरण (एनपीडीआरआर) के लिए', ' राष्ट्रीय मंच के', ' सदस्य थे।'], ['एक्जिट गेट तक', ' आने के बाद', ' वापस चले गए', ' दोनों भाई'], ['इस सम्मेलन का', ' उद्घाटन करने', ' पहुंचे', ' पीएम मोदी ने', ' कहा कि', ' टीबी को', ' 25 साल पहले', ' डब्ल्यूएचओं ने', ' एमरजंसी घोषित किया था', ' और', ' तभी से', ' इसके खिलाफ', ' अभियान चल रहा है।'], ['पढ़ाई में', ' मेधावी छात्र को', ' पैसा ही नही', ' हर तरह की', ' सहूलियत मिलनी चाहिए।', ' जीवन में', ' कुछ कर-गुजरने वाले', ' हर किशोर और युवा को', ' अपने लक्ष्य की ओर', ' अग्रसर होने का', ' मौका देने के लिए ', 'उसे और उसके परिवार को', ' हर चिंता से', ' मुक्त किया जा सके', ' तो इससे', ' अच्छी बात', ' और क्या हो सकती है. '], ['लिखी थी', ' मौत तभी सूमो आयी', ' गलत रास्तेः कैराना मुजफ्फरनगर निवासी जगपाल (45)', ' लोनी बार्डर पर', ' दूध की डेयरी चलाता था।', ' वह', ' अपने पांच साथियों के साथ', ' शफीपुर गांव में', ' भैंस खरीदने', ' ग्रेटर नोएडा से', ' परी चौक के रास्ते', ' एक्सप्रेसवे होते हुए', ' सूमो से', ' शफीपुर जा रहा था।', ' एक्सप्रेस वे पर', ' घना कोहरा होने के कारण', ' सूमो सर्विस रोड पर', ' जाने की बजाए', ' मेन रोड पर', ' ही चलती रही।'], ['आजादी के बाद', ' यह घुसपैठ', ' लगातार जारी थी', ' क्योंकि', ' दूसरी सरकारों में', ' इसे', ' रोकने की', ' इच्छाशक्ति', ' नहीं थी.'], ['चिंता', ' न करें'], ['अखिलेश और राहुल पर', ' हमला करते हुए', ' योगी ने', ' कहा कि', ' शहजादे और युवराज का', ' यूपी पर', ' ध्यान नहीं जाता.'], ['खबरों के अनुसार', ' यह घटना', ' राजधानी मुंबई के अक्\\u200dसा बीच की है', ' जहाँ', ' एक महिला की हत्\\u200dया की गुत्\\u200dथी', ' कुछ समय पहले ही सुलझ पाई है', ' और', ' उसकी हत्या के आरोप में', ' उसके देवर को', ' गिरफ्तार किया गया है.'], ['पुलिस', ' आरोपी से', ' पूछताछ कर रही है', ' कि', ' अवैध बिरोजा के', ' टीन', ' कहां से', ' लाए और', ' बिरोजा की', ' खेप को', ' कहा ठिकाने लगाने ले', ' जा रहा था।']]\n"
     ]
    }
   ],
   "source": [
    "file2=open('cs689_assignment_sol.txt','r')\n",
    "Solns=file2.read()\n",
    "file2.close()\n",
    "Solns=Solns.split(\"\\n\")\n",
    "Soln_Tokens=[]\n",
    "for soln in Solns:\n",
    "    Soln_Tokens.append(soln.split(\",\"))\n",
    "print(Soln_Tokens)"
   ]
  },
  {
   "cell_type": "markdown",
   "id": "26498798",
   "metadata": {},
   "source": [
    "BPE(V=1k) Tokens"
   ]
  },
  {
   "cell_type": "code",
   "execution_count": 74,
   "id": "01cdcf84",
   "metadata": {},
   "outputs": [
    {
     "name": "stdout",
     "output_type": "stream",
     "text": [
      "[['आपको', 'प', 'ता', 'होगा', 'कि', 'मो', 'टा', 'पा', 'भी', 'ह', 'ार्ट', 'अ', 'ट', 'ै', 'क', 'का', 'एक', 'प्र', 'मु', 'ख', 'कारण', 'है', ''], ['कोई', 'भी', 'ब', 'डा', 'नेता', 'उनके', 'क्षेत्र', 'में', 'प्र', 'चार', 'के', 'लिए', 'नहीं', 'गया', ''], ['थी', 'ं', 'डि', 'प्र', 'ेशन', 'की', 'शिक', 'ार'], ['ऐसे', 'में', 'स्व', 'प्', 'ना', 'के', 'सामने', 'खु', 'द', 'को', 'सा', 'ब', 'ित', 'करने', 'और', 'उन', 'लोगों', 'को', 'ग', 'ल', 'त', 'सा', 'ब', 'ित', 'करने', 'की', 'चु', 'न', 'ौ', 'ती', 'थी', '', 'जो', 'उनके', 'काफी', 'करीब', 'रह', 'ते', 'हुए', 'भी', 'उन्हें', 'पद', 'क', 'का', 'दा', 'वे', 'दार', 'नहीं', 'मान', 'रहे', 'थे', ''], ['देश', 'भ', 'र', 'में', 'महिला', 'सुर', 'क्षा', 'को', 'लेकर', 'ह', 'ंग', 'ाम', 'ा', 'म', 'चा', 'है', 'और', 'स', 'ख', '्त', 'क', 'ान', 'ून', 'की', 'मांग', 'की', 'जा', 'रही', 'है', ''], ['हाल', 'ही', 'में', 'दी', 'प', 'िका', 'पा', 'द', 'ु', 'को', 'ण', 'की', 'फिल्म', 'पद', '्म', 'ा', 'व', 'ती', 'को', 'लेकर', 'काफी', 'वि', 'रो', 'ध', 'चल', 'रहा', 'है', '', 'और', 'कई', 'राज', '्यों', 'में', 'तो', 'इस', 'फिल्म', 'को', 'बै', 'न', 'भी', 'कर', 'दिया', 'गया', 'है', '', 'व', 'ही', 'ँ', 'भ', 'ंस', 'ाली', 'और', 'दी', 'प', 'िका', 'को', 'ध', 'म', 'क', 'िया', 'ँ', 'भी', 'दी', 'जा', 'रही', 'हैं', ''], ['ख', 'ास', 'कर', 'फ', 'े', 'स', 'ब', 'ुक', 'पर', 'हम', 'ारे', 'हि', 'न्', 'दी', 'भा', 'ष', 'ी', 'राज', '्यों', 'के', 'जी', 'वन', 'की', 'वि', 'वि', 'ध', 'ता', 'और', 'द', 'ैन', 'ंद', 'िन', 'जी', 'वन', 'की', 'चु', 'न', 'ौ', 'त', 'ियां', 'न', 'जर', 'नहीं', 'आ', 'रही', 'हैं', ''], ['इसके', 'बाद', 'वाल', 'े', 'एक', 'म', 'ाह', 'तक', 'कुछ', 'प', 'का', 'हुआ', 'आ', 'हार', 'दिया', 'जा', 'सकता', 'है', ''], ['फिल', 'ह', 'ाल', 'जी', 'आ', 'र', 'पी', 'पुलिस', 'ने', 'आरो', 'पी', 'के', 'खिलाफ', 'ध', 'ारा', '', '', '', 'और', 'प', 'ॉ', 'क्स', 'ो', 'ए', 'क्ट', 'के', 'त', 'हत', 'माम', 'ला', 'दर्ज', 'कर', 'लिया', 'है', ''], ['', '', 'व', 'ें', 'ग', 'ण', 'त', 'ंत्र', 'द', 'िव', 'स', 'की', 'पूर्व', 'सं', 'ध', '्या', 'पर', 'राष्ट', '्र', 'के', 'नाम', 'सं', 'देश', 'दे', 'ते', 'राष्ट', '्र', 'प', 'ति', 'प्र', 'ण', 'ब', 'मुख', 'र्', 'जी'], ['वे', 'चाह', 'ते', 'हैं', 'कि', 'न', 'ही', 'सु', 'न्', 'नी', 'रह', 'ें', 'न', 'ही', 'श', 'िया', ''], ['एक', 'ता', 'कप', 'ूर', 'को', 'टी', 'वी', 'क', '्', 'वी', 'न', 'कहा', 'जाता', 'है', ''], ['', '', 'व', '', '', 'में', 'एक', 'भी', 'व्य', 'क्ति', 'को', 'न', 'ौ', 'क', 'री', 'नहीं', 'मिल', 'ी', ''], ['प्रा', 'ध', 'िक', 'रण', 'घ', 'ोष', 'णा', 'के', 'बाद', 'हम', 'यहां', 'ड', 'ा', 'उ', 'न', 'लो', 'ड', 'करने', 'के', 'लिए', 'सी', 'ध', 'े', 'क', 'ने', 'क्ट', 'कर', 'ेंगे', '', 'आप', 'इं', 'टर', 'फ', 'े', 'स', 'पर', 'जा', 'सकते', 'हैं', 'और', 'पी', 'डी', 'ए', 'फ', 'संग', 'ठ', 'न', 'में', 'बी', 'ए', 'ओ', 'य', 'ू', 'भा', 'ग', '', '', '', '', '', 'पर', 'ी', 'क्षा', 'योजना', '', '', '', 'ड', 'ा', 'उ', 'न', 'लो', 'ड', 'कर', 'सकते', 'हैं', ''], ['', 'स्ट', '्रे', 'ल', 'िया', 'ने', 'पहले', 'बल्', 'ले', 'बा', 'जी', 'करते', 'हुए', 'निर्', 'धार', 'ित', '', '', 'ओ', 'वर', 'में', '', '', '', 'र', 'नों', 'का', 'विश', 'ाल', 'स्', 'को', 'र', 'ख', 'डा', 'किया', 'था', '', 'स', 'च', 'िन', 'की', 'ला', 'ज', 'वा', 'ब', 'प', 'ारी', 'के', 'द', 'म', 'पर', 'भारत', 'ने', 'यह', 'स्', 'को', 'र', 'सि', 'र्फ', '', '', '', '', 'ओ', 'वर', 'में', '', '', '', 'र', 'न', 'बना', 'कर', 'ह', 'ास', 'िल', 'कर', 'लिया', 'था', ''], ['वह', 'आप', 'दा', 'जो', 'ख', 'िम', 'न', '्यू', 'नी', 'कर', 'ण', '', 'ए', 'न', 'पी', 'डी', 'आ', 'र', 'आ', 'र', '', 'के', 'लिए', 'राष्ट', '्रीय', 'म', 'ंच', 'के', 'स', 'द', 'स', '्य', 'थे', ''], ['ए', 'क्', 'ज', 'िट', 'ग', 'ेट', 'तक', 'आने', 'के', 'बाद', 'वा', 'प', 'स', 'च', 'ले', 'गए', 'दोनों', 'भा', 'ई'], ['इस', 'सम', '्म', 'ेल', 'न', 'का', 'उ', 'द्', 'घ', 'ा', 'ट', 'न', 'करने', 'पहुंच', 'े', 'पी', 'एम', 'मोदी', 'ने', 'कहा', 'कि', 'टी', 'बी', 'को', '', '', 'साल', 'पहले', 'ड', 'ब', '्ल', '्यू', 'ए', 'च', 'ओं', 'ने', 'ए', 'म', 'र', 'ज', 'ं', 'सी', 'घ', 'ोष', 'ित', 'किया', 'था', 'और', 'त', 'भी', 'से', 'इसके', 'खिलाफ', 'अभ', 'िया', 'न', 'चल', 'रहा', 'है', ''], ['पढ', 'ाई', 'में', 'मे', 'धा', 'वी', 'छा', 'त्र', 'को', 'पै', 'सा', 'ही', 'न', 'ही', 'हर', 'तरह', 'की', 'सह', 'ूल', 'िय', 'त', 'मिल', 'नी', 'चाहिए', '', 'जी', 'वन', 'में', 'कुछ', 'कर', '', 'ग', 'ु', 'जर', 'ने', 'वाले', 'हर', 'कि', 'श', 'ोर', 'और', 'यु', 'वा', 'को', 'अपने', 'ल', 'क्ष', '्य', 'की', 'ओर', 'अग', '्र', 'सर', 'होने', 'का', 'मौ', 'का', 'देने', 'के', 'लिए', 'उसे', 'और', 'उसके', 'परि', 'वार', 'को', 'हर', 'च', 'ि', 'ं', 'ता', 'से', 'मु', 'क्त', 'किया', 'जा', 'स', 'के', 'तो', 'इससे', 'अच्छ', 'ी', 'बात', 'और', 'क्या', 'हो', 'सकती', 'है', ''], ['लि', 'ख', 'ी', 'थी', 'मौ', 'त', 'त', 'भी', 'सू', 'म', 'ो', 'आय', 'ी', 'ग', 'ल', 'त', 'रा', 'स्', 'ते', 'ः', 'कै', 'र', 'ाना', 'मु', 'ज', 'फ', '्', 'फ', 'र', 'न', 'गर', 'नि', 'वा', 'सी', 'जग', 'पाल', '', '', '', '', 'ल', 'ो', 'नी', 'ब', 'ार्', 'ड', 'र', 'पर', 'द', 'ू', 'ध', 'की', 'ड', 'े', 'य', 'री', 'च', 'ला', 'ता', 'था', '', 'वह', 'अपने', 'प', 'ांच', 'साथ', 'ियों', 'के', 'साथ', 'श', 'फी', 'पुर', 'गांव', 'में', 'भ', 'ैं', 'स', 'ख', 'री', 'द', 'ने', 'ग', '्रे', 'टर', 'न', 'ो', 'ए', 'ड', 'ा', 'से', 'पर', 'ी', 'चौ', 'क', 'के', 'रा', 'स्', 'ते', 'ए', 'क्स', 'प', '्रेस', 'वे', 'होते', 'हुए', 'सू', 'म', 'ो', 'से', 'श', 'फी', 'पुर', 'जा', 'रहा', 'था', '', 'ए', 'क्स', 'प', '्रेस', 'वे', 'पर', 'घ', 'ना', 'को', 'ह', 'रा', 'होने', 'के', 'कारण', 'सू', 'म', 'ो', 'स', 'र्व', 'िस', 'रो', 'ड', 'पर', 'जाने', 'की', 'ब', 'जा', 'ए', 'मे', 'न', 'रो', 'ड', 'पर', 'ही', 'चल', 'ती', 'रही', ''], ['आ', 'जा', 'दी', 'के', 'बाद', 'यह', 'घ', 'ु', 'स', 'प', 'ै', 'ठ', 'लगा', 'तार', 'जारी', 'थी', 'क्योंकि', 'दूस', 'री', 'सरकार', 'ों', 'में', 'इसे', 'र', 'ोक', 'ने', 'की', 'इ', 'च्छ', 'ा', 'श', 'क्ति', 'नहीं', 'थी', ''], ['', 'च', 'ि', 'ं', 'ता', 'न', 'करें', ''], ['अ', 'ख', 'िल', 'ेश', 'और', 'रा', 'ह', 'ुल', 'पर', 'हम', 'ला', 'करते', 'हुए', 'य', 'ोग', 'ी', 'ने', 'कहा', 'कि', 'श', 'ह', 'जा', 'दे', 'और', 'यु', 'व', 'रा', 'ज', 'का', 'यू', 'पी', 'पर', 'ध', '्या', 'न', 'नहीं', 'जाता', ''], ['ख', 'बर', 'ों', 'के', 'अनुसार', 'यह', 'घटना', 'राज', 'ध', 'ानी', 'मु', 'ंब', 'ई', 'के', 'अ', 'क्', '', 'सा', 'बीच', 'की', 'है', 'ज', 'हा', 'ँ', 'एक', 'महिला', 'की', 'ह', 'त्', '', 'या', 'की', 'गु', 'त्', '', 'थ', 'ी', 'कुछ', 'समय', 'पहले', 'ही', 'स', 'ुल', 'झ', 'पा', 'ई', 'है', 'और', 'उस', 'की', 'ह', 'त्या', 'के', 'आरोप', 'में', 'उसके', 'दे', 'वर', 'को', 'गिर', 'फ', '्त', 'ार', 'किया', 'गया', 'है', ''], ['पुलिस', 'आरो', 'पी', 'से', 'पू', 'छ', 'ता', 'छ', 'कर', 'रही', 'है', 'कि', 'अव', 'ै', 'ध', 'ब', 'िर', 'ो', 'जा', 'के', 'ट', 'ीन', 'कहा', 'ं', 'से', 'ला', 'ए', 'और', 'ब', 'िर', 'ो', 'जा', 'की', 'ख', 'े', 'प', 'को', 'कहा', 'ठ', 'िका', 'ने', 'लगा', 'ने', 'ले', 'जा', 'रहा', 'था', '']]\n"
     ]
    }
   ],
   "source": [
    "Model_Tokens_BPE_1k=[]\n",
    "for sentence in Sentences:\n",
    "    Model_Tokens_BPE_1k.append(bpe_1k(sentence))\n",
    "for token in Model_Tokens_BPE_1k:\n",
    "    for i in range(len(token)):\n",
    "        token[i]=clean(token[i])\n",
    "temp=[]\n",
    "for i in Model_Tokens_BPE_1k:\n",
    "    if len(i)!=0:\n",
    "        temp.append(i)\n",
    "Model_Tokens_BPE_1k=temp\n",
    "print(Model_Tokens_BPE_1k)"
   ]
  },
  {
   "cell_type": "markdown",
   "id": "c9f22b2c",
   "metadata": {},
   "source": [
    "BPE(V=2k) Tokens"
   ]
  },
  {
   "cell_type": "code",
   "execution_count": 75,
   "id": "a6c2c24b",
   "metadata": {},
   "outputs": [
    {
     "name": "stdout",
     "output_type": "stream",
     "text": [
      "[['आपको', 'पता', 'होगा', 'कि', 'मो', 'टा', 'पा', 'भी', 'ह', 'ार्ट', 'अ', 'ट', 'ै', 'क', 'का', 'एक', 'प्रमुख', 'कारण', 'है', ''], ['कोई', 'भी', 'बडा', 'नेता', 'उनके', 'क्षेत्र', 'में', 'प्र', 'चार', 'के', 'लिए', 'नहीं', 'गया', ''], ['थीं', 'डि', 'प्र', 'ेशन', 'की', 'शिक', 'ार'], ['ऐसे', 'में', 'स्व', 'प्', 'ना', 'के', 'सामने', 'खुद', 'को', 'सा', 'ब', 'ित', 'करने', 'और', 'उन', 'लोगों', 'को', 'गल', 'त', 'सा', 'ब', 'ित', 'करने', 'की', 'चुन', 'ौ', 'ती', 'थी', '', 'जो', 'उनके', 'काफी', 'करीब', 'रहते', 'हुए', 'भी', 'उन्हें', 'पद', 'क', 'का', 'दा', 'वे', 'दार', 'नहीं', 'मान', 'रहे', 'थे', ''], ['देश', 'भर', 'में', 'महिला', 'सुरक्षा', 'को', 'लेकर', 'ह', 'ंग', 'ामा', 'म', 'चा', 'है', 'और', 'स', 'ख', '्त', 'कानून', 'की', 'मांग', 'की', 'जा', 'रही', 'है', ''], ['हाल', 'ही', 'में', 'दी', 'प', 'िका', 'पा', 'द', 'ु', 'को', 'ण', 'की', 'फिल्म', 'पद', '्म', 'ा', 'व', 'ती', 'को', 'लेकर', 'काफी', 'विरोध', 'चल', 'रहा', 'है', '', 'और', 'कई', 'राज', '्यों', 'में', 'तो', 'इस', 'फिल्म', 'को', 'बै', 'न', 'भी', 'कर', 'दिया', 'गया', 'है', '', 'व', 'ही', 'ँ', 'भ', 'ंस', 'ाली', 'और', 'दी', 'प', 'िका', 'को', 'ध', 'म', 'क', 'िया', 'ँ', 'भी', 'दी', 'जा', 'रही', 'हैं', ''], ['खास', 'कर', 'फे', 'स', 'ब', 'ुक', 'पर', 'हमारे', 'हि', 'न्', 'दी', 'भा', 'ष', 'ी', 'राज', '्यों', 'के', 'जीवन', 'की', 'वि', 'वि', 'ध', 'ता', 'और', 'द', 'ैन', 'ंद', 'िन', 'जीवन', 'की', 'चुन', 'ौ', 'त', 'ियां', 'नजर', 'नहीं', 'आ', 'रही', 'हैं', ''], ['इसके', 'बाद', 'वाल', 'े', 'एक', 'माह', 'तक', 'कुछ', 'प', 'का', 'हुआ', 'आ', 'हार', 'दिया', 'जा', 'सकता', 'है', ''], ['फिल', 'हाल', 'जी', 'आर', 'पी', 'पुलिस', 'ने', 'आरोपी', 'के', 'खिलाफ', 'ध', 'ारा', '', '', '', 'और', 'प', 'ॉ', 'क्स', 'ो', 'ए', 'क्ट', 'के', 'तहत', 'मामला', 'दर्ज', 'कर', 'लिया', 'है', ''], ['', '', 'वें', 'गण', 'तंत्र', 'दिव', 'स', 'की', 'पूर्व', 'सं', 'ध', '्या', 'पर', 'राष्ट्र', 'के', 'नाम', 'सं', 'देश', 'देते', 'राष्ट्रपति', 'प्र', 'ण', 'ब', 'मुख', 'र्जी'], ['वे', 'चाहते', 'हैं', 'कि', 'न', 'ही', 'सु', 'न्', 'नी', 'रह', 'ें', 'न', 'ही', 'श', 'िया', ''], ['एक', 'ता', 'कप', 'ूर', 'को', 'टी', 'वी', 'क', '्वी', 'न', 'कहा', 'जाता', 'है', ''], ['', 'व', '', 'में', 'एक', 'भी', 'व्यक्ति', 'को', 'नौ', 'करी', 'नहीं', 'मिली', ''], ['प्रा', 'धिक', 'रण', 'घोषणा', 'के', 'बाद', 'हम', 'यहां', 'डा', 'उ', 'न', 'लो', 'ड', 'करने', 'के', 'लिए', 'सी', 'धे', 'क', 'ने', 'क्ट', 'करेंगे', '', 'आप', 'इंटर', 'फे', 'स', 'पर', 'जा', 'सकते', 'हैं', 'और', 'पी', 'डी', 'एफ', 'संग', 'ठन', 'में', 'बी', 'ए', 'ओ', 'यू', 'भाग', '', '', '', '', '', 'परीक्षा', 'योजना', '', '', 'डा', 'उ', 'न', 'लो', 'ड', 'कर', 'सकते', 'हैं', ''], ['', 'स्ट', '्रे', 'लिया', 'ने', 'पहले', 'बल्ले', 'बाजी', 'करते', 'हुए', 'निर्', 'धार', 'ित', '', 'ओ', 'वर', 'में', '', '', '', 'र', 'नों', 'का', 'विश', 'ाल', 'स्', 'को', 'र', 'ख', 'डा', 'किया', 'था', '', 'सच', 'िन', 'की', 'ला', 'ज', 'वा', 'ब', 'प', 'ारी', 'के', 'द', 'म', 'पर', 'भारत', 'ने', 'यह', 'स्', 'को', 'र', 'सिर्फ', '', '', '', '', 'ओ', 'वर', 'में', '', '', '', 'रन', 'बना', 'कर', 'हासिल', 'कर', 'लिया', 'था', ''], ['वह', 'आप', 'दा', 'जो', 'ख', 'िम', 'न्यू', 'नी', 'करण', '', 'एन', 'पी', 'डी', 'आर', 'आर', '', 'के', 'लिए', 'राष्ट्रीय', 'म', 'ंच', 'के', 'सदस्य', 'थे', ''], ['ए', 'क्', 'ज', 'िट', 'ग', 'ेट', 'तक', 'आने', 'के', 'बाद', 'वापस', 'च', 'ले', 'गए', 'दोनों', 'भाई'], ['इस', 'सम्म', 'ेल', 'न', 'का', 'उ', 'द्', 'घ', 'ा', 'टन', 'करने', 'पहुंचे', 'पीएम', 'मोदी', 'ने', 'कहा', 'कि', 'टी', 'बी', 'को', '', 'साल', 'पहले', 'ड', 'ब', '्ल', '्यू', 'ए', 'च', 'ओं', 'ने', 'एम', 'र', 'ज', 'ं', 'सी', 'घोष', 'ित', 'किया', 'था', 'और', 'त', 'भी', 'से', 'इसके', 'खिलाफ', 'अभियान', 'चल', 'रहा', 'है', ''], ['पढ', 'ाई', 'में', 'मे', 'धा', 'वी', 'छात्र', 'को', 'पै', 'सा', 'ही', 'नही', 'हर', 'तरह', 'की', 'सह', 'ूल', 'िय', 'त', 'मिल', 'नी', 'चाहिए', '', 'जीवन', 'में', 'कुछ', 'कर', '', 'ग', 'ु', 'जर', 'ने', 'वाले', 'हर', 'कि', 'श', 'ोर', 'और', 'युवा', 'को', 'अपने', 'लक्ष', '्य', 'की', 'ओर', 'अग', '्र', 'सर', 'होने', 'का', 'मौ', 'का', 'देने', 'के', 'लिए', 'उसे', 'और', 'उसके', 'परिवार', 'को', 'हर', 'चि', 'ं', 'ता', 'से', 'मु', 'क्त', 'किया', 'जा', 'सके', 'तो', 'इससे', 'अच्छी', 'बात', 'और', 'क्या', 'हो', 'सकती', 'है', ''], ['लिख', 'ी', 'थी', 'मौत', 'त', 'भी', 'सू', 'मो', 'आय', 'ी', 'गल', 'त', 'रा', 'स्', 'ते', 'ः', 'कै', 'र', 'ाना', 'मु', 'ज', 'फ्', 'फ', 'र', 'न', 'गर', 'नि', 'वासी', 'जग', 'पाल', '', '', '', '', 'लो', 'नी', 'ब', 'ार्', 'डर', 'पर', 'द', 'ू', 'ध', 'की', 'डे', 'य', 'री', 'चला', 'ता', 'था', '', 'वह', 'अपने', 'पांच', 'साथ', 'ियों', 'के', 'साथ', 'श', 'फी', 'पुर', 'गांव', 'में', 'भ', 'ैं', 'स', 'खरीद', 'ने', 'ग', '्रे', 'टर', 'न', 'ो', 'ए', 'डा', 'से', 'परी', 'चौ', 'क', 'के', 'रा', 'स्', 'ते', 'एक्स', 'प', '्रेस', 'वे', 'होते', 'हुए', 'सू', 'मो', 'से', 'श', 'फी', 'पुर', 'जा', 'रहा', 'था', '', 'एक्स', 'प', '्रेस', 'वे', 'पर', 'घ', 'ना', 'को', 'हरा', 'होने', 'के', 'कारण', 'सू', 'मो', 'सर्व', 'िस', 'रो', 'ड', 'पर', 'जाने', 'की', 'ब', 'जा', 'ए', 'मे', 'न', 'रो', 'ड', 'पर', 'ही', 'चल', 'ती', 'रही', ''], ['आ', 'जा', 'दी', 'के', 'बाद', 'यह', 'घ', 'ु', 'स', 'प', 'ै', 'ठ', 'लगातार', 'जारी', 'थी', 'क्योंकि', 'दूसरी', 'सरकार', 'ों', 'में', 'इसे', 'रोक', 'ने', 'की', 'इ', 'च्छ', 'ा', 'श', 'क्ति', 'नहीं', 'थी', ''], ['', 'च', 'ि', 'ं', 'ता', 'न', 'करें', ''], ['अख', 'िल', 'ेश', 'और', 'राहुल', 'पर', 'हम', 'ला', 'करते', 'हुए', 'योग', 'ी', 'ने', 'कहा', 'कि', 'श', 'ह', 'जा', 'दे', 'और', 'युव', 'राज', 'का', 'यू', 'पी', 'पर', 'ध्यान', 'नहीं', 'जाता', ''], ['खबर', 'ों', 'के', 'अनुसार', 'यह', 'घटना', 'राज', 'ध', 'ानी', 'मुंबई', 'के', 'अ', 'क्', 'सा', 'बीच', 'की', 'है', 'ज', 'हाँ', 'एक', 'महिला', 'की', 'ह', 'त्', '', 'या', 'की', 'गु', 'त्', '', 'थ', 'ी', 'कुछ', 'समय', 'पहले', 'ही', 'स', 'ुल', 'झ', 'पा', 'ई', 'है', 'और', 'उसकी', 'हत्या', 'के', 'आरोप', 'में', 'उसके', 'दे', 'वर', 'को', 'गिरफ्तार', 'किया', 'गया', 'है', ''], ['पुलिस', 'आरोपी', 'से', 'पूछ', 'ता', 'छ', 'कर', 'रही', 'है', 'कि', 'अव', 'ै', 'ध', 'ब', 'िर', 'ो', 'जा', 'के', 'ट', 'ीन', 'कहा', 'ं', 'से', 'ला', 'ए', 'और', 'ब', 'िर', 'ो', 'जा', 'की', 'खे', 'प', 'को', 'कहा', 'ठ', 'िका', 'ने', 'लगाने', 'ले', 'जा', 'रहा', 'था', '']]\n"
     ]
    }
   ],
   "source": [
    "Model_Tokens_BPE_2k=[]\n",
    "for sentence in Sentences:\n",
    "    Model_Tokens_BPE_2k.append(bpe_2k(sentence))\n",
    "for token in Model_Tokens_BPE_2k:\n",
    "    for i in range(len(token)):\n",
    "        token[i]=clean(token[i])\n",
    "temp=[]\n",
    "for i in Model_Tokens_BPE_2k:\n",
    "    if len(i)!=0:\n",
    "        temp.append(i)\n",
    "Model_Tokens_BPE_2k=temp\n",
    "print(Model_Tokens_BPE_2k)"
   ]
  },
  {
   "cell_type": "markdown",
   "id": "b15c2822",
   "metadata": {},
   "source": [
    "mBERT(Max_length=1k) Tokens"
   ]
  },
  {
   "cell_type": "code",
   "execution_count": 76,
   "id": "4873b731",
   "metadata": {},
   "outputs": [
    {
     "name": "stdout",
     "output_type": "stream",
     "text": [
      "[['', 'आप', 'क', 'पत', 'ह', 'ग', 'क', 'मट', 'प', 'भ', 'हर', 'ट', 'अटक', 'क', 'एक', 'पर', 'मख', 'करण', 'ह', '', ''], ['', 'कई', 'भ', 'बड', 'नत', 'उन', 'क', 'क', 'ष', 'तर', 'म', 'पर', 'चर', 'क', 'ल', 'ए', 'न', 'ह', 'ग', 'य', '', ''], ['', 'थ', 'ड', 'पर', 'शन', 'क', 'श', 'कर', ''], ['', 'ऐस', 'म', 'सव', 'पन', 'क', 'समन', 'खद', 'क', 'सब', 'त', 'करन', 'और', 'उन', 'लग', 'क', 'गलत', 'सब', 'त', 'करन', 'क', '', 'चन', 'त', 'थ', '', 'ज', 'उन', 'क', 'कफ', 'कर', 'ब', 'रह', 'त', 'ह', 'ए', 'भ', 'उन', 'ह', 'पदक', 'क', '', 'दव', 'दर', 'न', 'ह', 'मन', 'रह', 'थ', '', '', ''], ['', 'दश', 'भर', 'म', 'महल', 'सरक', 'ष', 'क', '', 'लकर', 'ह', 'गम', 'मच', 'ह', 'और', 'सख', 'त', 'कन', 'न', 'क', 'मग', 'क', 'ज', 'रह', 'ह', '', ''], ['', 'हल', 'ह', 'म', 'द', 'पक', 'पदक', 'ण', 'क', 'फल', 'म', 'पद', 'म', 'वत', 'क', '', 'लकर', 'कफ', 'वर', 'ध', 'चल', 'रह', 'ह', '', 'और', 'कई', 'रज', 'य', 'म', 'त', 'इस', 'फल', 'म', 'क', 'बन', 'भ', 'कर', 'द', 'य', 'ग', 'य', 'ह', '', 'वह', 'भ', 'सल', 'और', 'द', 'पक', 'क', 'धमक', 'य', 'भ', 'द', 'ज', 'रह', 'ह', '', ''], ['', 'खस', 'कर', 'फस', 'बक', 'पर', 'हम', 'र', 'ह', 'नद', 'भ', 'ष', 'रज', 'य', 'क', 'ज', 'वन', 'क', 'व', 'वध', 'त', 'और', '', 'दन', 'दन', 'ज', 'वन', 'क', '', 'चन', 'त', 'य', 'नजर', 'न', 'ह', 'आ', 'रह', 'ह', '', ''], ['', 'इस', 'क', 'बद', 'वल', 'एक', 'मह', 'तक', 'क', 'छ', 'पक', 'ह', 'आ', 'आ', 'हर', 'द', 'य', 'ज', 'सक', 'त', 'ह', '', '', ''], ['', 'फल', 'हल', 'ज', 'आर', 'प', 'पल', 'स', 'न', 'आर', 'प', 'क', 'खल', 'फ', 'धर', '', 'और', 'पक', 'स', 'एक', 'ट', 'क', 'तहत', 'म', 'मल', 'दर', 'ज', 'कर', 'लय', 'ह', '', ''], ['', '', 'व', 'गण', 'त', 'तर', 'द', 'वस', 'क', 'पर', 'व', 'सध', 'य', 'पर', 'र', 'ष', 'टर', 'क', 'नम', 'सद', 'श', 'द', 'त', 'र', 'ष', 'टर', 'पत', 'पर', 'णब', 'म', 'खर', 'ज', ''], ['', 'व', 'चह', 'त', 'ह', 'क', 'न', 'ह', 'सन', 'न', 'रह', 'न', 'ह', '', 'शय', '', '', ''], ['', 'एक', 'त', 'कप', 'र', 'क', '', 'टव', 'कव', 'न', 'कह', 'जत', 'ह', '', ''], ['', '', 'व', '', 'म', 'एक', 'भ', 'वय', 'कत', 'क', 'न', 'कर', 'न', 'ह', 'मल', '', ''], ['', 'पर', 'ध', 'करण', 'घ', 'षण', 'क', 'बद', 'हम', 'यह', 'ड', 'उन', 'ल', 'ड', 'करन', 'क', 'ल', 'ए', 'सध', 'कन', 'कट', 'कर', 'ग', '', 'आप', 'इट', 'रफ', 'स', 'पर', 'ज', 'सक', 'त', 'ह', 'और', 'पड', 'एफ', 'सग', 'ठन', 'म', 'ब', 'ए', 'ओ', 'य', 'भग', '', '', '', '', '', 'पर', 'क', 'ष', 'य', 'जन', '', '', 'ड', 'उन', 'ल', 'ड', 'कर', 'सक', 'त', 'ह', '', '', ''], ['', '', 'स', 'टर', 'लय', 'न', 'पहल', 'बल', 'लब', 'ज', 'करत', 'ह', 'ए', 'नर', 'धर', 'त', '', 'ओवर', 'म', '', 'रन', 'क', 'व', 'शल', '', 'सकर', 'खड', 'क', 'य', 'थ', '', 'सच', 'न', 'क', 'ल', 'जव', 'ब', 'पर', 'क', 'दम', 'पर', 'भरत', 'न', 'यह', '', 'सकर', 'सर', 'फ', '', '', 'ओवर', 'म', '', 'रन', 'बनकर', 'हस', 'ल', 'कर', 'लय', 'थ', '', ''], ['', 'वह', 'आप', 'द', 'जखम', 'नयन', 'करण', '', 'एन', 'पड', 'आरआर', '', 'क', 'ल', 'ए', 'र', 'ष', 'टर', 'य', 'मच', 'क', 'सद', 'स', 'य', 'थ', '', ''], ['', 'एक', 'ज', 'ट', 'गट', 'तक', 'आन', 'क', 'बद', 'व', 'पस', 'चल', 'गए', '', 'दन', 'भ', 'ई', ''], ['', 'इस', 'सम', 'मल', 'न', 'क', 'उद', 'घटन', 'करन', 'पह', 'च', 'प', 'एम', 'मद', 'न', 'कह', 'क', '', 'टब', 'क', '', 'सल', 'पहल', 'डबल', 'य', 'एचओ', 'न', 'एम', 'रज', 'स', 'घ', 'ष', 'त', 'क', 'य', 'थ', 'और', 'त', 'भ', 'स', 'इस', 'क', 'खल', 'फ', 'अभय', 'न', 'चल', 'रह', 'ह', '', ''], ['', 'पढ', 'ई', 'म', 'मध', 'व', 'छत', 'र', 'क', 'पस', 'ह', 'न', 'ह', 'हर', 'तरह', 'क', 'सहल', 'यत', 'मल', 'न', 'चह', 'ए', '', 'ज', 'वन', 'म', 'क', 'छ', 'कर', '', 'ग', 'जर', 'न', '', 'वल', 'हर', 'क', 'शर', 'और', 'य', 'व', 'क', 'अपन', 'लक', 'ष', 'य', 'क', 'ओर', 'अगर', 'सर', '', 'हन', 'क', 'मक', '', 'दन', 'क', 'ल', 'ए', 'उस', 'और', 'उस', 'क', 'पर', 'वर', 'क', 'हर', 'च', 'त', 'स', 'मक', 'त', 'क', 'य', 'ज', 'सक', 'त', 'इस', 'स', 'अच', 'छ', 'बत', 'और', 'क', 'य', 'ह', 'सक', 'त', 'ह', '', '', ''], ['', 'लख', 'थ', 'मत', 'त', 'भ', 'सम', 'आय', 'गलत', 'रस', 'त', 'करन', 'मज', 'फ', 'फर', 'नगर', 'नव', 'स', 'जग', 'पल', '', '', '', '', 'लन', 'बर', 'डर', 'पर', 'द', 'ध', 'क', 'ड', 'यर', 'चल', 'त', 'थ', '', 'वह', 'अपन', 'पच', 'स', 'थ', 'य', 'क', 'स', 'थ', 'श', 'फ', 'पर', 'गव', 'म', 'भ', 'स', 'खर', 'दन', 'गर', 'टर', 'नए', 'ड', 'स', 'पर', 'चक', 'क', 'रस', 'त', 'एक', 'स', 'पर', 'सव', 'हत', 'ह', 'ए', 'सम', 'स', 'श', 'फ', 'पर', 'ज', 'रह', 'थ', '', 'एक', 'स', 'पर', 'स', 'व', 'पर', 'घन', 'कहर', '', 'हन', 'क', 'करण', 'सम', 'सरव', 'स', 'रड', 'पर', 'जन', 'क', 'बज', 'ए', 'मन', 'रड', 'पर', 'ह', 'चल', 'त', 'रह', '', ''], ['', 'आज', 'द', 'क', 'बद', 'यह', 'घस', 'प', 'ठ', 'लग', 'तर', 'जर', 'थ', 'क', 'यक', 'दस', 'र', 'सर', 'कर', 'म', 'इस', 'रक', 'न', 'क', 'इ', 'च', 'छ', 'श', 'कत', 'न', 'ह', 'थ', '', ''], ['', '', 'च', 'त', 'न', 'कर', '', ''], ['', 'अख', 'ल', 'श', 'और', 'रह', 'ल', 'पर', 'हम', 'ल', 'करत', 'ह', 'ए', 'य', 'ग', 'न', 'कह', 'क', 'शह', 'ज', 'द', 'और', 'य', 'वर', 'ज', 'क', 'य', 'प', 'पर', 'ध', 'यन', 'न', 'ह', 'जत', '', ''], ['', 'खबर', 'क', 'अन', 'सर', 'यह', '', 'घटन', 'रज', 'धन', 'म', 'ब', 'ई', 'क', 'अक', 'स', 'बच', 'क', 'ह', 'जह', 'एक', 'महल', 'क', 'हत', 'य', 'क', 'गत', 'थ', 'क', 'छ', 'समय', 'पहल', 'ह', 'सल', 'झ', 'प', 'ई', 'ह', 'और', 'उस', 'क', 'हत', 'य', 'क', 'आर', 'प', 'म', 'उस', 'क', 'द', 'वर', 'क', 'गर', 'फ', 'तर', 'क', 'य', 'ग', 'य', 'ह', '', ''], ['', 'पल', 'स', 'आर', 'प', 'स', 'पछ', 'त', 'छ', 'कर', 'रह', 'ह', 'क', 'अवध', 'बर', 'ज', 'क', 'टन', 'कह', 'स', 'ल', 'ए', 'और', 'बर', 'ज', 'क', 'खप', 'क', 'कह', 'ठ', 'कन', 'लगन', 'ल', 'ज', 'रह', 'थ', '', ''], ['', ''], ['', ''], ['', '']]\n"
     ]
    }
   ],
   "source": [
    "Model_Tokens_Bert1k=[]\n",
    "for sentence in Sentences:\n",
    "    Model_Tokens_Bert1k.append(mBERT1k(sentence))\n",
    "for token in Model_Tokens_Bert1k:\n",
    "    for i in range(len(token)):\n",
    "        token[i]=clean(token[i])\n",
    "temp=[]\n",
    "for i in Model_Tokens_Bert1k:\n",
    "    if len(i)!=0:\n",
    "        temp.append(i)\n",
    "Model_Tokens_Bert1k=temp\n",
    "print(Model_Tokens_Bert1k)"
   ]
  },
  {
   "cell_type": "markdown",
   "id": "07b3164b",
   "metadata": {},
   "source": [
    "mBERT(Max_length=2k) Tokens"
   ]
  },
  {
   "cell_type": "code",
   "execution_count": 78,
   "id": "eb5daff7",
   "metadata": {},
   "outputs": [
    {
     "name": "stdout",
     "output_type": "stream",
     "text": [
      "[['', 'आप', 'क', 'पत', 'ह', 'ग', 'क', 'मट', 'प', 'भ', 'हर', 'ट', 'अटक', 'क', 'एक', 'पर', 'मख', 'करण', 'ह', '', ''], ['', 'कई', 'भ', 'बड', 'नत', 'उन', 'क', 'क', 'ष', 'तर', 'म', 'पर', 'चर', 'क', 'ल', 'ए', 'न', 'ह', 'ग', 'य', '', ''], ['', 'थ', 'ड', 'पर', 'शन', 'क', 'श', 'कर', ''], ['', 'ऐस', 'म', 'सव', 'पन', 'क', 'समन', 'खद', 'क', 'सब', 'त', 'करन', 'और', 'उन', 'लग', 'क', 'गलत', 'सब', 'त', 'करन', 'क', '', 'चन', 'त', 'थ', '', 'ज', 'उन', 'क', 'कफ', 'कर', 'ब', 'रह', 'त', 'ह', 'ए', 'भ', 'उन', 'ह', 'पदक', 'क', '', 'दव', 'दर', 'न', 'ह', 'मन', 'रह', 'थ', '', '', ''], ['', 'दश', 'भर', 'म', 'महल', 'सरक', 'ष', 'क', '', 'लकर', 'ह', 'गम', 'मच', 'ह', 'और', 'सख', 'त', 'कन', 'न', 'क', 'मग', 'क', 'ज', 'रह', 'ह', '', ''], ['', 'हल', 'ह', 'म', 'द', 'पक', 'पदक', 'ण', 'क', 'फल', 'म', 'पद', 'म', 'वत', 'क', '', 'लकर', 'कफ', 'वर', 'ध', 'चल', 'रह', 'ह', '', 'और', 'कई', 'रज', 'य', 'म', 'त', 'इस', 'फल', 'म', 'क', 'बन', 'भ', 'कर', 'द', 'य', 'ग', 'य', 'ह', '', 'वह', 'भ', 'सल', 'और', 'द', 'पक', 'क', 'धमक', 'य', 'भ', 'द', 'ज', 'रह', 'ह', '', ''], ['', 'खस', 'कर', 'फस', 'बक', 'पर', 'हम', 'र', 'ह', 'नद', 'भ', 'ष', 'रज', 'य', 'क', 'ज', 'वन', 'क', 'व', 'वध', 'त', 'और', '', 'दन', 'दन', 'ज', 'वन', 'क', '', 'चन', 'त', 'य', 'नजर', 'न', 'ह', 'आ', 'रह', 'ह', '', ''], ['', 'इस', 'क', 'बद', 'वल', 'एक', 'मह', 'तक', 'क', 'छ', 'पक', 'ह', 'आ', 'आ', 'हर', 'द', 'य', 'ज', 'सक', 'त', 'ह', '', '', ''], ['', 'फल', 'हल', 'ज', 'आर', 'प', 'पल', 'स', 'न', 'आर', 'प', 'क', 'खल', 'फ', 'धर', '', 'और', 'पक', 'स', 'एक', 'ट', 'क', 'तहत', 'म', 'मल', 'दर', 'ज', 'कर', 'लय', 'ह', '', ''], ['', '', 'व', 'गण', 'त', 'तर', 'द', 'वस', 'क', 'पर', 'व', 'सध', 'य', 'पर', 'र', 'ष', 'टर', 'क', 'नम', 'सद', 'श', 'द', 'त', 'र', 'ष', 'टर', 'पत', 'पर', 'णब', 'म', 'खर', 'ज', ''], ['', 'व', 'चह', 'त', 'ह', 'क', 'न', 'ह', 'सन', 'न', 'रह', 'न', 'ह', '', 'शय', '', '', ''], ['', 'एक', 'त', 'कप', 'र', 'क', '', 'टव', 'कव', 'न', 'कह', 'जत', 'ह', '', ''], ['', '', 'व', '', 'म', 'एक', 'भ', 'वय', 'कत', 'क', 'न', 'कर', 'न', 'ह', 'मल', '', ''], ['', 'पर', 'ध', 'करण', 'घ', 'षण', 'क', 'बद', 'हम', 'यह', 'ड', 'उन', 'ल', 'ड', 'करन', 'क', 'ल', 'ए', 'सध', 'कन', 'कट', 'कर', 'ग', '', 'आप', 'इट', 'रफ', 'स', 'पर', 'ज', 'सक', 'त', 'ह', 'और', 'पड', 'एफ', 'सग', 'ठन', 'म', 'ब', 'ए', 'ओ', 'य', 'भग', '', '', '', '', '', 'पर', 'क', 'ष', 'य', 'जन', '', '', 'ड', 'उन', 'ल', 'ड', 'कर', 'सक', 'त', 'ह', '', '', ''], ['', '', 'स', 'टर', 'लय', 'न', 'पहल', 'बल', 'लब', 'ज', 'करत', 'ह', 'ए', 'नर', 'धर', 'त', '', 'ओवर', 'म', '', 'रन', 'क', 'व', 'शल', '', 'सकर', 'खड', 'क', 'य', 'थ', '', 'सच', 'न', 'क', 'ल', 'जव', 'ब', 'पर', 'क', 'दम', 'पर', 'भरत', 'न', 'यह', '', 'सकर', 'सर', 'फ', '', '', 'ओवर', 'म', '', 'रन', 'बनकर', 'हस', 'ल', 'कर', 'लय', 'थ', '', ''], ['', 'वह', 'आप', 'द', 'जखम', 'नयन', 'करण', '', 'एन', 'पड', 'आरआर', '', 'क', 'ल', 'ए', 'र', 'ष', 'टर', 'य', 'मच', 'क', 'सद', 'स', 'य', 'थ', '', ''], ['', 'एक', 'ज', 'ट', 'गट', 'तक', 'आन', 'क', 'बद', 'व', 'पस', 'चल', 'गए', '', 'दन', 'भ', 'ई', ''], ['', 'इस', 'सम', 'मल', 'न', 'क', 'उद', 'घटन', 'करन', 'पह', 'च', 'प', 'एम', 'मद', 'न', 'कह', 'क', '', 'टब', 'क', '', 'सल', 'पहल', 'डबल', 'य', 'एचओ', 'न', 'एम', 'रज', 'स', 'घ', 'ष', 'त', 'क', 'य', 'थ', 'और', 'त', 'भ', 'स', 'इस', 'क', 'खल', 'फ', 'अभय', 'न', 'चल', 'रह', 'ह', '', ''], ['', 'पढ', 'ई', 'म', 'मध', 'व', 'छत', 'र', 'क', 'पस', 'ह', 'न', 'ह', 'हर', 'तरह', 'क', 'सहल', 'यत', 'मल', 'न', 'चह', 'ए', '', 'ज', 'वन', 'म', 'क', 'छ', 'कर', '', 'ग', 'जर', 'न', '', 'वल', 'हर', 'क', 'शर', 'और', 'य', 'व', 'क', 'अपन', 'लक', 'ष', 'य', 'क', 'ओर', 'अगर', 'सर', '', 'हन', 'क', 'मक', '', 'दन', 'क', 'ल', 'ए', 'उस', 'और', 'उस', 'क', 'पर', 'वर', 'क', 'हर', 'च', 'त', 'स', 'मक', 'त', 'क', 'य', 'ज', 'सक', 'त', 'इस', 'स', 'अच', 'छ', 'बत', 'और', 'क', 'य', 'ह', 'सक', 'त', 'ह', '', '', ''], ['', 'लख', 'थ', 'मत', 'त', 'भ', 'सम', 'आय', 'गलत', 'रस', 'त', 'करन', 'मज', 'फ', 'फर', 'नगर', 'नव', 'स', 'जग', 'पल', '', '', '', '', 'लन', 'बर', 'डर', 'पर', 'द', 'ध', 'क', 'ड', 'यर', 'चल', 'त', 'थ', '', 'वह', 'अपन', 'पच', 'स', 'थ', 'य', 'क', 'स', 'थ', 'श', 'फ', 'पर', 'गव', 'म', 'भ', 'स', 'खर', 'दन', 'गर', 'टर', 'नए', 'ड', 'स', 'पर', 'चक', 'क', 'रस', 'त', 'एक', 'स', 'पर', 'सव', 'हत', 'ह', 'ए', 'सम', 'स', 'श', 'फ', 'पर', 'ज', 'रह', 'थ', '', 'एक', 'स', 'पर', 'स', 'व', 'पर', 'घन', 'कहर', '', 'हन', 'क', 'करण', 'सम', 'सरव', 'स', 'रड', 'पर', 'जन', 'क', 'बज', 'ए', 'मन', 'रड', 'पर', 'ह', 'चल', 'त', 'रह', '', ''], ['', 'आज', 'द', 'क', 'बद', 'यह', 'घस', 'प', 'ठ', 'लग', 'तर', 'जर', 'थ', 'क', 'यक', 'दस', 'र', 'सर', 'कर', 'म', 'इस', 'रक', 'न', 'क', 'इ', 'च', 'छ', 'श', 'कत', 'न', 'ह', 'थ', '', ''], ['', '', 'च', 'त', 'न', 'कर', '', ''], ['', 'अख', 'ल', 'श', 'और', 'रह', 'ल', 'पर', 'हम', 'ल', 'करत', 'ह', 'ए', 'य', 'ग', 'न', 'कह', 'क', 'शह', 'ज', 'द', 'और', 'य', 'वर', 'ज', 'क', 'य', 'प', 'पर', 'ध', 'यन', 'न', 'ह', 'जत', '', ''], ['', 'खबर', 'क', 'अन', 'सर', 'यह', '', 'घटन', 'रज', 'धन', 'म', 'ब', 'ई', 'क', 'अक', 'स', 'बच', 'क', 'ह', 'जह', 'एक', 'महल', 'क', 'हत', 'य', 'क', 'गत', 'थ', 'क', 'छ', 'समय', 'पहल', 'ह', 'सल', 'झ', 'प', 'ई', 'ह', 'और', 'उस', 'क', 'हत', 'य', 'क', 'आर', 'प', 'म', 'उस', 'क', 'द', 'वर', 'क', 'गर', 'फ', 'तर', 'क', 'य', 'ग', 'य', 'ह', '', ''], ['', 'पल', 'स', 'आर', 'प', 'स', 'पछ', 'त', 'छ', 'कर', 'रह', 'ह', 'क', 'अवध', 'बर', 'ज', 'क', 'टन', 'कह', 'स', 'ल', 'ए', 'और', 'बर', 'ज', 'क', 'खप', 'क', 'कह', 'ठ', 'कन', 'लगन', 'ल', 'ज', 'रह', 'थ', '', ''], ['', ''], ['', ''], ['', '']]\n"
     ]
    }
   ],
   "source": [
    "Model_Tokens_Bert2k=[]\n",
    "for sentence in Sentences:\n",
    "    Model_Tokens_Bert2k.append(mBERT2k(sentence))\n",
    "for token in Model_Tokens_Bert2k:\n",
    "    for i in range(len(token)):\n",
    "        token[i]=clean(token[i])\n",
    "temp=[]\n",
    "for i in Model_Tokens_Bert2k:\n",
    "    if len(i)!=0:\n",
    "        temp.append(i)\n",
    "Model_Tokens_Bert2k=temp\n",
    "print(Model_Tokens_Bert2k)"
   ]
  },
  {
   "cell_type": "markdown",
   "id": "5d42b650",
   "metadata": {},
   "source": [
    "IndicBERT(Max_length=1k) Tokens"
   ]
  },
  {
   "cell_type": "code",
   "execution_count": 77,
   "id": "961f5f34",
   "metadata": {},
   "outputs": [
    {
     "name": "stdout",
     "output_type": "stream",
     "text": [
      "[['', 'आप', 'क', 'पत', 'ह', 'ग', 'क', 'मट', 'प', 'भ', 'हर', 'ट', 'अटक', 'क', 'एक', 'पर', 'मख', 'करण', 'ह', '', ''], ['', 'कई', 'भ', 'बड', 'नत', 'उन', 'क', 'क', 'ष', 'तर', 'म', 'पर', 'चर', 'क', 'ल', 'ए', 'न', 'ह', 'ग', 'य', '', ''], ['', 'थ', 'ड', 'पर', 'शन', 'क', 'श', 'कर', ''], ['', 'ऐस', 'म', 'सव', 'पन', 'क', 'समन', 'खद', 'क', 'सब', 'त', 'करन', 'और', 'उन', 'लग', 'क', 'गलत', 'सब', 'त', 'करन', 'क', '', 'चन', 'त', 'थ', '', 'ज', 'उन', 'क', 'कफ', 'कर', 'ब', 'रह', 'त', 'ह', 'ए', 'भ', 'उन', 'ह', 'पदक', 'क', '', 'दव', 'दर', 'न', 'ह', 'मन', 'रह', 'थ', '', '', ''], ['', 'दश', 'भर', 'म', 'महल', 'सरक', 'ष', 'क', '', 'लकर', 'ह', 'गम', 'मच', 'ह', 'और', 'सख', 'त', 'कन', 'न', 'क', 'मग', 'क', 'ज', 'रह', 'ह', '', ''], ['', 'हल', 'ह', 'म', 'द', 'पक', 'पदक', 'ण', 'क', 'फल', 'म', 'पद', 'म', 'वत', 'क', '', 'लकर', 'कफ', 'वर', 'ध', 'चल', 'रह', 'ह', '', 'और', 'कई', 'रज', 'य', 'म', 'त', 'इस', 'फल', 'म', 'क', 'बन', 'भ', 'कर', 'द', 'य', 'ग', 'य', 'ह', '', 'वह', 'भ', 'सल', 'और', 'द', 'पक', 'क', 'धमक', 'य', 'भ', 'द', 'ज', 'रह', 'ह', '', ''], ['', 'खस', 'कर', 'फस', 'बक', 'पर', 'हम', 'र', 'ह', 'नद', 'भ', 'ष', 'रज', 'य', 'क', 'ज', 'वन', 'क', 'व', 'वध', 'त', 'और', '', 'दन', 'दन', 'ज', 'वन', 'क', '', 'चन', 'त', 'य', 'नजर', 'न', 'ह', 'आ', 'रह', 'ह', '', ''], ['', 'इस', 'क', 'बद', 'वल', 'एक', 'मह', 'तक', 'क', 'छ', 'पक', 'ह', 'आ', 'आ', 'हर', 'द', 'य', 'ज', 'सक', 'त', 'ह', '', '', ''], ['', 'फल', 'हल', 'ज', 'आर', 'प', 'पल', 'स', 'न', 'आर', 'प', 'क', 'खल', 'फ', 'धर', '', 'और', 'पक', 'स', 'एक', 'ट', 'क', 'तहत', 'म', 'मल', 'दर', 'ज', 'कर', 'लय', 'ह', '', ''], ['', '', 'व', 'गण', 'त', 'तर', 'द', 'वस', 'क', 'पर', 'व', 'सध', 'य', 'पर', 'र', 'ष', 'टर', 'क', 'नम', 'सद', 'श', 'द', 'त', 'र', 'ष', 'टर', 'पत', 'पर', 'णब', 'म', 'खर', 'ज', ''], ['', 'व', 'चह', 'त', 'ह', 'क', 'न', 'ह', 'सन', 'न', 'रह', 'न', 'ह', '', 'शय', '', '', ''], ['', 'एक', 'त', 'कप', 'र', 'क', '', 'टव', 'कव', 'न', 'कह', 'जत', 'ह', '', ''], ['', '', 'व', '', 'म', 'एक', 'भ', 'वय', 'कत', 'क', 'न', 'कर', 'न', 'ह', 'मल', '', ''], ['', 'पर', 'ध', 'करण', 'घ', 'षण', 'क', 'बद', 'हम', 'यह', 'ड', 'उन', 'ल', 'ड', 'करन', 'क', 'ल', 'ए', 'सध', 'कन', 'कट', 'कर', 'ग', '', 'आप', 'इट', 'रफ', 'स', 'पर', 'ज', 'सक', 'त', 'ह', 'और', 'पड', 'एफ', 'सग', 'ठन', 'म', 'ब', 'ए', 'ओ', 'य', 'भग', '', '', '', '', '', 'पर', 'क', 'ष', 'य', 'जन', '', '', 'ड', 'उन', 'ल', 'ड', 'कर', 'सक', 'त', 'ह', '', '', ''], ['', '', 'स', 'टर', 'लय', 'न', 'पहल', 'बल', 'लब', 'ज', 'करत', 'ह', 'ए', 'नर', 'धर', 'त', '', 'ओवर', 'म', '', 'रन', 'क', 'व', 'शल', '', 'सकर', 'खड', 'क', 'य', 'थ', '', 'सच', 'न', 'क', 'ल', 'जव', 'ब', 'पर', 'क', 'दम', 'पर', 'भरत', 'न', 'यह', '', 'सकर', 'सर', 'फ', '', '', 'ओवर', 'म', '', 'रन', 'बनकर', 'हस', 'ल', 'कर', 'लय', 'थ', '', ''], ['', 'वह', 'आप', 'द', 'जखम', 'नयन', 'करण', '', 'एन', 'पड', 'आरआर', '', 'क', 'ल', 'ए', 'र', 'ष', 'टर', 'य', 'मच', 'क', 'सद', 'स', 'य', 'थ', '', ''], ['', 'एक', 'ज', 'ट', 'गट', 'तक', 'आन', 'क', 'बद', 'व', 'पस', 'चल', 'गए', '', 'दन', 'भ', 'ई', ''], ['', 'इस', 'सम', 'मल', 'न', 'क', 'उद', 'घटन', 'करन', 'पह', 'च', 'प', 'एम', 'मद', 'न', 'कह', 'क', '', 'टब', 'क', '', 'सल', 'पहल', 'डबल', 'य', 'एचओ', 'न', 'एम', 'रज', 'स', 'घ', 'ष', 'त', 'क', 'य', 'थ', 'और', 'त', 'भ', 'स', 'इस', 'क', 'खल', 'फ', 'अभय', 'न', 'चल', 'रह', 'ह', '', ''], ['', 'पढ', 'ई', 'म', 'मध', 'व', 'छत', 'र', 'क', 'पस', 'ह', 'न', 'ह', 'हर', 'तरह', 'क', 'सहल', 'यत', 'मल', 'न', 'चह', 'ए', '', 'ज', 'वन', 'म', 'क', 'छ', 'कर', '', 'ग', 'जर', 'न', '', 'वल', 'हर', 'क', 'शर', 'और', 'य', 'व', 'क', 'अपन', 'लक', 'ष', 'य', 'क', 'ओर', 'अगर', 'सर', '', 'हन', 'क', 'मक', '', 'दन', 'क', 'ल', 'ए', 'उस', 'और', 'उस', 'क', 'पर', 'वर', 'क', 'हर', 'च', 'त', 'स', 'मक', 'त', 'क', 'य', 'ज', 'सक', 'त', 'इस', 'स', 'अच', 'छ', 'बत', 'और', 'क', 'य', 'ह', 'सक', 'त', 'ह', '', '', ''], ['', 'लख', 'थ', 'मत', 'त', 'भ', 'सम', 'आय', 'गलत', 'रस', 'त', 'करन', 'मज', 'फ', 'फर', 'नगर', 'नव', 'स', 'जग', 'पल', '', '', '', '', 'लन', 'बर', 'डर', 'पर', 'द', 'ध', 'क', 'ड', 'यर', 'चल', 'त', 'थ', '', 'वह', 'अपन', 'पच', 'स', 'थ', 'य', 'क', 'स', 'थ', 'श', 'फ', 'पर', 'गव', 'म', 'भ', 'स', 'खर', 'दन', 'गर', 'टर', 'नए', 'ड', 'स', 'पर', 'चक', 'क', 'रस', 'त', 'एक', 'स', 'पर', 'सव', 'हत', 'ह', 'ए', 'सम', 'स', 'श', 'फ', 'पर', 'ज', 'रह', 'थ', '', 'एक', 'स', 'पर', 'स', 'व', 'पर', 'घन', 'कहर', '', 'हन', 'क', 'करण', 'सम', 'सरव', 'स', 'रड', 'पर', 'जन', 'क', 'बज', 'ए', 'मन', 'रड', 'पर', 'ह', 'चल', 'त', 'रह', '', ''], ['', 'आज', 'द', 'क', 'बद', 'यह', 'घस', 'प', 'ठ', 'लग', 'तर', 'जर', 'थ', 'क', 'यक', 'दस', 'र', 'सर', 'कर', 'म', 'इस', 'रक', 'न', 'क', 'इ', 'च', 'छ', 'श', 'कत', 'न', 'ह', 'थ', '', ''], ['', '', 'च', 'त', 'न', 'कर', '', ''], ['', 'अख', 'ल', 'श', 'और', 'रह', 'ल', 'पर', 'हम', 'ल', 'करत', 'ह', 'ए', 'य', 'ग', 'न', 'कह', 'क', 'शह', 'ज', 'द', 'और', 'य', 'वर', 'ज', 'क', 'य', 'प', 'पर', 'ध', 'यन', 'न', 'ह', 'जत', '', ''], ['', 'खबर', 'क', 'अन', 'सर', 'यह', '', 'घटन', 'रज', 'धन', 'म', 'ब', 'ई', 'क', 'अक', 'स', 'बच', 'क', 'ह', 'जह', 'एक', 'महल', 'क', 'हत', 'य', 'क', 'गत', 'थ', 'क', 'छ', 'समय', 'पहल', 'ह', 'सल', 'झ', 'प', 'ई', 'ह', 'और', 'उस', 'क', 'हत', 'य', 'क', 'आर', 'प', 'म', 'उस', 'क', 'द', 'वर', 'क', 'गर', 'फ', 'तर', 'क', 'य', 'ग', 'य', 'ह', '', ''], ['', 'पल', 'स', 'आर', 'प', 'स', 'पछ', 'त', 'छ', 'कर', 'रह', 'ह', 'क', 'अवध', 'बर', 'ज', 'क', 'टन', 'कह', 'स', 'ल', 'ए', 'और', 'बर', 'ज', 'क', 'खप', 'क', 'कह', 'ठ', 'कन', 'लगन', 'ल', 'ज', 'रह', 'थ', '', ''], ['', ''], ['', ''], ['', '']]\n"
     ]
    }
   ],
   "source": [
    "Model_Tokens_IndicBert1k=[]\n",
    "for sentence in Sentences:\n",
    "    Model_Tokens_IndicBert1k.append(indicBERT1k(sentence))\n",
    "for token in Model_Tokens_IndicBert1k:\n",
    "    for i in range(len(token)):\n",
    "        token[i]=clean(token[i])\n",
    "temp=[]\n",
    "for i in Model_Tokens_IndicBert1k:\n",
    "    if len(i)!=0:\n",
    "        temp.append(i)\n",
    "Model_Tokens_IndicBert1k=temp\n",
    "print(Model_Tokens_IndicBert1k)"
   ]
  },
  {
   "cell_type": "markdown",
   "id": "d1def258",
   "metadata": {},
   "source": [
    "IndicBERT(Max_length=2k) Tokens"
   ]
  },
  {
   "cell_type": "code",
   "execution_count": 79,
   "id": "dd0cc6b9",
   "metadata": {},
   "outputs": [
    {
     "name": "stdout",
     "output_type": "stream",
     "text": [
      "[['', 'आप', 'क', 'पत', 'ह', 'ग', 'क', 'मट', 'प', 'भ', 'हर', 'ट', 'अटक', 'क', 'एक', 'पर', 'मख', 'करण', 'ह', '', ''], ['', 'कई', 'भ', 'बड', 'नत', 'उन', 'क', 'क', 'ष', 'तर', 'म', 'पर', 'चर', 'क', 'ल', 'ए', 'न', 'ह', 'ग', 'य', '', ''], ['', 'थ', 'ड', 'पर', 'शन', 'क', 'श', 'कर', ''], ['', 'ऐस', 'म', 'सव', 'पन', 'क', 'समन', 'खद', 'क', 'सब', 'त', 'करन', 'और', 'उन', 'लग', 'क', 'गलत', 'सब', 'त', 'करन', 'क', '', 'चन', 'त', 'थ', '', 'ज', 'उन', 'क', 'कफ', 'कर', 'ब', 'रह', 'त', 'ह', 'ए', 'भ', 'उन', 'ह', 'पदक', 'क', '', 'दव', 'दर', 'न', 'ह', 'मन', 'रह', 'थ', '', '', ''], ['', 'दश', 'भर', 'म', 'महल', 'सरक', 'ष', 'क', '', 'लकर', 'ह', 'गम', 'मच', 'ह', 'और', 'सख', 'त', 'कन', 'न', 'क', 'मग', 'क', 'ज', 'रह', 'ह', '', ''], ['', 'हल', 'ह', 'म', 'द', 'पक', 'पदक', 'ण', 'क', 'फल', 'म', 'पद', 'म', 'वत', 'क', '', 'लकर', 'कफ', 'वर', 'ध', 'चल', 'रह', 'ह', '', 'और', 'कई', 'रज', 'य', 'म', 'त', 'इस', 'फल', 'म', 'क', 'बन', 'भ', 'कर', 'द', 'य', 'ग', 'य', 'ह', '', 'वह', 'भ', 'सल', 'और', 'द', 'पक', 'क', 'धमक', 'य', 'भ', 'द', 'ज', 'रह', 'ह', '', ''], ['', 'खस', 'कर', 'फस', 'बक', 'पर', 'हम', 'र', 'ह', 'नद', 'भ', 'ष', 'रज', 'य', 'क', 'ज', 'वन', 'क', 'व', 'वध', 'त', 'और', '', 'दन', 'दन', 'ज', 'वन', 'क', '', 'चन', 'त', 'य', 'नजर', 'न', 'ह', 'आ', 'रह', 'ह', '', ''], ['', 'इस', 'क', 'बद', 'वल', 'एक', 'मह', 'तक', 'क', 'छ', 'पक', 'ह', 'आ', 'आ', 'हर', 'द', 'य', 'ज', 'सक', 'त', 'ह', '', '', ''], ['', 'फल', 'हल', 'ज', 'आर', 'प', 'पल', 'स', 'न', 'आर', 'प', 'क', 'खल', 'फ', 'धर', '', 'और', 'पक', 'स', 'एक', 'ट', 'क', 'तहत', 'म', 'मल', 'दर', 'ज', 'कर', 'लय', 'ह', '', ''], ['', '', 'व', 'गण', 'त', 'तर', 'द', 'वस', 'क', 'पर', 'व', 'सध', 'य', 'पर', 'र', 'ष', 'टर', 'क', 'नम', 'सद', 'श', 'द', 'त', 'र', 'ष', 'टर', 'पत', 'पर', 'णब', 'म', 'खर', 'ज', ''], ['', 'व', 'चह', 'त', 'ह', 'क', 'न', 'ह', 'सन', 'न', 'रह', 'न', 'ह', '', 'शय', '', '', ''], ['', 'एक', 'त', 'कप', 'र', 'क', '', 'टव', 'कव', 'न', 'कह', 'जत', 'ह', '', ''], ['', '', 'व', '', 'म', 'एक', 'भ', 'वय', 'कत', 'क', 'न', 'कर', 'न', 'ह', 'मल', '', ''], ['', 'पर', 'ध', 'करण', 'घ', 'षण', 'क', 'बद', 'हम', 'यह', 'ड', 'उन', 'ल', 'ड', 'करन', 'क', 'ल', 'ए', 'सध', 'कन', 'कट', 'कर', 'ग', '', 'आप', 'इट', 'रफ', 'स', 'पर', 'ज', 'सक', 'त', 'ह', 'और', 'पड', 'एफ', 'सग', 'ठन', 'म', 'ब', 'ए', 'ओ', 'य', 'भग', '', '', '', '', '', 'पर', 'क', 'ष', 'य', 'जन', '', '', 'ड', 'उन', 'ल', 'ड', 'कर', 'सक', 'त', 'ह', '', '', ''], ['', '', 'स', 'टर', 'लय', 'न', 'पहल', 'बल', 'लब', 'ज', 'करत', 'ह', 'ए', 'नर', 'धर', 'त', '', 'ओवर', 'म', '', 'रन', 'क', 'व', 'शल', '', 'सकर', 'खड', 'क', 'य', 'थ', '', 'सच', 'न', 'क', 'ल', 'जव', 'ब', 'पर', 'क', 'दम', 'पर', 'भरत', 'न', 'यह', '', 'सकर', 'सर', 'फ', '', '', 'ओवर', 'म', '', 'रन', 'बनकर', 'हस', 'ल', 'कर', 'लय', 'थ', '', ''], ['', 'वह', 'आप', 'द', 'जखम', 'नयन', 'करण', '', 'एन', 'पड', 'आरआर', '', 'क', 'ल', 'ए', 'र', 'ष', 'टर', 'य', 'मच', 'क', 'सद', 'स', 'य', 'थ', '', ''], ['', 'एक', 'ज', 'ट', 'गट', 'तक', 'आन', 'क', 'बद', 'व', 'पस', 'चल', 'गए', '', 'दन', 'भ', 'ई', ''], ['', 'इस', 'सम', 'मल', 'न', 'क', 'उद', 'घटन', 'करन', 'पह', 'च', 'प', 'एम', 'मद', 'न', 'कह', 'क', '', 'टब', 'क', '', 'सल', 'पहल', 'डबल', 'य', 'एचओ', 'न', 'एम', 'रज', 'स', 'घ', 'ष', 'त', 'क', 'य', 'थ', 'और', 'त', 'भ', 'स', 'इस', 'क', 'खल', 'फ', 'अभय', 'न', 'चल', 'रह', 'ह', '', ''], ['', 'पढ', 'ई', 'म', 'मध', 'व', 'छत', 'र', 'क', 'पस', 'ह', 'न', 'ह', 'हर', 'तरह', 'क', 'सहल', 'यत', 'मल', 'न', 'चह', 'ए', '', 'ज', 'वन', 'म', 'क', 'छ', 'कर', '', 'ग', 'जर', 'न', '', 'वल', 'हर', 'क', 'शर', 'और', 'य', 'व', 'क', 'अपन', 'लक', 'ष', 'य', 'क', 'ओर', 'अगर', 'सर', '', 'हन', 'क', 'मक', '', 'दन', 'क', 'ल', 'ए', 'उस', 'और', 'उस', 'क', 'पर', 'वर', 'क', 'हर', 'च', 'त', 'स', 'मक', 'त', 'क', 'य', 'ज', 'सक', 'त', 'इस', 'स', 'अच', 'छ', 'बत', 'और', 'क', 'य', 'ह', 'सक', 'त', 'ह', '', '', ''], ['', 'लख', 'थ', 'मत', 'त', 'भ', 'सम', 'आय', 'गलत', 'रस', 'त', 'करन', 'मज', 'फ', 'फर', 'नगर', 'नव', 'स', 'जग', 'पल', '', '', '', '', 'लन', 'बर', 'डर', 'पर', 'द', 'ध', 'क', 'ड', 'यर', 'चल', 'त', 'थ', '', 'वह', 'अपन', 'पच', 'स', 'थ', 'य', 'क', 'स', 'थ', 'श', 'फ', 'पर', 'गव', 'म', 'भ', 'स', 'खर', 'दन', 'गर', 'टर', 'नए', 'ड', 'स', 'पर', 'चक', 'क', 'रस', 'त', 'एक', 'स', 'पर', 'सव', 'हत', 'ह', 'ए', 'सम', 'स', 'श', 'फ', 'पर', 'ज', 'रह', 'थ', '', 'एक', 'स', 'पर', 'स', 'व', 'पर', 'घन', 'कहर', '', 'हन', 'क', 'करण', 'सम', 'सरव', 'स', 'रड', 'पर', 'जन', 'क', 'बज', 'ए', 'मन', 'रड', 'पर', 'ह', 'चल', 'त', 'रह', '', ''], ['', 'आज', 'द', 'क', 'बद', 'यह', 'घस', 'प', 'ठ', 'लग', 'तर', 'जर', 'थ', 'क', 'यक', 'दस', 'र', 'सर', 'कर', 'म', 'इस', 'रक', 'न', 'क', 'इ', 'च', 'छ', 'श', 'कत', 'न', 'ह', 'थ', '', ''], ['', '', 'च', 'त', 'न', 'कर', '', ''], ['', 'अख', 'ल', 'श', 'और', 'रह', 'ल', 'पर', 'हम', 'ल', 'करत', 'ह', 'ए', 'य', 'ग', 'न', 'कह', 'क', 'शह', 'ज', 'द', 'और', 'य', 'वर', 'ज', 'क', 'य', 'प', 'पर', 'ध', 'यन', 'न', 'ह', 'जत', '', ''], ['', 'खबर', 'क', 'अन', 'सर', 'यह', '', 'घटन', 'रज', 'धन', 'म', 'ब', 'ई', 'क', 'अक', 'स', 'बच', 'क', 'ह', 'जह', 'एक', 'महल', 'क', 'हत', 'य', 'क', 'गत', 'थ', 'क', 'छ', 'समय', 'पहल', 'ह', 'सल', 'झ', 'प', 'ई', 'ह', 'और', 'उस', 'क', 'हत', 'य', 'क', 'आर', 'प', 'म', 'उस', 'क', 'द', 'वर', 'क', 'गर', 'फ', 'तर', 'क', 'य', 'ग', 'य', 'ह', '', ''], ['', 'पल', 'स', 'आर', 'प', 'स', 'पछ', 'त', 'छ', 'कर', 'रह', 'ह', 'क', 'अवध', 'बर', 'ज', 'क', 'टन', 'कह', 'स', 'ल', 'ए', 'और', 'बर', 'ज', 'क', 'खप', 'क', 'कह', 'ठ', 'कन', 'लगन', 'ल', 'ज', 'रह', 'थ', '', ''], ['', ''], ['', ''], ['', '']]\n"
     ]
    }
   ],
   "source": [
    "Model_Tokens_IndicBert2k=[]\n",
    "for sentence in Sentences:\n",
    "    Model_Tokens_IndicBert2k.append(indicBERT2k(sentence))\n",
    "for token in Model_Tokens_IndicBert2k:\n",
    "    for i in range(len(token)):\n",
    "        token[i]=clean(token[i])\n",
    "temp=[]\n",
    "for i in Model_Tokens_IndicBert2k:\n",
    "    if len(i)!=0:\n",
    "        temp.append(i)\n",
    "Model_Tokens_IndicBert2k=temp\n",
    "print(Model_Tokens_IndicBert2k)"
   ]
  },
  {
   "cell_type": "markdown",
   "id": "51406ef1",
   "metadata": {},
   "source": [
    "WhiteSpaceTokenizer Tokens"
   ]
  },
  {
   "cell_type": "code",
   "execution_count": 92,
   "id": "3ae5fbad",
   "metadata": {},
   "outputs": [
    {
     "name": "stdout",
     "output_type": "stream",
     "text": [
      "[['आपको', 'पता', 'होगा', 'कि', 'मोटापा', 'भी', 'हार्ट', 'अटैक', 'का', 'एक', 'प्रमुख', 'कारण', 'है।'], ['कोई', 'भी', 'बड़ा', 'नेता', 'उनके', 'क्षेत्र', 'में', 'प्रचार', 'के', 'लिए', 'नहीं', 'गया।'], ['थीं', 'डिप्रेशन', 'की', 'शिकार'], ['ऐसे', 'में', 'स्वप्ना', 'के', 'सामने', 'खुद', 'को', 'साबित', 'करने', 'और', 'उन', 'लोगों', 'को', 'गलत', 'साबित', 'करने', 'की', 'चुनौती', 'थी,', 'जो', 'उनके', 'काफी', 'करीब', 'रहते', 'हुए', 'भी', 'उन्हें', 'पदक', 'का', 'दावेदार', 'नहीं', 'मान', 'रहे', 'थे।'], ['देशभर', 'में', 'महिला', 'सुरक्षा', 'को', 'लेकर', 'हंगामा', 'मचा', 'है', 'और', 'सख्त', 'कानून', 'की', 'मांग', 'की', 'जा', 'रही', 'है.'], ['हाल', 'ही', 'में', 'दीपिका', 'पादुकोण', 'की', 'फिल्म', 'पद्मावती', 'को', 'लेकर', 'काफी', 'विरोध', 'चल', 'रहा', 'है.', 'और', 'कई', 'राज्यों', 'में', 'तो', 'इस', 'फिल्म', 'को', 'बैन', 'भी', 'कर', 'दिया', 'गया', 'है.', 'वहीँ', 'भंसाली', 'और', 'दीपिका', 'को', 'धमकियाँ', 'भी', 'दी', 'जा', 'रही', 'हैं.'], ['खासकर', 'फेसबुक', 'पर', 'हमारे', 'हिन्दीभाषी', 'राज्यों', 'के', 'जीवन', 'की', 'विविधता', 'और', 'दैनंदिन', 'जीवन', 'की', 'चुनौतियां', 'नजर', 'नहीं', 'आ', 'रही', 'हैं।'], ['इसके', 'बादवाले', 'एक', 'माह', 'तक', 'कुछ', 'पका', 'हुआ', 'आहार', 'दिया', 'जा', 'सकता', 'है।'], ['फिलहाल', 'जीआरपी', 'पुलिस', 'ने', 'आरोपी', 'के', 'खिलाफ', 'धारा', '376', 'और', 'पॉक्सो', 'एक्ट', 'के', 'तहत', 'मामला', 'दर्ज', 'कर', 'लिया', 'है.'], ['68वें', 'गणतंत्र', 'दिवस', 'की', 'पूर्व', 'संध्या', 'पर', 'राष्ट्र', 'के', 'नाम', 'संदेश', 'देते', 'राष्ट्रपति', 'प्रणब', 'मुखर्जी'], ['वे', 'चाहते', 'हैं', 'कि', 'न', 'ही', 'सुन्नी', 'रहें', 'न', 'ही', 'शिया।'], ['एकता', 'कपूर', 'को', 'टीवी', 'क्वीन', 'कहा', 'जाता', 'है.'], ['2018', 'व', '2019', 'में', 'एक', 'भी', 'व्यक्ति', 'को', 'नौकरी', 'नहीं', 'मिली।'], ['प्राधिकरण', 'घोषणा', 'के', 'बाद', 'हम', 'यहां', 'डाउनलोड', 'करने', 'के', 'लिए', 'सीधे', 'कनेक्ट', 'करेंगे,', 'आप', 'इंटरफेस', 'पर', 'जा', 'सकते', 'हैं', 'और', 'पीडीएफ', 'संगठन', 'में', 'बीएओयू', 'भाग', '1,', '2,', '3', 'परीक्षा', 'योजना', '201', '9', 'डाउनलोड', 'कर', 'सकते', 'हैं।'], ['ऑस्ट्रेलिया', 'ने', 'पहले', 'बल्लेबाजी', 'करते', 'हुए', 'निर्धारित', '50', 'ओवर', 'में', '272', 'रनों', 'का', 'विशाल', 'स्कोर', 'खड़ा', 'किया', 'था।', 'सचिन', 'की', 'लाजवाब', 'पारी', 'के', 'दम', 'पर', 'भारत', 'ने', 'यह', 'स्कोर', 'सिर्फ', '48.3', 'ओवर', 'में', '275', 'रन', 'बनाकर', 'हासिल', 'कर', 'लिया', 'था।'], ['वह', 'आपदा', 'जोखिम', 'न्यूनीकरण', '(एनपीडीआरआर)', 'के', 'लिए', 'राष्ट्रीय', 'मंच', 'के', 'सदस्य', 'थे।'], ['एक्जिट', 'गेट', 'तक', 'आने', 'के', 'बाद', 'वापस', 'चले', 'गए', 'दोनों', 'भाई'], ['इस', 'सम्मेलन', 'का', 'उद्घाटन', 'करने', 'पहुंचे', 'पीएम', 'मोदी', 'ने', 'कहा', 'कि', 'टीबी', 'को', '25', 'साल', 'पहले', 'डब्ल्यूएचओं', 'ने', 'एमरजंसी', 'घोषित', 'किया', 'था', 'और', 'तभी', 'से', 'इसके', 'खिलाफ', 'अभियान', 'चल', 'रहा', 'है।'], ['पढ़ाई', 'में', 'मेधावी', 'छात्र', 'को', 'पैसा', 'ही', 'नही', 'हर', 'तरह', 'की', 'सहूलियत', 'मिलनी', 'चाहिए।', 'जीवन', 'में', 'कुछ', 'कर-गुजरने', 'वाले', 'हर', 'किशोर', 'और', 'युवा', 'को', 'अपने', 'लक्ष्य', 'की', 'ओर', 'अग्रसर', 'होने', 'का', 'मौका', 'देने', 'के', 'लिए', 'उसे', 'और', 'उसके', 'परिवार', 'को', 'हर', 'चिंता', 'से', 'मुक्त', 'किया', 'जा', 'सके', 'तो', 'इससे', 'अच्छी', 'बात', 'और', 'क्या', 'हो', 'सकती', 'है.'], ['लिखी', 'थी', 'मौत', 'तभी', 'सूमो', 'आयी', 'गलत', 'रास्तेः', 'कैराना', 'मुजफ्फरनगर', 'निवासी', 'जगपाल', '(45)', 'लोनी', 'बार्डर', 'पर', 'दूध', 'की', 'डेयरी', 'चलाता', 'था।', 'वह', 'अपने', 'पांच', 'साथियों', 'के', 'साथ', 'शफीपुर', 'गांव', 'में', 'भैंस', 'खरीदने', 'ग्रेटर', 'नोएडा', 'से', 'परी', 'चौक', 'के', 'रास्ते', 'एक्सप्रेसवे', 'होते', 'हुए', 'सूमो', 'से', 'शफीपुर', 'जा', 'रहा', 'था।', 'एक्सप्रेस', 'वे', 'पर', 'घना', 'कोहरा', 'होने', 'के', 'कारण', 'सूमो', 'सर्विस', 'रोड', 'पर', 'जाने', 'की', 'बजाए', 'मेन', 'रोड', 'पर', 'ही', 'चलती', 'रही।'], ['आजादी', 'के', 'बाद', 'यह', 'घुसपैठ', 'लगातार', 'जारी', 'थी', 'क्योंकि', 'दूसरी', 'सरकारों', 'में', 'इसे', 'रोकने', 'की', 'इच्छाशक्ति', 'नहीं', 'थी.'], [\"'चिंता\", 'न', \"करें'\"], ['अखिलेश', 'और', 'राहुल', 'पर', 'हमला', 'करते', 'हुए', 'योगी', 'ने', 'कहा', 'कि', 'शहजादे', 'और', 'युवराज', 'का', 'यूपी', 'पर', 'ध्यान', 'नहीं', 'जाता.'], ['खबरों', 'के', 'अनुसार', 'यह', 'घटना', 'राजधानी', 'मुंबई', 'के', 'अक्\\u200dसा', 'बीच', 'की', 'है', 'जहाँ', 'एक', 'महिला', 'की', 'हत्\\u200dया', 'की', 'गुत्\\u200dथी', 'कुछ', 'समय', 'पहले', 'ही', 'सुलझ', 'पाई', 'है', 'और', 'उसकी', 'हत्या', 'के', 'आरोप', 'में', 'उसके', 'देवर', 'को', 'गिरफ्तार', 'किया', 'गया', 'है.'], ['पुलिस', 'आरोपी', 'से', 'पूछताछ', 'कर', 'रही', 'है', 'कि', 'अवैध', 'बिरोजा', 'के', 'टीन', 'कहां', 'से', 'लाए', 'और', 'बिरोजा', 'की', 'खेप', 'को', 'कहा', 'ठिकाने', 'लगाने', 'ले', 'जा', 'रहा', 'था।']]\n"
     ]
    }
   ],
   "source": [
    "Model_Tokens_WhiteSpaceTokenizer=[]\n",
    "for sentence in Sentences:\n",
    "    Model_Tokens_WhiteSpaceTokenizer.append(WhiteSpaceTokenizer(sentence))\n",
    "temp=[]\n",
    "for i in Model_Tokens_WhiteSpaceTokenizer:\n",
    "    if len(i)!=0:\n",
    "        temp.append(i)\n",
    "Model_Tokens_WhiteSpaceTokenizer=temp\n",
    "print(Model_Tokens_WhiteSpaceTokenizer)"
   ]
  },
  {
   "cell_type": "markdown",
   "id": "117fd2b8",
   "metadata": {},
   "source": [
    "Function to calculate Precision,Recall,F-Score"
   ]
  },
  {
   "cell_type": "code",
   "execution_count": 94,
   "id": "1769245f",
   "metadata": {},
   "outputs": [],
   "source": [
    "def calculate_metrics(ground_truth, tokenizer_output):\n",
    "    t_p=0.0\n",
    "    f_p=0.0\n",
    "    f_n=0.0\n",
    "    for i in range (0, len(ground_truth)):\n",
    "        t_p+=len(set(ground_truth[i]) & set(tokenizer_output[i]))\n",
    "        f_p+=len(set(tokenizer_output[i]) - set(ground_truth[i]))\n",
    "        f_n+=len(set(ground_truth[i]) - set(tokenizer_output[i]))\n",
    "    if t_p + f_p != 0:\n",
    "        precision = t_p / (t_p + f_p) \n",
    "    else: precision = 0\n",
    "    if t_p + f_n != 0:\n",
    "        recall = t_p / (t_p + f_n)  \n",
    "    else:recall =  0\n",
    "    if precision + recall != 0:\n",
    "        f_score = 2 * (precision * recall) / (precision + recall)  \n",
    "    else:f_score =  0\n",
    "    return precision, recall, f_score"
   ]
  },
  {
   "cell_type": "markdown",
   "id": "cce57a16",
   "metadata": {},
   "source": [
    "# Precision,Recall,F-Scores of Various Models "
   ]
  },
  {
   "cell_type": "code",
   "execution_count": 81,
   "id": "299b01a3",
   "metadata": {},
   "outputs": [
    {
     "name": "stdout",
     "output_type": "stream",
     "text": [
      "Unigram Metrics:\n",
      "Precision: 0.002366863905325444\n",
      "Recall: 0.010810810810810811\n",
      "F-score: 0.0038834951456310682\n"
     ]
    }
   ],
   "source": [
    "p, r, f = calculate_metrics(Soln_Tokens,Model_Tokens)\n",
    "print(\"Unigram Metrics:\")\n",
    "print(f\"Precision: {p}\")\n",
    "print(f\"Recall: {r}\")\n",
    "print(f\"F-score: {f}\")"
   ]
  },
  {
   "cell_type": "code",
   "execution_count": 82,
   "id": "3c44f1f6",
   "metadata": {},
   "outputs": [
    {
     "name": "stdout",
     "output_type": "stream",
     "text": [
      "BPE1k Metrics:\n",
      "Precision: 0.00228310502283105\n",
      "Recall: 0.010810810810810811\n",
      "F-score: 0.003770028275212064\n"
     ]
    }
   ],
   "source": [
    "p_bpe1k, r_bpe1k, f_bpe1k = calculate_metrics(Soln_Tokens,Model_Tokens_BPE_1k)\n",
    "print(\"BPE1k Metrics:\")\n",
    "print(f\"Precision: {p_bpe1k}\")\n",
    "print(f\"Recall: {r_bpe1k}\")\n",
    "print(f\"F-score: {f_bpe1k}\")"
   ]
  },
  {
   "cell_type": "code",
   "execution_count": 84,
   "id": "81f112c4",
   "metadata": {},
   "outputs": [
    {
     "name": "stdout",
     "output_type": "stream",
     "text": [
      "BPE2k Metrics:\n",
      "Precision: 0.0038022813688212928\n",
      "Recall: 0.016216216216216217\n",
      "F-score: 0.006160164271047227\n"
     ]
    }
   ],
   "source": [
    "p_bpe2k, r_bpe2k, f_bpe2k = calculate_metrics(Soln_Tokens,Model_Tokens_BPE_2k)\n",
    "print(\"BPE2k Metrics:\")\n",
    "print(f\"Precision: {p_bpe2k}\")\n",
    "print(f\"Recall: {r_bpe2k}\")\n",
    "print(f\"F-score: {f_bpe2k}\")"
   ]
  },
  {
   "cell_type": "code",
   "execution_count": 87,
   "id": "8e9c69fa",
   "metadata": {},
   "outputs": [
    {
     "name": "stdout",
     "output_type": "stream",
     "text": [
      "mBERT1k Metrics:\n",
      "Precision: 0.001594896331738437\n",
      "Recall: 0.005405405405405406\n",
      "F-score: 0.0024630541871921183\n"
     ]
    }
   ],
   "source": [
    "p_bert1k, r_bert1k, f_bert1k = calculate_metrics(Soln_Tokens,Model_Tokens_Bert1k)\n",
    "print(\"mBERT1k Metrics:\")\n",
    "print(f\"Precision: {p_bert1k}\")\n",
    "print(f\"Recall: {r_bert1k}\")\n",
    "print(f\"F-score: {f_bert1k}\")"
   ]
  },
  {
   "cell_type": "code",
   "execution_count": 88,
   "id": "ccbd403d",
   "metadata": {},
   "outputs": [
    {
     "name": "stdout",
     "output_type": "stream",
     "text": [
      "mBERT2k Metrics:\n",
      "Precision: 0.001594896331738437\n",
      "Recall: 0.005405405405405406\n",
      "F-score: 0.0024630541871921183\n"
     ]
    }
   ],
   "source": [
    "p_bert2k, r_bert2k, f_bert2k = calculate_metrics(Soln_Tokens,Model_Tokens_Bert2k)\n",
    "print(\"mBERT2k Metrics:\")\n",
    "print(f\"Precision: {p_bert2k}\")\n",
    "print(f\"Recall: {r_bert2k}\")\n",
    "print(f\"F-score: {f_bert2k}\")"
   ]
  },
  {
   "cell_type": "code",
   "execution_count": 90,
   "id": "940ed964",
   "metadata": {},
   "outputs": [
    {
     "name": "stdout",
     "output_type": "stream",
     "text": [
      "IndicBERT1k Metrics:\n",
      "Precision: 0.001594896331738437\n",
      "Recall: 0.005405405405405406\n",
      "F-score: 0.0024630541871921183\n"
     ]
    }
   ],
   "source": [
    "p_ibert1k, r_ibert1k, f_ibert1k = calculate_metrics(Soln_Tokens,Model_Tokens_IndicBert1k)\n",
    "print(\"IndicBERT1k Metrics:\")\n",
    "print(f\"Precision: {p_ibert1k}\")\n",
    "print(f\"Recall: {r_ibert1k}\")\n",
    "print(f\"F-score: {f_ibert1k}\")"
   ]
  },
  {
   "cell_type": "code",
   "execution_count": 91,
   "id": "fae7afda",
   "metadata": {},
   "outputs": [
    {
     "name": "stdout",
     "output_type": "stream",
     "text": [
      "IndicBERT2k Metrics:\n",
      "Precision: 0.001594896331738437\n",
      "Recall: 0.005405405405405406\n",
      "F-score: 0.0024630541871921183\n"
     ]
    }
   ],
   "source": [
    "p_ibert2k, r_ibert2k, f_ibert2k = calculate_metrics(Soln_Tokens,Model_Tokens_IndicBert2k)\n",
    "print(\"IndicBERT2k Metrics:\")\n",
    "print(f\"Precision: {p_ibert2k}\")\n",
    "print(f\"Recall: {r_ibert2k}\")\n",
    "print(f\"F-score: {f_ibert2k}\")"
   ]
  },
  {
   "cell_type": "code",
   "execution_count": 93,
   "id": "d6ae8d07",
   "metadata": {},
   "outputs": [
    {
     "name": "stdout",
     "output_type": "stream",
     "text": [
      "WhiteSpaceTokenizer Metrics:\n",
      "Precision: 0.009541984732824428\n",
      "Recall: 0.02702702702702703\n",
      "F-score: 0.014104372355430184\n"
     ]
    }
   ],
   "source": [
    "p_WhiteSpaceTokenizer, r_WhiteSpaceTokenizer, f_WhiteSpaceTokenizer = calculate_metrics(Soln_Tokens,Model_Tokens_WhiteSpaceTokenizer)\n",
    "print(\"WhiteSpaceTokenizer Metrics:\")\n",
    "print(f\"Precision: {p_WhiteSpaceTokenizer}\")\n",
    "print(f\"Recall: {r_WhiteSpaceTokenizer}\")\n",
    "print(f\"F-score: {f_WhiteSpaceTokenizer}\")"
   ]
  }
 ],
 "metadata": {
  "kernelspec": {
   "display_name": "Python 3 (ipykernel)",
   "language": "python",
   "name": "python3"
  },
  "language_info": {
   "codemirror_mode": {
    "name": "ipython",
    "version": 3
   },
   "file_extension": ".py",
   "mimetype": "text/x-python",
   "name": "python",
   "nbconvert_exporter": "python",
   "pygments_lexer": "ipython3",
   "version": "3.10.5"
  }
 },
 "nbformat": 4,
 "nbformat_minor": 5
}
